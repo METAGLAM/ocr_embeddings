{
 "cells": [
  {
   "cell_type": "code",
   "execution_count": 1,
   "id": "673a28d6",
   "metadata": {},
   "outputs": [
    {
     "name": "stderr",
     "output_type": "stream",
     "text": [
      "/home/luca.piras/.local/lib/python3.8/site-packages/tqdm/auto.py:22: TqdmWarning: IProgress not found. Please update jupyter and ipywidgets. See https://ipywidgets.readthedocs.io/en/stable/user_install.html\n",
      "  from .autonotebook import tqdm as notebook_tqdm\n",
      "2023-06-30 10:44:53.758019: I tensorflow/core/util/port.cc:110] oneDNN custom operations are on. You may see slightly different numerical results due to floating-point round-off errors from different computation orders. To turn them off, set the environment variable `TF_ENABLE_ONEDNN_OPTS=0`.\n",
      "2023-06-30 10:44:53.839625: I tensorflow/tsl/cuda/cudart_stub.cc:28] Could not find cuda drivers on your machine, GPU will not be used.\n",
      "2023-06-30 10:44:54.039488: I tensorflow/tsl/cuda/cudart_stub.cc:28] Could not find cuda drivers on your machine, GPU will not be used.\n",
      "2023-06-30 10:44:54.040943: I tensorflow/core/platform/cpu_feature_guard.cc:182] This TensorFlow binary is optimized to use available CPU instructions in performance-critical operations.\n",
      "To enable the following instructions: AVX2 AVX512F AVX512_VNNI FMA, in other operations, rebuild TensorFlow with the appropriate compiler flags.\n",
      "2023-06-30 10:44:55.401497: W tensorflow/compiler/tf2tensorrt/utils/py_utils.cc:38] TF-TRT Warning: Could not find TensorRT\n"
     ]
    }
   ],
   "source": [
    "# If it gives some warning, it's normal. It's Tensorflow stuff related to GPU\n",
    "from transformers import pipeline"
   ]
  },
  {
   "cell_type": "markdown",
   "id": "138ef2af",
   "metadata": {},
   "source": [
    "Find models in differen languages here: https://huggingface.co/models?pipeline_tag=fill-mask&sort=downloads"
   ]
  },
  {
   "cell_type": "code",
   "execution_count": 16,
   "id": "5d5519f6",
   "metadata": {},
   "outputs": [],
   "source": [
    "# Load the pre-trained language model\n",
    "# french: camembert-base\n",
    "model_name = \"softcatala/julibert\"\n",
    "model = pipeline(\"fill-mask\", model=model_name, tokenizer=model_name)"
   ]
  },
  {
   "cell_type": "code",
   "execution_count": 17,
   "id": "fd581715",
   "metadata": {},
   "outputs": [],
   "source": [
    "# Define the sentence with the blank\n",
    "sentence = \"\"\"\n",
    "    Hola, bon <mask>, el meu <mask> és Luca, \n",
    "    soc un <mask> de 30 <mask> i visc a la <mask> de Barcelona.\n",
    "\"\"\""
   ]
  },
  {
   "cell_type": "code",
   "execution_count": 18,
   "id": "112148d1",
   "metadata": {},
   "outputs": [
    {
     "name": "stdout",
     "output_type": "stream",
     "text": [
      " amic 0.16333648562431335\n",
      " dia 0.08713331073522568\n",
      " matí 0.034520357847213745\n",
      " estiu 0.02989719621837139\n",
      " temps 0.02958785556256771\n",
      "\n",
      " germà 0.1309020072221756\n",
      " amic 0.12376804649829865\n",
      " fill 0.1202215626835823\n",
      " nom 0.03288900852203369\n",
      " favorit 0.029400937259197235\n",
      "\n",
      " home 0.39218762516975403\n",
      " noi 0.07668938487768173\n",
      " jove 0.04713795334100723\n",
      " nen 0.040985967963933945\n",
      " italià 0.027595672756433487\n",
      "\n",
      " anys 0.9129149317741394\n",
      " dies 0.023102616891264915\n",
      " minuts 0.005540145561099052\n",
      " persones 0.004806444514542818\n",
      " mesos 0.004637019708752632\n",
      "\n",
      " ciutat 0.6689173579216003\n",
      " província 0.09657957404851913\n",
      " Universitat 0.07110385596752167\n",
      " capital 0.03966211900115013\n",
      " Catedral 0.014191357418894768\n",
      "\n"
     ]
    }
   ],
   "source": [
    "# Use the model to predict the missing word\n",
    "results = model(sentence)\n",
    "\n",
    "for i in range(len(results)):\n",
    "    for j in range(len(results[i])):\n",
    "        print(results[i][j]['token_str'], results[i][j]['score'])\n",
    "    print()"
   ]
  },
  {
   "cell_type": "code",
   "execution_count": null,
   "id": "06c3633d",
   "metadata": {},
   "outputs": [],
   "source": []
  }
 ],
 "metadata": {
  "kernelspec": {
   "display_name": "Python 3 (ipykernel)",
   "language": "python",
   "name": "python3"
  },
  "language_info": {
   "codemirror_mode": {
    "name": "ipython",
    "version": 3
   },
   "file_extension": ".py",
   "mimetype": "text/x-python",
   "name": "python",
   "nbconvert_exporter": "python",
   "pygments_lexer": "ipython3",
   "version": "3.8.10"
  }
 },
 "nbformat": 4,
 "nbformat_minor": 5
}
