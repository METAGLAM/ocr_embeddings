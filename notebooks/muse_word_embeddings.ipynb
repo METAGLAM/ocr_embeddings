{
 "cells": [
  {
   "cell_type": "code",
   "execution_count": 44,
   "id": "a9b7a4a3",
   "metadata": {},
   "outputs": [],
   "source": [
    "import io, json, os\n",
    "import numpy as np\n",
    "import pandas as pd\n",
    "from scipy.spatial.distance import cosine\n",
    "from sklearn.feature_extraction.text import TfidfVectorizer"
   ]
  },
  {
   "cell_type": "code",
   "execution_count": 2,
   "id": "80ed94fc",
   "metadata": {},
   "outputs": [],
   "source": [
    "def load_word_embedding(embeddings_path, max_words=1000):\n",
    "    \n",
    "    embeddings_dict = {}\n",
    "    with io.open(embeddings_path, 'r', encoding='utf-8', newline='\\n', errors='ignore') as f:\n",
    "        next(f)\n",
    "        for i, line in enumerate(f):\n",
    "            word, vect = line.rstrip().split(' ', 1)\n",
    "            vect = np.fromstring(vect, sep=' ')\n",
    "            assert word not in embeddings_dict, 'word found twice'\n",
    "            embeddings_dict[word] = vect\n",
    "            \n",
    "            if len(embeddings_dict) == max_words:\n",
    "                break\n",
    "            \n",
    "    return embeddings_dict"
   ]
  },
  {
   "cell_type": "markdown",
   "id": "4df4ad6a",
   "metadata": {},
   "source": [
    "Just a simple demo to see how words in different languages relate to each other."
   ]
  },
  {
   "cell_type": "code",
   "execution_count": 3,
   "id": "c7e8ecbb",
   "metadata": {},
   "outputs": [],
   "source": [
    "def find_nearest_neighbors(source_word, source_language, embeddings_dicts, top_n = 10):\n",
    "    \n",
    "    assert source_word in embeddings_dicts[source_language], 'word not found in source dict'\n",
    "    \n",
    "    source_word_emb = embeddings_dicts[source_language][source_word]\n",
    "    for lang in embeddings_dicts:\n",
    "        if lang != source_language:\n",
    "            scores = {}\n",
    "            for word in embeddings_dicts[lang]:\n",
    "                word_emb = embeddings_dicts[lang][word]\n",
    "                scores[word] = cosine(source_word_emb, word_emb)\n",
    "            \n",
    "            sorted_scores = dict(sorted(scores.items(), key=lambda x: x[1]))\n",
    "            top_neighbors = list(sorted_scores.items())[:top_n]\n",
    "            print(f'\\nTop {top_n} neighbors for {source_word} in {lang}:')\n",
    "            for word, score in top_neighbors:\n",
    "                print(f'{word} ({score})')"
   ]
  },
  {
   "cell_type": "code",
   "execution_count": 4,
   "id": "daa319e8",
   "metadata": {},
   "outputs": [],
   "source": [
    "languages = ['ca', 'es', 'it']"
   ]
  },
  {
   "cell_type": "code",
   "execution_count": 5,
   "id": "d126edb1",
   "metadata": {},
   "outputs": [],
   "source": [
    "vectors_paths = {l : f'../data/external/MUSE_word_embeddings/{l}.txt'\n",
    "                    for l in languages}"
   ]
  },
  {
   "cell_type": "code",
   "execution_count": 6,
   "id": "1ca6a07f",
   "metadata": {},
   "outputs": [],
   "source": [
    "embeddings_dicts = {}\n",
    "for lang in vectors_paths:\n",
    "    embeddings_dicts[lang] = load_word_embedding(vectors_paths[lang], max_words=500)"
   ]
  },
  {
   "cell_type": "code",
   "execution_count": 7,
   "id": "da681331",
   "metadata": {},
   "outputs": [
    {
     "name": "stdout",
     "output_type": "stream",
     "text": [
      "\n",
      "Top 10 neighbors for juliol in es:\n",
      "agosto (0.17332030813134447)\n",
      "septiembre (0.18125311620064632)\n",
      "junio (0.18204914911580217)\n",
      "abril (0.18691855050942652)\n",
      "enero (0.18771206002228202)\n",
      "mayo (0.18822406549705029)\n",
      "diciembre (0.18823122044500762)\n",
      "noviembre (0.19571972482122646)\n",
      "octubre (0.19804523841700405)\n",
      "febrero (0.20352564006130414)\n",
      "\n",
      "Top 10 neighbors for juliol in it:\n",
      "giugno (0.17554887662923357)\n",
      "luglio (0.17773827762604155)\n",
      "maggio (0.17790697095248653)\n",
      "settembre (0.17797054206645002)\n",
      "agosto (0.17797642865963115)\n",
      "marzo (0.1798108860278287)\n",
      "aprile (0.1838171955828738)\n",
      "ottobre (0.18482301804499845)\n",
      "novembre (0.18843932543551611)\n",
      "febbraio (0.195112209575663)\n"
     ]
    }
   ],
   "source": [
    "find_nearest_neighbors('juliol', 'ca', embeddings_dicts)"
   ]
  },
  {
   "cell_type": "markdown",
   "id": "0c5788a3",
   "metadata": {},
   "source": [
    "## Embedding creation"
   ]
  },
  {
   "cell_type": "code",
   "execution_count": 9,
   "id": "8a03af09",
   "metadata": {},
   "outputs": [],
   "source": [
    "with open('../data/interim/ocrs/all_words_Publicacions.json', 'r') as f:\n",
    "    postprocessed_ocrs = json.load(f)"
   ]
  },
  {
   "cell_type": "code",
   "execution_count": 10,
   "id": "36bb4d94",
   "metadata": {},
   "outputs": [],
   "source": [
    "def join_words(postprocessed_ocrs, language='all'):\n",
    "    \n",
    "    texts = []\n",
    "    index_to_publication = {}\n",
    "    for revista in postprocessed_ocrs:\n",
    "        for publication_id in postprocessed_ocrs[revista]:\n",
    "            words = []\n",
    "            if language == 'all':\n",
    "                words = []\n",
    "                for lang in postprocessed_ocrs[revista][publication_id]:\n",
    "                    words.extend(postprocessed_ocrs[revista][publication_id][lang]['existing'])\n",
    "            elif language in postprocessed_ocrs[revista][publication_id]:\n",
    "                words = postprocessed_ocrs[revista][publication_id][language]['existing']\n",
    "            \n",
    "            if len(words) > 0:          \n",
    "                index_to_publication[len(texts)] = f'{revista}_{publication_id}'\n",
    "                text = ' '.join(words)\n",
    "                texts.append(text)\n",
    "    return texts, index_to_publication"
   ]
  },
  {
   "cell_type": "code",
   "execution_count": 11,
   "id": "9b3aebde",
   "metadata": {},
   "outputs": [],
   "source": [
    "def apply_tfidf(texts, index_to_publication, max_df=0.8, min_df=1):\n",
    "    \n",
    "    vectorizer = TfidfVectorizer(max_df=max_df, min_df=min_df)           \n",
    "    tfidf_matrix = vectorizer.fit_transform(texts)\n",
    "    feature_names = vectorizer.get_feature_names()\n",
    "    \n",
    "    word_relevances = {}\n",
    "    for i, tfidf_vector in enumerate(tfidf_matrix):\n",
    "\n",
    "        tfidf_vector = tfidf_vector.toarray().flatten()\n",
    "        sorted_indices = np.argsort(tfidf_vector, axis=None)  \n",
    "        word_relevances[index_to_publication[i]] = {feature_names[index]: tfidf_vector[index] \n",
    "            for index in reversed(sorted_indices) \n",
    "                if (not any(char.isdigit() for char in feature_names[index])) and (tfidf_vector[index]>0)}\n",
    "    \n",
    "    return word_relevances"
   ]
  },
  {
   "cell_type": "markdown",
   "id": "e2034c00",
   "metadata": {},
   "source": [
    "Methods can be:\n",
    "\n",
    "- cross_language: compute frequencies and relevance scores of words regardless of their language, putting them all together\n",
    "- by_language: compute frequencies and relevance scores of words language by language"
   ]
  },
  {
   "cell_type": "code",
   "execution_count": 12,
   "id": "f93050ce",
   "metadata": {},
   "outputs": [],
   "source": [
    "def compute_word_relevances(postprocessed_ocrs, max_df=0.8, min_df=1, \n",
    "                            method='cross_language', languages=['es','ca','it','fr']):\n",
    "    \n",
    "    word_relevances = {}\n",
    "    \n",
    "    texts = {}\n",
    "    if method == 'cross_language':\n",
    "        texts, index_to_publication = join_words(postprocessed_ocrs, 'all')\n",
    "        word_relevances['cross_language'] = apply_tfidf(texts, index_to_publication, max_df=max_df, min_df=min_df)\n",
    "    else:\n",
    "        for lang in languages:\n",
    "            texts, index_to_publication = join_words(postprocessed_ocrs, lang)\n",
    "            word_relevances[lang] = apply_tfidf(texts, index_to_publication, max_df=max_df, min_df=min_df)\n",
    "    \n",
    "    return word_relevances"
   ]
  },
  {
   "cell_type": "code",
   "execution_count": 13,
   "id": "7d2db646",
   "metadata": {},
   "outputs": [],
   "source": [
    "def create_doc_embeddings(postprocessed_ocrs, embeddings_dicts, weight_by_tfidf=True, \n",
    "                          max_df=0.8, min_df=1, tfidf_method='cross_language', \n",
    "                          languages=['es','ca','it','fr']):\n",
    "    \n",
    "    if weight_by_tfidf:\n",
    "        word_relevances = compute_word_relevances(postprocessed_ocrs,\n",
    "                                                  max_df=max_df,\n",
    "                                                  min_df=min_df,\n",
    "                                                  method=tfidf_method,\n",
    "                                                  languages=languages)\n",
    "\n",
    "    doc_embeddings = {}\n",
    "    for revista in postprocessed_ocrs:\n",
    "        for publication_id in postprocessed_ocrs[revista]:\n",
    "            embedding = np.zeros(300)\n",
    "            normalizer = 0\n",
    "            for lang in postprocessed_ocrs[revista][publication_id]:\n",
    "                if lang in embeddings_dicts:\n",
    "                    for word in set(postprocessed_ocrs[revista][publication_id][lang]['existing']):\n",
    "                        if word in embeddings_dicts[lang]:\n",
    "                            if weight_by_tfidf:\n",
    "                                try:\n",
    "                                    weight = word_relevances['cross_language' if tfidf_method == 'cross_language' else lang][f'{revista}_{publication_id}'][word]\n",
    "                                except KeyError:\n",
    "                                    weight = 0\n",
    "                            else:\n",
    "                                weight = 1\n",
    "                                \n",
    "                            embedding += weight * embeddings_dicts[lang][word]\n",
    "                            normalizer += weight\n",
    "            if normalizer > 0:\n",
    "                embedding /= normalizer\n",
    "            doc_embeddings[f'{revista}_{publication_id}'] = embedding\n",
    "            \n",
    "    return doc_embeddings"
   ]
  },
  {
   "cell_type": "code",
   "execution_count": 75,
   "id": "47c753a7",
   "metadata": {},
   "outputs": [],
   "source": [
    "doc_embeddings = create_doc_embeddings(postprocessed_ocrs, embeddings_dicts, weight_by_tfidf=False,\n",
    "                                       tfidf_method='cross_language', max_df=0.8, min_df=3)"
   ]
  },
  {
   "cell_type": "markdown",
   "id": "2cb835c4",
   "metadata": {},
   "source": [
    "## Metadata"
   ]
  },
  {
   "cell_type": "code",
   "execution_count": 76,
   "id": "f438f6dd",
   "metadata": {},
   "outputs": [],
   "source": [
    "revista_title_code = {\n",
    "    991001612299706717: 'instant',\n",
    "    991001624269706717: 'matrencada',\n",
    "    991001732409706717: 'amicarts',\n",
    "    991001813989706717: 'AC',\n",
    "    991002553879706717: 'Fulls grocs',\n",
    "    991003272219706717: 'algol',\n",
    "    991003294699706717: 'anti',\n",
    "    991005036609706717: 'iberia',\n",
    "    991005076959706717: 'esportcat',\n",
    "    991005105169706717: 'helix',\n",
    "    991005119309706717: 'monitor',\n",
    "    991006467819706717: 'arcvoltaic',\n",
    "    991006630279706717: 'themis',\n",
    "    991006631789706717: 'trocos',\n",
    "    991007018719706717: 'unenemicpob',\n",
    "    991010414779706717: 'dauset',\n",
    "    991011072099706717: '391',\n",
    "    991014134819706717: 'Proa',\n",
    "    991017182844906716: 'cobalto49',\n",
    "    991017182846406716: 'cobalto'   \n",
    "}"
   ]
  },
  {
   "cell_type": "code",
   "execution_count": 77,
   "id": "d0bd4d40",
   "metadata": {},
   "outputs": [],
   "source": [
    "selected_subjects = [\n",
    "    'Arquitectura',\n",
    "    'Art modern',\n",
    "    'Arts visuals',\n",
    "    'Avantguarda (Estètica)',\n",
    "    'Catalunya',\n",
    "    'Cultura',\n",
    "    'Dadaisme',\n",
    "    'Espanya',\n",
    "    'Esports',\n",
    "    'Guerra Mundial I, 1914-1918',\n",
    "    'Literatura catalana',\n",
    "    'Literatura francesa',\n",
    "    'Noucentisme (Art)',\n",
    "    'Poesia catalana',\n",
    "    'Poesia francesa',\n",
    "    'Segle XX'\n",
    "]"
   ]
  },
  {
   "cell_type": "code",
   "execution_count": 78,
   "id": "09e62e56",
   "metadata": {},
   "outputs": [
    {
     "data": {
      "text/html": [
       "<div>\n",
       "<style scoped>\n",
       "    .dataframe tbody tr th:only-of-type {\n",
       "        vertical-align: middle;\n",
       "    }\n",
       "\n",
       "    .dataframe tbody tr th {\n",
       "        vertical-align: top;\n",
       "    }\n",
       "\n",
       "    .dataframe thead th {\n",
       "        text-align: right;\n",
       "    }\n",
       "</style>\n",
       "<table border=\"1\" class=\"dataframe\">\n",
       "  <thead>\n",
       "    <tr style=\"text-align: right;\">\n",
       "      <th></th>\n",
       "      <th>MMS Id</th>\n",
       "      <th>URL Catàleg BC</th>\n",
       "      <th>Author (contributor)</th>\n",
       "      <th>Title (Complete)</th>\n",
       "      <th>Uniform Title</th>\n",
       "      <th>Publication Place</th>\n",
       "      <th>Place Code</th>\n",
       "      <th>Publisher</th>\n",
       "      <th>Publication Date</th>\n",
       "      <th>Begin Publication Date</th>\n",
       "      <th>End Publication Date</th>\n",
       "      <th>ISSN</th>\n",
       "      <th>Description</th>\n",
       "      <th>Notes_1</th>\n",
       "      <th>Notes_2</th>\n",
       "      <th>Subjects</th>\n",
       "      <th>Uniform Resource Identifier</th>\n",
       "      <th>title_code</th>\n",
       "      <th>filtered_subjects</th>\n",
       "    </tr>\n",
       "  </thead>\n",
       "  <tbody>\n",
       "    <tr>\n",
       "      <th>0</th>\n",
       "      <td>991001612299706717</td>\n",
       "      <td>https://explora.bnc.cat/permalink/34CSUC_BC/4c...</td>\n",
       "      <td>Biblioteca de Catalunya.; Pérez-Jorbà, J. 1878...</td>\n",
       "      <td>L'Instant [Recurs electrònic] : revue franco-c...</td>\n",
       "      <td>Instant (En línia).</td>\n",
       "      <td>París :</td>\n",
       "      <td>sp</td>\n",
       "      <td>sn</td>\n",
       "      <td>1918-1919</td>\n",
       "      <td>1918</td>\n",
       "      <td>1919</td>\n",
       "      <td>2604-4706; 2479-0710</td>\n",
       "      <td>NaN</td>\n",
       "      <td>Fundada i dirigida per: Joan Pérez-Jorba ; col...</td>\n",
       "      <td>NaN</td>\n",
       "      <td>Avantguarda (Estètica); Literatura catalana; P...</td>\n",
       "      <td>https://arca.bnc.cat/arcabib_pro/ca/consulta/r...</td>\n",
       "      <td>instant</td>\n",
       "      <td>[Avantguarda (Estètica), Catalunya, Literatura...</td>\n",
       "    </tr>\n",
       "    <tr>\n",
       "      <th>1</th>\n",
       "      <td>991001624269706717</td>\n",
       "      <td>https://explora.bnc.cat/permalink/34CSUC_BC/4c...</td>\n",
       "      <td>Biblioteca de Catalunya.; Ateneu Barcelonès.; ...</td>\n",
       "      <td>La Mà trencada [Recurs electrònic] : revista q...</td>\n",
       "      <td>Mà trencada (En línia).</td>\n",
       "      <td>Barcelona :</td>\n",
       "      <td>sp</td>\n",
       "      <td>Edicions Joan Merli</td>\n",
       "      <td>1924-1925</td>\n",
       "      <td>1924</td>\n",
       "      <td>1925</td>\n",
       "      <td>2604-5117; 1695-2960</td>\n",
       "      <td>NaN</td>\n",
       "      <td>Dirigida per: Joan Merli ; col·laboradors: J. ...</td>\n",
       "      <td>NaN</td>\n",
       "      <td>Avantguarda (Estètica); Literatura catalana; P...</td>\n",
       "      <td>https://arca.bnc.cat/arcabib_pro/ca/consulta/r...</td>\n",
       "      <td>matrencada</td>\n",
       "      <td>[Art modern, Avantguarda (Estètica), Catalunya...</td>\n",
       "    </tr>\n",
       "    <tr>\n",
       "      <th>2</th>\n",
       "      <td>991001732409706717</td>\n",
       "      <td>https://explora.bnc.cat/permalink/34CSUC_BC/4c...</td>\n",
       "      <td>Biblioteca de Catalunya.; Barcelona (Catalunya...</td>\n",
       "      <td>L'Amic de les arts [Recurs electrònic] : gaset...</td>\n",
       "      <td>Amic de les arts (Sitges, Catalunya : 1926 : E...</td>\n",
       "      <td>Sitges :</td>\n",
       "      <td>spc</td>\n",
       "      <td>sn</td>\n",
       "      <td>1926-1929</td>\n",
       "      <td>1926</td>\n",
       "      <td>1929</td>\n",
       "      <td>2564-9671; 1135-8270</td>\n",
       "      <td>NaN</td>\n",
       "      <td>Dirigida per: Josep Carbonell i Gener ; col·la...</td>\n",
       "      <td>NaN</td>\n",
       "      <td>Avantguarda (Estètica); Literatura catalana; C...</td>\n",
       "      <td>https://arca.bnc.cat/arcabib_pro/ca/consulta/r...</td>\n",
       "      <td>amicarts</td>\n",
       "      <td>[Avantguarda (Estètica), Catalunya, Literatura...</td>\n",
       "    </tr>\n",
       "    <tr>\n",
       "      <th>3</th>\n",
       "      <td>991001813989706717</td>\n",
       "      <td>https://explora.bnc.cat/permalink/34CSUC_BC/4c...</td>\n",
       "      <td>GATCPAC.; Grupo de Arquitectos y Técnicos Espa...</td>\n",
       "      <td>AC : documentos de actividad contemporánea</td>\n",
       "      <td>NaN</td>\n",
       "      <td>Barcelona, Madrid, San Sebástian :</td>\n",
       "      <td>sp</td>\n",
       "      <td>GATEPAC</td>\n",
       "      <td>1931-1937</td>\n",
       "      <td>1931</td>\n",
       "      <td>1937</td>\n",
       "      <td>1579-1580</td>\n",
       "      <td>25 núm. : il. ; 27 cm</td>\n",
       "      <td>Subtítol del núm. 25 (juny 1937): documents d'...</td>\n",
       "      <td>NaN</td>\n",
       "      <td>Arquitectura; Catalunya; Espanya; Revistes; Ar...</td>\n",
       "      <td>http://hemerotecadigital.bne.es/details.vm?q=i...</td>\n",
       "      <td>AC</td>\n",
       "      <td>[Arquitectura, Catalunya, Espanya]</td>\n",
       "    </tr>\n",
       "    <tr>\n",
       "      <th>4</th>\n",
       "      <td>991002553879706717</td>\n",
       "      <td>https://explora.bnc.cat/permalink/34CSUC_BC/4c...</td>\n",
       "      <td>Col·lecció de Premsa Agustí Pedro Pons (Biblio...</td>\n",
       "      <td>Fulls grocs</td>\n",
       "      <td>NaN</td>\n",
       "      <td>[Barcelona :</td>\n",
       "      <td>spc</td>\n",
       "      <td>sn</td>\n",
       "      <td>1929]</td>\n",
       "      <td>1929</td>\n",
       "      <td>1929</td>\n",
       "      <td>NaN</td>\n",
       "      <td>1 núm. ; 55 cm</td>\n",
       "      <td>Només publiquen un núm.; Col·laboradors: G. Dí...</td>\n",
       "      <td>NaN</td>\n",
       "      <td>Avantguarda (Estètica)--Catalunya--Revistes.</td>\n",
       "      <td>NaN</td>\n",
       "      <td>Fulls grocs</td>\n",
       "      <td>[Avantguarda (Estètica), Catalunya]</td>\n",
       "    </tr>\n",
       "  </tbody>\n",
       "</table>\n",
       "</div>"
      ],
      "text/plain": [
       "               MMS Id                                     URL Catàleg BC  \\\n",
       "0  991001612299706717  https://explora.bnc.cat/permalink/34CSUC_BC/4c...   \n",
       "1  991001624269706717  https://explora.bnc.cat/permalink/34CSUC_BC/4c...   \n",
       "2  991001732409706717  https://explora.bnc.cat/permalink/34CSUC_BC/4c...   \n",
       "3  991001813989706717  https://explora.bnc.cat/permalink/34CSUC_BC/4c...   \n",
       "4  991002553879706717  https://explora.bnc.cat/permalink/34CSUC_BC/4c...   \n",
       "\n",
       "                                Author (contributor)  \\\n",
       "0  Biblioteca de Catalunya.; Pérez-Jorbà, J. 1878...   \n",
       "1  Biblioteca de Catalunya.; Ateneu Barcelonès.; ...   \n",
       "2  Biblioteca de Catalunya.; Barcelona (Catalunya...   \n",
       "3  GATCPAC.; Grupo de Arquitectos y Técnicos Espa...   \n",
       "4  Col·lecció de Premsa Agustí Pedro Pons (Biblio...   \n",
       "\n",
       "                                    Title (Complete)  \\\n",
       "0  L'Instant [Recurs electrònic] : revue franco-c...   \n",
       "1  La Mà trencada [Recurs electrònic] : revista q...   \n",
       "2  L'Amic de les arts [Recurs electrònic] : gaset...   \n",
       "3         AC : documentos de actividad contemporánea   \n",
       "4                                        Fulls grocs   \n",
       "\n",
       "                                       Uniform Title  \\\n",
       "0                                Instant (En línia).   \n",
       "1                            Mà trencada (En línia).   \n",
       "2  Amic de les arts (Sitges, Catalunya : 1926 : E...   \n",
       "3                                                NaN   \n",
       "4                                                NaN   \n",
       "\n",
       "                    Publication Place Place Code            Publisher  \\\n",
       "0                             París :         sp                   sn   \n",
       "1                         Barcelona :         sp  Edicions Joan Merli   \n",
       "2                            Sitges :        spc                   sn   \n",
       "3  Barcelona, Madrid, San Sebástian :         sp              GATEPAC   \n",
       "4                        [Barcelona :        spc                   sn   \n",
       "\n",
       "  Publication Date  Begin Publication Date  End Publication Date  \\\n",
       "0        1918-1919                    1918                  1919   \n",
       "1        1924-1925                    1924                  1925   \n",
       "2        1926-1929                    1926                  1929   \n",
       "3        1931-1937                    1931                  1937   \n",
       "4            1929]                    1929                  1929   \n",
       "\n",
       "                   ISSN            Description  \\\n",
       "0  2604-4706; 2479-0710                    NaN   \n",
       "1  2604-5117; 1695-2960                    NaN   \n",
       "2  2564-9671; 1135-8270                    NaN   \n",
       "3             1579-1580  25 núm. : il. ; 27 cm   \n",
       "4                   NaN         1 núm. ; 55 cm   \n",
       "\n",
       "                                             Notes_1 Notes_2  \\\n",
       "0  Fundada i dirigida per: Joan Pérez-Jorba ; col...     NaN   \n",
       "1  Dirigida per: Joan Merli ; col·laboradors: J. ...     NaN   \n",
       "2  Dirigida per: Josep Carbonell i Gener ; col·la...     NaN   \n",
       "3  Subtítol del núm. 25 (juny 1937): documents d'...     NaN   \n",
       "4  Només publiquen un núm.; Col·laboradors: G. Dí...     NaN   \n",
       "\n",
       "                                            Subjects  \\\n",
       "0  Avantguarda (Estètica); Literatura catalana; P...   \n",
       "1  Avantguarda (Estètica); Literatura catalana; P...   \n",
       "2  Avantguarda (Estètica); Literatura catalana; C...   \n",
       "3  Arquitectura; Catalunya; Espanya; Revistes; Ar...   \n",
       "4       Avantguarda (Estètica)--Catalunya--Revistes.   \n",
       "\n",
       "                         Uniform Resource Identifier   title_code  \\\n",
       "0  https://arca.bnc.cat/arcabib_pro/ca/consulta/r...      instant   \n",
       "1  https://arca.bnc.cat/arcabib_pro/ca/consulta/r...   matrencada   \n",
       "2  https://arca.bnc.cat/arcabib_pro/ca/consulta/r...     amicarts   \n",
       "3  http://hemerotecadigital.bne.es/details.vm?q=i...           AC   \n",
       "4                                                NaN  Fulls grocs   \n",
       "\n",
       "                                   filtered_subjects  \n",
       "0  [Avantguarda (Estètica), Catalunya, Literatura...  \n",
       "1  [Art modern, Avantguarda (Estètica), Catalunya...  \n",
       "2  [Avantguarda (Estètica), Catalunya, Literatura...  \n",
       "3                 [Arquitectura, Catalunya, Espanya]  \n",
       "4                [Avantguarda (Estètica), Catalunya]  "
      ]
     },
     "execution_count": 78,
     "metadata": {},
     "output_type": "execute_result"
    }
   ],
   "source": [
    "metadata_df = pd.read_csv(\"../data/raw/metadata/registres_metaglam_columnes.csv\", \n",
    "                                          delimiter = ';')\n",
    "metadata_df['title_code'] = [revista_title_code[mms_id] for mms_id in metadata_df['MMS Id']]\n",
    "metadata_df['filtered_subjects'] = [[s for s in selected_subjects if s in subs]\n",
    "                                       for subs in metadata_df['Subjects']]\n",
    "metadata_df.head()"
   ]
  },
  {
   "cell_type": "code",
   "execution_count": 79,
   "id": "10ad68ab",
   "metadata": {},
   "outputs": [],
   "source": [
    "subjects_dict = {title: subjects \n",
    "                 for title, subjects in zip(metadata_df['title_code'], metadata_df['filtered_subjects'])}"
   ]
  },
  {
   "cell_type": "markdown",
   "id": "57569ae6",
   "metadata": {},
   "source": [
    "## Tensorboard"
   ]
  },
  {
   "cell_type": "code",
   "execution_count": 80,
   "id": "87355f72",
   "metadata": {},
   "outputs": [],
   "source": [
    "from tensorboard.plugins import projector\n",
    "import tensorflow as tf"
   ]
  },
  {
   "cell_type": "code",
   "execution_count": 81,
   "id": "e59e5ea3",
   "metadata": {},
   "outputs": [],
   "source": [
    "log_dir='../reports/tensorboard/logs/embeddings/'\n",
    "if not os.path.exists(log_dir):\n",
    "    os.makedirs(log_dir)"
   ]
  },
  {
   "cell_type": "code",
   "execution_count": 82,
   "id": "1852daa7",
   "metadata": {},
   "outputs": [],
   "source": [
    "embeddings = []\n",
    "metadata = []\n",
    "with open(os.path.join(log_dir, 'metadata.tsv'), \"w\") as f:\n",
    "    f.write('revista\\tpub_id\\tsubjects\\n')\n",
    "    for k in doc_embeddings:\n",
    "        embeddings.append(doc_embeddings[k])\n",
    "        revista = k.split('_')[0]\n",
    "        pub_id  = k.split('_')[1]\n",
    "        subjects_label = ' '.join(subjects_dict[revista])\n",
    "        f.write(f'{revista}\\t{pub_id}\\t{subjects_label}\\n')"
   ]
  },
  {
   "cell_type": "code",
   "execution_count": 83,
   "id": "3215738a",
   "metadata": {},
   "outputs": [
    {
     "data": {
      "text/plain": [
       "'../reports/tensorboard/logs/embeddings/embedding.ckpt-1'"
      ]
     },
     "execution_count": 83,
     "metadata": {},
     "output_type": "execute_result"
    }
   ],
   "source": [
    "embeddings = np.array(embeddings)\n",
    "weights = tf.Variable(embeddings)\n",
    "checkpoint = tf.train.Checkpoint(embedding=weights)\n",
    "checkpoint.save(os.path.join(log_dir, \"embedding.ckpt\"))"
   ]
  },
  {
   "cell_type": "code",
   "execution_count": 84,
   "id": "cc6f4ec1",
   "metadata": {},
   "outputs": [],
   "source": [
    "config = projector.ProjectorConfig()\n",
    "embedding = config.embeddings.add()\n",
    "# The name of the tensor will be suffixed by `/.ATTRIBUTES/VARIABLE_VALUE`.\n",
    "embedding.tensor_name = \"embedding/.ATTRIBUTES/VARIABLE_VALUE\"\n",
    "embedding.metadata_path = 'metadata.tsv'\n",
    "projector.visualize_embeddings(log_dir, config)"
   ]
  },
  {
   "cell_type": "code",
   "execution_count": 85,
   "id": "b25351dd",
   "metadata": {},
   "outputs": [
    {
     "name": "stdout",
     "output_type": "stream",
     "text": [
      "The tensorboard extension is already loaded. To reload it, use:\n",
      "  %reload_ext tensorboard\n"
     ]
    }
   ],
   "source": [
    "%load_ext tensorboard\n",
    "os.environ['TENSORBOARD_BINARY'] = '/home/luca.piras/.local/bin/tensorboard'"
   ]
  },
  {
   "cell_type": "code",
   "execution_count": 86,
   "id": "794363f0",
   "metadata": {},
   "outputs": [
    {
     "data": {
      "text/plain": [
       "Reusing TensorBoard on port 6006 (pid 17782), started 1:26:34 ago. (Use '!kill 17782' to kill it.)"
      ]
     },
     "metadata": {},
     "output_type": "display_data"
    },
    {
     "data": {
      "text/html": [
       "\n",
       "      <iframe id=\"tensorboard-frame-b3672d34320c6d8f\" width=\"100%\" height=\"800\" frameborder=\"0\">\n",
       "      </iframe>\n",
       "      <script>\n",
       "        (function() {\n",
       "          const frame = document.getElementById(\"tensorboard-frame-b3672d34320c6d8f\");\n",
       "          const url = new URL(\"/\", window.location);\n",
       "          const port = 6006;\n",
       "          if (port) {\n",
       "            url.port = port;\n",
       "          }\n",
       "          frame.src = url;\n",
       "        })();\n",
       "      </script>\n",
       "    "
      ],
      "text/plain": [
       "<IPython.core.display.HTML object>"
      ]
     },
     "metadata": {},
     "output_type": "display_data"
    }
   ],
   "source": [
    "%tensorboard --logdir ../reports/tensorboard/logs/embeddings --bind_all"
   ]
  },
  {
   "cell_type": "code",
   "execution_count": null,
   "id": "c9823771",
   "metadata": {},
   "outputs": [],
   "source": []
  }
 ],
 "metadata": {
  "kernelspec": {
   "display_name": "Python 3 (ipykernel)",
   "language": "python",
   "name": "python3"
  },
  "language_info": {
   "codemirror_mode": {
    "name": "ipython",
    "version": 3
   },
   "file_extension": ".py",
   "mimetype": "text/x-python",
   "name": "python",
   "nbconvert_exporter": "python",
   "pygments_lexer": "ipython3",
   "version": "3.8.10"
  }
 },
 "nbformat": 4,
 "nbformat_minor": 5
}
