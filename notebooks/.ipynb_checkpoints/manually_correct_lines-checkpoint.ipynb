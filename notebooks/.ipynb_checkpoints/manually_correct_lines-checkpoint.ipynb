{
 "cells": [
  {
   "cell_type": "markdown",
   "id": "2c4fd8f9-a54e-4bd6-ba4d-e94bff3296ab",
   "metadata": {},
   "source": [
    "# Manually correct lines"
   ]
  },
  {
   "cell_type": "code",
   "execution_count": 1,
   "id": "70535fc1-8fd5-441e-b6c6-68f272f07a3d",
   "metadata": {},
   "outputs": [],
   "source": [
    "import json"
   ]
  },
  {
   "cell_type": "markdown",
   "id": "78d53068-65e5-4a28-91d2-2c504f607ac7",
   "metadata": {},
   "source": [
    "## Extract"
   ]
  },
  {
   "cell_type": "code",
   "execution_count": 2,
   "id": "6bcb053e-ea50-44b3-9c1f-f7b5a08b6cdf",
   "metadata": {},
   "outputs": [],
   "source": [
    "bloc1 = json.load(open('misspelled_words_bloc1.json', 'r'))\n",
    "bloc2 = json.load(open('misspelled_words_bloc2.json', 'r'))"
   ]
  },
  {
   "cell_type": "markdown",
   "id": "99df064e-3203-4aff-9235-935454a537f0",
   "metadata": {},
   "source": [
    "## Transform"
   ]
  },
  {
   "cell_type": "markdown",
   "id": "a25beeea-836d-4f69-a713-d44751eb8aaa",
   "metadata": {},
   "source": [
    "### Marina"
   ]
  },
  {
   "cell_type": "markdown",
   "id": "1b87e58d-2b72-4c1b-841c-c43a3feadbac",
   "metadata": {},
   "source": [
    "#### Bloc 1"
   ]
  },
  {
   "cell_type": "code",
   "execution_count": 3,
   "id": "f145531c-9682-4b81-a9fb-b92a2e4f2fcf",
   "metadata": {
    "scrolled": true
   },
   "outputs": [
    {
     "data": {
      "text/plain": [
       "[{'original_line': 'per complet al Sans. Arribà a ésser tàïit com',\n",
       "  'processed_line': 'per complet al Sans. Arribà a ésser tàcit com',\n",
       "  'revista': 'esportcat',\n",
       "  'file': '192704114.txt',\n",
       "  'line_num': 1488,\n",
       "  'lang': 'ca'},\n",
       " {'original_line': 'vol dir que Uzcudun hagi de guanyar forço-',\n",
       "  'processed_line': 'vol dir que uzcudun hagi de guanyar forço',\n",
       "  'revista': 'esportcat',\n",
       "  'file': '192703109.txt',\n",
       "  'line_num': 101,\n",
       "  'lang': 'ca'},\n",
       " {'original_line': 'GUEST CHRIMES',\n",
       "  'processed_line': 'Guest Chrimes',\n",
       "  'revista': 'iberia',\n",
       "  'file': '19160350.txt',\n",
       "  'line_num': 1716,\n",
       "  'lang': 'en'},\n",
       " {'original_line': \"sorprendente, 'más que sorprendente, alar\",\n",
       "  'processed_line': 'sorprendente, más que sorprendente, alar',\n",
       "  'revista': 'iberia',\n",
       "  'file': '19150923.txt',\n",
       "  'line_num': 1089,\n",
       "  'lang': 'es'},\n",
       " {'original_line': 'e imputrecible. a U 1·ez protegida con un',\n",
       "  'processed_line': 'e imputrecible. a U 1 ez protegida con un',\n",
       "  'revista': 'AC',\n",
       "  'file': '193206.txt',\n",
       "  'line_num': 1873,\n",
       "  'lang': 'es'},\n",
       " {'original_line': 'Resulta divertido pensar que esos gestos de suave aban',\n",
       "  'processed_line': 'Resulta divertido pensar que esos gestos de suave a ban',\n",
       "  'revista': 'cobalto',\n",
       "  'file': '194702.txt',\n",
       "  'line_num': 1832,\n",
       "  'lang': 'es'},\n",
       " {'original_line': \"aquestes mans faran J11stícia d'ella\",\n",
       "  'processed_line': \"aquestes mans faran Justícia d'ella\",\n",
       "  'revista': 'matrencada',\n",
       "  'file': '1924_12_11_N03.txt',\n",
       "  'line_num': 457,\n",
       "  'lang': 'ca'},\n",
       " {'original_line': \"sari que sovint l'àrbitre Sr. Ribé im\",\n",
       "  'processed_line': \"sari que sovint l'àrbitre Sr. Ribé i\",\n",
       "  'revista': 'esportcat',\n",
       "  'file': '19270299.txt',\n",
       "  'line_num': 1851,\n",
       "  'lang': 'ca'},\n",
       " {'original_line': 'segades en ilur primavera, no restin per',\n",
       "  'processed_line': 'se gades en il ur primavera, no res tin per',\n",
       "  'revista': 'iberia',\n",
       "  'file': '191703103.txt',\n",
       "  'line_num': 1680,\n",
       "  'lang': 'es'},\n",
       " {'original_line': \"pintura pura, d'analitzar l'èmoció\",\n",
       "  'processed_line': \"pintura pura, d'analitzar l'emoció\",\n",
       "  'revista': 'amicarts',\n",
       "  'file': '19280626.txt',\n",
       "  'line_num': 1864,\n",
       "  'lang': 'ca'},\n",
       " {'original_line': \"i l'irresponsable Harry Langdon, absent com una\",\n",
       "  'processed_line': \"i l'irresponsable Henry langdon, absent com una\",\n",
       "  'revista': 'amicarts',\n",
       "  'file': '19290331.txt',\n",
       "  'line_num': 237,\n",
       "  'lang': 'ca'},\n",
       " {'original_line': \"qualsevol ordre d'idees. Aquest detall s'a\",\n",
       "  'processed_line': \"qualsevol ordre d'idees. Aquest detall s'a\",\n",
       "  'revista': 'iberia',\n",
       "  'file': '19150922.txt',\n",
       "  'line_num': 1665,\n",
       "  'lang': 'ca'},\n",
       " {'original_line': '.SEMPRE LLI8. U PIETAT',\n",
       "  'processed_line': '.sempre Lli8. A Pieta',\n",
       "  'revista': 'esportcat',\n",
       "  'file': '192708130.txt',\n",
       "  'line_num': 1146,\n",
       "  'lang': 'en'},\n",
       " {'original_line': 'nats amb el noní de Romania o',\n",
       "  'processed_line': 'nats amb el noní de Romania o',\n",
       "  'revista': 'amicarts',\n",
       "  'file': '19271221.txt',\n",
       "  'line_num': 2195,\n",
       "  'lang': 'ca'},\n",
       " {'original_line': 'tants de la qual són romanesos. Pero els ro',\n",
       "  'processed_line': 'tants de la qual són romanesos. Però els ro',\n",
       "  'revista': 'iberia',\n",
       "  'file': '191704105.txt',\n",
       "  'line_num': 1684,\n",
       "  'lang': 'ca'},\n",
       " {'original_line': \"XVII. En Catalonha la poezia val pas mai al secle setzenc. Son code poetic es enclaus dins VArt de irobar de . d'Oleza. Las obras de P. Serafí e de J. Pujol s'inspiran trop dels espanhols. O pot mensonar encara . de Guis\",\n",
       "  'processed_line': \"Xvii. En Catalonha la poesia val pas mai al segle set zenc. Son code poe tic es esclaus dins Vart de i robar de. d'Oliva. Las obres de M. Serafí e de M. Pujol s'inspira trop dels espanyols. O pot men sonar encara. de Guis\",\n",
       "  'revista': 'amicarts',\n",
       "  'file': '19271221.txt',\n",
       "  'line_num': 510,\n",
       "  'lang': 'ca'},\n",
       " {'original_line': 'FELIX ARRAS i1 Sccieclad. en. Comandite, - Casa fundada en 187',\n",
       "  'processed_line': 'Felix Arras i1 sccieclad. en. Comandita, - Casa fundada en 187',\n",
       "  'revista': 'iberia',\n",
       "  'file': '19160455.txt',\n",
       "  'line_num': 26,\n",
       "  'lang': 'es'}]"
      ]
     },
     "execution_count": 3,
     "metadata": {},
     "output_type": "execute_result"
    }
   ],
   "source": [
    "bloc1[33:50]"
   ]
  },
  {
   "cell_type": "code",
   "execution_count": 4,
   "id": "08d30de5-7793-4ebe-93be-4190592a2beb",
   "metadata": {},
   "outputs": [],
   "source": [
    "bloc1[33]['manually_corrected_line'] = 'per complet al Sans. Arribà a ésser tant com-'\n",
    "bloc1[34]['manually_corrected_line'] = 'vol dir que Uzcudun hagi de guanyar forço-'\n",
    "bloc1[35]['manually_corrected_line'] = 'GUEST & CHRIMES'  # em carrego els &\n",
    "bloc1[36]['manually_corrected_line'] = 'sorprendente, más que sorprendente, alar-'\n",
    "bloc1[37]['manually_corrected_line'] = 'e imputrescible, a su vez protegida con un'\n",
    "bloc1[38]['manually_corrected_line'] = 'Resulta divertido pensar que esos gestos de suave aban-'\n",
    "bloc1[39]['manually_corrected_line'] = \"aquestes mans faran justícia d'ella;\"\n",
    "bloc1[40]['manually_corrected_line'] = \"sari que sovint l'àrbitre Sr. Ribé im-\"\n",
    "bloc1[41]['manually_corrected_line'] = 'segades en llur primavera, no restin per-'\n",
    "bloc1[42]['manually_corrected_line'] = \"pintura pura, d'analitzar l'emoció\"\n",
    "bloc1[43]['manually_corrected_line'] = \"i l'irresponsable Harry Langdon, absent com una\" # noms propis\n",
    "bloc1[44]['manually_corrected_line'] = \"qualsevol ordre d'idees). Aquest detall s'a-\"\n",
    "bloc1[45]['manually_corrected_line'] = 'SEMPRE LLIS QUE NI PINTAT'\n",
    "bloc1[46]['manually_corrected_line'] = 'nats amb el nom de Romania o'\n",
    "bloc1[47]['manually_corrected_line'] = 'tants de la qual són romanesos. Pero els ro-'  # faltes d'ortografia al document original ??\n",
    "bloc1[48]['manually_corrected_line'] = \"XVII. En Catalonha la poezia val pas mai al secle setzenc. Son code poetic es enclaus dins l'Art de trobar de F. d'Oleza. Las obras de P. Serafí e de J.Pujol s'inspiran trop dels espanhols. Om pot mensonar encara F. de Guis-\"\n",
    "bloc1[49]['manually_corrected_line'] = 'FELIX ARRAS Sociedad en Comandita - Casa fundada en 1878'"
   ]
  },
  {
   "cell_type": "markdown",
   "id": "dcc6d5e2-ef70-4cec-8b8a-c7b02817061f",
   "metadata": {},
   "source": [
    "#### Bloc 2"
   ]
  },
  {
   "cell_type": "code",
   "execution_count": 5,
   "id": "e65dd7da-c249-4564-ade4-c55ae3093788",
   "metadata": {
    "scrolled": true
   },
   "outputs": [
    {
     "data": {
      "text/plain": [
       "[{'original_line': 'de 1Mntia.',\n",
       "  'processed_line': 'de 1mntia.',\n",
       "  'revista': 'Vell i nou',\n",
       "  'file': '19170951.pdf.txt',\n",
       "  'line_num': 369,\n",
       "  'lang': 'es'},\n",
       " {'original_line': 'recolzada al coixi.',\n",
       "  'processed_line': 'recolzada al coix i.',\n",
       "  'revista': 'Revista',\n",
       "  'file': '193001-06.pdf.txt',\n",
       "  'line_num': 6162,\n",
       "  'lang': 'ca'},\n",
       " {'original_line': 'LA SI I UACIÓ EL TEATRE A BARCELONA',\n",
       "  'processed_line': 'La Si I Uació El THeatre A Barcelona',\n",
       "  'revista': 'Nova revista',\n",
       "  'file': '19270101.pdf.txt',\n",
       "  'line_num': 2184,\n",
       "  'lang': 'en'},\n",
       " {'original_line': 'fit espirituarque comporta. - R. NEGREBALET.',\n",
       "  'processed_line': 'fit espirituarque comporta. - I. negrebalet.',\n",
       "  'revista': 'Nova revista',\n",
       "  'file': '19270505.pdf.txt',\n",
       "  'line_num': 3298,\n",
       "  'lang': 'ca'},\n",
       " {'original_line': 'tin.g,ut agafa els capítols segiients',\n",
       "  'processed_line': 'tingut agafa els capítols següents',\n",
       "  'revista': 'Revista',\n",
       "  'file': '193001-06.pdf.txt',\n",
       "  'line_num': 12854,\n",
       "  'lang': 'ca'},\n",
       " {'original_line': 'cable a les esferes civils. En la i e a u ra a bé varen trobarse da',\n",
       "  'processed_line': 'cable a les esferes civils. En la i e a u a a bé varen trobar se da',\n",
       "  'revista': 'Nova revista',\n",
       "  'file': '19270909.pdf.txt',\n",
       "  'line_num': 1002,\n",
       "  'lang': 'ca'},\n",
       " {'original_line': \"malgrat i les seves diversitáts, l'exa\",\n",
       "  'processed_line': \"malgrat i les seves diversitats, l'ex\",\n",
       "  'revista': 'Gaseta de les Arts',\n",
       "  'file': '19260447.pdf.txt',\n",
       "  'line_num': 284,\n",
       "  'lang': 'ca'},\n",
       " {'original_line': \"mem que l'educa\",\n",
       "  'processed_line': \"mem que l'educa\",\n",
       "  'revista': 'Gaseta de les Arts',\n",
       "  'file': '19241112.pdf.txt',\n",
       "  'line_num': 342,\n",
       "  'lang': 'ca'},\n",
       " {'original_line': \"del món portats a creure'l molt inge\",\n",
       "  'processed_line': \"del món portats a creure'l molt inge\",\n",
       "  'revista': 'Nova revista',\n",
       "  'file': '19290529.pdf.txt',\n",
       "  'line_num': 2898,\n",
       "  'lang': 'ca'},\n",
       " {'original_line': \"i m'havia impressianat .essent criatura, per\",\n",
       "  'processed_line': \"i m'havia impressionat essent criatura, per\",\n",
       "  'revista': 'Revista',\n",
       "  'file': '193107-12.pdf.txt',\n",
       "  'line_num': 693,\n",
       "  'lang': 'ca'},\n",
       " {'original_line': 'in il A U EA DE A RÀ I ES SEVES A ES',\n",
       "  'processed_line': 'in il A I Ea De A Re I Es Seves A Es',\n",
       "  'revista': 'Nova revista',\n",
       "  'file': '19280214.pdf.txt',\n",
       "  'line_num': 3850,\n",
       "  'lang': 'en'},\n",
       " {'original_line': 'gairebé sempre ho féu cons a espectador. E1 cllntacte',\n",
       "  'processed_line': 'gairebé sempre ho féu cons a espectador. El contacte',\n",
       "  'revista': 'Art junta de museus',\n",
       "  'file': '1934v201.pdf.txt',\n",
       "  'line_num': 513,\n",
       "  'lang': 'ca'},\n",
       " {'original_line': \"cia a la purificació de la pintura A ra són molts els que blasmen l'impressió\",\n",
       "  'processed_line': \"cia a la purificació de la pintura A a són molts els que blasmen l'impressió\",\n",
       "  'revista': 'Nova revista',\n",
       "  'file': '19281123.pdf.txt',\n",
       "  'line_num': 792,\n",
       "  'lang': 'ca'},\n",
       " {'original_line': \"estil entusiasta la seva obra és 'diversa i molt\",\n",
       "  'processed_line': 'estil entusiasta la seva obra és diversa i molt',\n",
       "  'revista': 'Revista',\n",
       "  'file': '19190894.pdf.txt',\n",
       "  'line_num': 1269,\n",
       "  'lang': 'ca'},\n",
       " {'original_line': \"M. Feuillet, de París Miss Alice'\",\n",
       "  'processed_line': 'M. Feuillet, de París Miss Alice',\n",
       "  'revista': 'Gaseta de les Arts',\n",
       "  'file': '19250626.pdf.txt',\n",
       "  'line_num': 105,\n",
       "  'lang': 'fr'},\n",
       " {'original_line': \"d'aqueixa collaboració, limitada a ter\",\n",
       "  'processed_line': \"d'aqueixa col·laboració, limitada a ter\",\n",
       "  'revista': 'Revista',\n",
       "  'file': '192005112.pdf.txt',\n",
       "  'line_num': 2510,\n",
       "  'lang': 'ca'},\n",
       " {'original_line': 'coses hurnils i excelses. Jo, llur pare',\n",
       "  'processed_line': 'coses hurnils i excelses. Jo, llur pare',\n",
       "  'revista': 'Revista',\n",
       "  'file': '193001-06.pdf.txt',\n",
       "  'line_num': 5783,\n",
       "  'lang': 'ca'}]"
      ]
     },
     "execution_count": 5,
     "metadata": {},
     "output_type": "execute_result"
    }
   ],
   "source": [
    "bloc2[34:51]"
   ]
  },
  {
   "cell_type": "code",
   "execution_count": 6,
   "id": "b7d1e919-cc25-4f35-9b5a-4898b9a1b1af",
   "metadata": {},
   "outputs": [],
   "source": [
    "bloc2[34]['manually_corrected_line'] = 'de llàntia.'\n",
    "bloc2[35]['manually_corrected_line'] = 'recolzada al coixí.'\n",
    "bloc2[36]['manually_corrected_line'] = 'LA SITUACIÓ DEL TEATRE A BARCELONA'\n",
    "bloc2[37]['manually_corrected_line'] = 'fit espiritual que comporta. - R. NEGRE-BALET.'  # inicials\n",
    "bloc2[38]['manually_corrected_line'] = 'tingut agafa els capítols següents:'\n",
    "bloc2[39]['manually_corrected_line'] = 'cable a les esferes civils. En la literatura també varen trobar-se da-'  # lletres sueltes\n",
    "bloc2[40]['manually_corrected_line'] = \"malgrat i les seves diversitats, l'exa\"\n",
    "bloc2[41]['manually_corrected_line'] = \"mem que l'educa-\"\n",
    "bloc2[42]['manually_corrected_line'] = \"del món portats a creure'l molt inge-\"\n",
    "bloc2[43]['manually_corrected_line'] = \"i m'havia impressionat essent criatura, per\"\n",
    "bloc2[44]['manually_corrected_line'] = 'AUREA DE SARRÀ I LES SEVES DANSES'\n",
    "bloc2[45]['manually_corrected_line'] = \"gairebé sempre ho féu com a espectador. El contacte\"\n",
    "bloc2[46]['manually_corrected_line'] = \"cia a la purificació de la pintura? Ara són molts els que blasmen l'impressio-\"\n",
    "bloc2[47]['manually_corrected_line'] = 'estil entusiasta la seva obra és diversa i molt'\n",
    "bloc2[48]['manually_corrected_line'] = \"M. Feuillet, de París; Miss Alice\"\n",
    "bloc2[49]['manually_corrected_line'] = \"d'aqueixa col·laboració, limitada a ter-\"\n",
    "bloc2[50]['manually_corrected_line'] = 'coses humils i excelses. Jo, llur pare'"
   ]
  },
  {
   "cell_type": "markdown",
   "id": "909f6d6f-d9fc-45d9-85e6-64207f7b3179",
   "metadata": {},
   "source": [
    "### Jordi"
   ]
  },
  {
   "cell_type": "markdown",
   "id": "8e558a0a-ad8c-48bb-bf28-acfac7bd6da6",
   "metadata": {},
   "source": [
    "#### Bloc 1"
   ]
  },
  {
   "cell_type": "code",
   "execution_count": 7,
   "id": "27d56c28-724b-45ea-9bc3-fdc375a107d6",
   "metadata": {
    "scrolled": true
   },
   "outputs": [
    {
     "data": {
      "text/plain": [
       "[{'original_line': 'A aquesta paraula',\n",
       "  'processed_line': 'A aquesta paraula',\n",
       "  'revista': 'amicarts',\n",
       "  'file': '19280424.txt',\n",
       "  'line_num': 1270,\n",
       "  'lang': 'ca'},\n",
       " {'original_line': 'sólo mediante el arte de Cassadó nos emo',\n",
       "  'processed_line': 'sólo mediante el arte de Cassadó nos e mo',\n",
       "  'revista': 'themis',\n",
       "  'file': '19151109.txt',\n",
       "  'line_num': 258,\n",
       "  'lang': 'es'},\n",
       " {'original_line': 'letisme del F. C. Badalona i un brillant',\n",
       "  'processed_line': 'let isme del S. A. Badalona i un brillant',\n",
       "  'revista': 'esportcat',\n",
       "  'file': '192708131.txt',\n",
       "  'line_num': 690,\n",
       "  'lang': 'ca'},\n",
       " {'original_line': 'quals la sang celta excdleix i que valen per la conversi6',\n",
       "  'processed_line': 'quals la sang celta excedeix i que valen per la conversi6',\n",
       "  'revista': 'monitor',\n",
       "  'file': '19210505.txt',\n",
       "  'line_num': 2261,\n",
       "  'lang': 'ca'},\n",
       " {'original_line': \"als altres clubs catalans, ja que tqts, per tro-Heu's ací el resultat:\",\n",
       "  'processed_line': \"als altres clubs catalans, ja que tots, per tro-heu's ací el resultat:\",\n",
       "  'revista': 'esportcat',\n",
       "  'file': '192702101.txt',\n",
       "  'line_num': 892,\n",
       "  'lang': 'ca'},\n",
       " {'original_line': \"Senyor Inspector Us preguem dc prendre coneixença, si us plau, dc la circular adjunta, destinada als membres de l'Ensenyament dc les nostres regions. Qualsevulla que sia vostre país d'origen, o la vostra opinió en la matèria, ens permetem de cridar vostra atenció sobre el nombre i la qualitat dels membres del nostre Comitè d'acció i sobre la urgència del problema que volem resoldre. A despit de les persecucions dc les quals fou objecte, la Llengua d'Oc ha romàs l'idioma habitual dc les poblacions de quasi la meitat de la França. Fa més dc mig segle, que aquestes poblacions han après, de mica cn mica, que llur parlar no és un vil patuès, ans bé una llengua dotada d'una rica literatura. Tot amb tot, però, a conseqüència d'habituds preses sota règims d'una altra edat, l'Escola continua negant o combatent aquesta realitat ben viva. Aix ò constitueix com una opressió indigna d'una nació lliure. L'hos\",\n",
       "  'processed_line': \"Senyor Inspector Us preguem dc prendre coneixença, si us plau, dc la circular adjunta, destinada als membres de l'Ensenyament dc les nostres regions. Qualsevulla que sia vostre país d'origen, o la vostra opinió en la matèria, ens permetem de cridar vostra atenció sobre el nombre i la qualitat dels membres del nostre Comitè d'acció i sobre la urgència del problema que volem resoldre. A despit de les persecucions dc les quals fou objecte, la Llengua d'Oc ha romàs l'idioma habitual dc les poblacions de quasi la meitat de la França. Fa més dc mig segle, que aquestes poblacions han après, de mica en mica, que llur parlar no és un vil patuès, ans bé una llengua dotada d'una rica literatura. Tot amb tot, però, a conseqüència d'habituds preses sota règims d'una altra edat, l'Escola continua negant o combatent aquesta realitat ben viva. Aix i constitueix com una opressió indigna d'una nació lliure. L'h os\",\n",
       "  'revista': 'amicarts',\n",
       "  'file': '19271221.txt',\n",
       "  'line_num': 3775,\n",
       "  'lang': 'ca'},\n",
       " {'original_line': 'servado en esta gaerra que todo propósito',\n",
       "  'processed_line': 'ser vado en esta ga erra que todo propósito',\n",
       "  'revista': 'iberia',\n",
       "  'file': '19160661.txt',\n",
       "  'line_num': 1947,\n",
       "  'lang': 'es'},\n",
       " {'original_line': \"l'impensat atac, on ha vist N'À.\",\n",
       "  'processed_line': \"l'impensat atac, on ha vist N'A.\",\n",
       "  'revista': 'amicarts',\n",
       "  'file': '19271120.txt',\n",
       "  'line_num': 1270,\n",
       "  'lang': 'ca'},\n",
       " {'original_line': 'preeminent dins el panorama ar',\n",
       "  'processed_line': 'preeminent dins el panorama a',\n",
       "  'revista': 'amicarts',\n",
       "  'file': '19270110.txt',\n",
       "  'line_num': 1677,\n",
       "  'lang': 'ca'},\n",
       " {'original_line': 'lencia dançava en el Teatro del Prado',\n",
       "  'processed_line': 'vencia dançava en el Teatre del Prado',\n",
       "  'revista': 'themis',\n",
       "  'file': '19150906.txt',\n",
       "  'line_num': 1039,\n",
       "  'lang': 'ca'},\n",
       " {'original_line': 'dugues delicades poesfes del séu primer lli',\n",
       "  'processed_line': 'dugues delicades poesies del seu primer lli',\n",
       "  'revista': 'themis',\n",
       "  'file': '19150702.txt',\n",
       "  'line_num': 948,\n",
       "  'lang': 'ca'},\n",
       " {'original_line': \"actualment l'espectacle fastigós de la més abjecta senectud.\",\n",
       "  'processed_line': \"actualment l'espectacle fastigós de la més abjecta senectut.\",\n",
       "  'revista': 'Fulls grocs',\n",
       "  'file': '19291201.txt',\n",
       "  'line_num': 121,\n",
       "  'lang': 'ca'},\n",
       " {'original_line': 'íòra la llei, afegiria encara avui Sant Pau.',\n",
       "  'processed_line': 'ara la llei, afegiria encara avui Sant Pau.',\n",
       "  'revista': 'unenemicpob',\n",
       "  'file': '19170402.txt',\n",
       "  'line_num': 202,\n",
       "  'lang': 'ca'},\n",
       " {'original_line': 'se había producido en él ese extrano fenó',\n",
       "  'processed_line': 'se había producido en él ese ext rano fe nó',\n",
       "  'revista': 'iberia',\n",
       "  'file': '19150716.txt',\n",
       "  'line_num': 2051,\n",
       "  'lang': 'es'},\n",
       " {'original_line': 'meras ganancias. Se dice que fué por consejo del misrno',\n",
       "  'processed_line': 'meras ganancias. Se dice que fué por consejo del misino',\n",
       "  'revista': 'cobalto',\n",
       "  'file': '194703.txt',\n",
       "  'line_num': 211,\n",
       "  'lang': 'es'},\n",
       " {'original_line': 'de un pueblo maestro de virtud civil y,pro',\n",
       "  'processed_line': 'de un pueblo maestro de virtud civil y pro',\n",
       "  'revista': 'iberia',\n",
       "  'file': '19150819.txt',\n",
       "  'line_num': 359,\n",
       "  'lang': 'es'}]"
      ]
     },
     "execution_count": 7,
     "metadata": {},
     "output_type": "execute_result"
    }
   ],
   "source": [
    "bloc1[16:32]"
   ]
  },
  {
   "cell_type": "code",
   "execution_count": 8,
   "id": "56d32a74-c26d-44a4-8f76-00b2dca0c25d",
   "metadata": {},
   "outputs": [],
   "source": [
    "bloc1[16]['manually_corrected_line'] = 'A aquesta paraula'\n",
    "# sólo mediante el arte de Cassadó nos emo-\n",
    "# ciono (context)\n",
    "bloc1[17]['manually_corrected_line'] = 'sólo mediante el arte de Cassadó nos emo-'\n",
    "# ... d'at- (context)\n",
    "# letisme del F. C. Badalona i un brillant\n",
    "bloc1[18]['manually_corrected_line'] = 'letisme del F. C. Badalona i un brillant' \n",
    "# quals la sang celta excel·leix i que valen per la con-\n",
    "# -versió\n",
    "bloc1[19]['manually_corrected_line'] = 'quals la sang celta excel·leix i que valen per la con-'\n",
    "# als altres clubs catalans, ja que tots, per tro-\n",
    "# bar-se (context)\n",
    "bloc1[20]['manually_corrected_line'] = 'als altres clubs catalans, ja que tots, per tro-'\n",
    "# Senyor Inspector:\n",
    "# Us preguem de prendre conei-\n",
    "# xença, si us plau, de la cirular\n",
    "# adjunta, destinada als membres\n",
    "# de l'Ensenyament de les nostres\n",
    "# regions.\n",
    "# Qualsevulla que sia vostre\n",
    "# país d'origien, o a la vora opi-\n",
    "# nió en la matèria, ens perme-\n",
    "# tem de cridar vostre atenció so-\n",
    "# bre el nombre i la qualitat dels\n",
    "# membres del nostre Comitè d'ac-\n",
    "# ció i sobre la urgència del proble-\n",
    "# ma que volem resoldre.\n",
    "# A despit de les persecucions \n",
    "# de les quals fou objecte, la Llen-\n",
    "# gua d'Oc ha romàs l'idioma habi-\n",
    "# tual de les poblacions de quasi la\n",
    "# meitat de la França. Fa més de\n",
    "# mig segle, que aquestes pobla-\n",
    "# cions han après, de mica en mica,\n",
    "# que llur parlar no és un vil pa-\n",
    "# tuès, ans bé una llengua dotada\n",
    "# d'una rica literatura.\n",
    "# Tot amb tot, però, a conse-\n",
    "# qüència d'habituds preses sota rè-\n",
    "# gims d'una altra edat, l'Escola\n",
    "# continua negant o combatent\n",
    "# aquesta realitat ben viva. Això\n",
    "# consistueix com una opressió in-\n",
    "# digna d'una nació lliure. L'hos- (Fi)\n",
    "# titlitat de l'Escola contra la Llen-\n",
    "bloc1[21]['manually_corrected_line'] = \"Senyor Inspector: Us preguem de prendre coneixença, si us plau, \" \\\n",
    "\"de la cirular adjunta, destinada als membres de l'Ensenyament de les nostres regions. \" \\\n",
    "\"Qualsevulla que sia vostre país d'origien, o a la vora opinió n la matèria, ens permetem \" \\\n",
    "\"de cridar vostre atenció sobre el nombre i la qualitat dels membres del nostre Comitè \" \\\n",
    "\"d'actuació i sobre la urgència del problema que volem resoldre. \" \\\n",
    "\"A despit de les persecucions de les quals fou objecte, la Llengua d'Oc ha romàs l'idioma habitual de \" \\\n",
    "\"les poblacions de quasi la meitat de la França. Fa més de mig segla, que aquestes poblacions \"\\\n",
    "\"han aporés, de mica en mica, que llur parlar no és un vil patuès, ans bé una llengua \" \\\n",
    "\"dotada d'una rica literatura. Tot amb tot, però, a conseqüència d'habituds preses sota \" \\\n",
    "\"règims d'una altra edat, l'Escola continua negant o combatent aquesta realitat ben viva.\" \\\n",
    "\"Això consistueix com una opressió indigna d'una nació lliure. L'hos-\"\n",
    "# que consiguan su empeño; pues ya se ha ob- (context)\n",
    "# servado en esta guerra que todo propósito\n",
    "bloc1[22]['manually_corrected_line'] = 'servado en esta guerra que todo propósito'\n",
    "# gències. En defensar-lo contra (context)\n",
    "# l'impensat atac, ¿on ha vist N'A.\n",
    "# Esclasans que jo compartís les se- (context)\n",
    "# ves teories artístiques? (context)\n",
    "bloc1[23]['manually_corrected_line'] = \"l'impensat atac, ¿on ha vist N'A.\"\n",
    "# Léger - el qual ocupa un lloc (context)\n",
    "# preeminent dins el panorama ar-\n",
    "# tístic francès, i la influència del (context)\n",
    "bloc1[24]['manually_corrected_line'] = 'preeminent dins el panorama ar-'\n",
    "# A la nit del mateix diumenge, Tórtola Va- (context)\n",
    "# lencia dançava en el \"Teatro del Prado\";\n",
    "bloc1[25]['manually_corrected_line'] = 'lencia dançava en el \"Teatro del Prado\";'\n",
    "# Mercure de France), copiem a punt seguit (context)\n",
    "# dugues delicades poesíes del séu primer lli-\n",
    "# bre Canciones de la vida (1904), perque aixís (context)\n",
    "bloc1[26]['manually_corrected_line'] = 'dugues delicades poesíes del séu primer lli-'\n",
    "# més repugnant dels nostres repapiejadors, i ens ofereix (context)\n",
    "# actualment l'espectacle fastigós de la més abjecta se-\n",
    "# nectud. Judicada insuficient la seva secció de la Veu (context)\n",
    "bloc1[27]['manually_corrected_line'] = \"actualment l'espectacle fastigós de la més abjecta se-\"\n",
    "bloc1[28]['manually_corrected_line'] = 'fòra la llei, afegiria encara avui Sant Pau.'\n",
    "# aun no era germanófilo, es decir, aun no (context)\n",
    "# se había producido en él ese extraño fenó-\n",
    "# meno-observado en muchos escritories- (context)\n",
    "bloc1[29]['manually_corrected_line'] = 'se había producido en él ese extraño fenó-'\n",
    "bloc1[30]['manually_corrected_line'] = 'meras ganancias. Se dice que fué por consejo del mismo'\n",
    "# diseminar por Europa los restos dolientes (context)\n",
    "# de un pueblo maestro de virtud civil y pro-\n",
    "# fesor de vida ciudadana, y después de todo (context)\n",
    "bloc1[31]['manually_corrected_line'] = 'de un pueblo maestro de virtud civil y pro-'\n",
    "bloc1[32]['manually_corrected_line'] = 'aleccionan.'"
   ]
  },
  {
   "cell_type": "markdown",
   "id": "8c55395b-cff0-4f8a-8728-3295431921bc",
   "metadata": {},
   "source": [
    "#### Bloc 2"
   ]
  },
  {
   "cell_type": "code",
   "execution_count": 9,
   "id": "f6f7ab20-a868-4feb-b6b7-7f24726e820d",
   "metadata": {},
   "outputs": [
    {
     "data": {
      "text/plain": [
       "{'original_line': 'tendenci.s,',\n",
       " 'processed_line': 'tendenciós,',\n",
       " 'revista': 'Revista',\n",
       " 'file': '19170641.pdf.txt',\n",
       " 'line_num': 177,\n",
       " 'lang': 'ca'}"
      ]
     },
     "execution_count": 9,
     "metadata": {},
     "output_type": "execute_result"
    }
   ],
   "source": [
    "# 25 is missing\n",
    "bloc2[17:33]"
   ]
  },
  {
   "cell_type": "code",
   "execution_count": null,
   "id": "eab9371a-cc3e-4e1c-a2ef-b87864e2ed5c",
   "metadata": {},
   "outputs": [],
   "source": [
    "# records, fugiu: -font freda, edra enrama- (context)\n",
    "# da: -perque importuns a mon esprit ve-\n",
    "# niu? -D'amor m'haveu clavada, -Ores, (context)\n",
    "bloc2[17]['manually_corrected_line'] = 'da: -perque importuns a mon esprit ve-'\n",
    "bloc2[18]['manually_corrected_line'] = 'escrits en castellà i que més venda assolien, hi'\n",
    "# DR. PEARSON. El projecte, d'una elegant so- (context)\n",
    "# brietat, és de la casa Lena S. A. L'escultura\n",
    "bloc2[19]['manually_corrected_line'] = \"brietat, és de la casa Lena S. A. L'escultura\"\n",
    "# no conegués els originals no ho po-\n",
    "# saria en dubte. La llur característica (context)\n",
    "bloc2[20]['manually_corrected_line'] = 'no conegués els originals no ho po-'\n",
    "bloc2[21]['manually_corrected_line'] = \"Musa i copsar-ne d'una peça les irradiacions per\"\n",
    "# la Revolució i les dlarreres de l'Imperi. En Bar- (context)\n",
    "# rera i l'Husson les posen als seus aparadors, o\n",
    "bloc2[22]['manually_corrected_line'] = \"rera i l'Husson les posen als seus aparadors, o\"\n",
    "# niat imperi intel·lectual-i, per conseqüen- (context)\n",
    "# cia, material-sobre les altres nacionalitats\n",
    "bloc2[23]['manually_corrected_line'] = 'cia, material-sobre les altres nacionalitats'\n",
    "bloc2[24]['manually_corrected_line'] = \"l'art greco-búdic que floreix en la regió del NO. de l'Indostan, el Gandara\"\n",
    "# No l'he trobat\n",
    "bloc2[25]['manually_corrected_line'] = None\n",
    "bloc2[26]['manually_corrected_line'] = '2.ª Els pessebres, els autors dels'\n",
    "bloc2[27]['manually_corrected_line'] = 'nen, no és això?, manat en substitució, manat'\n",
    "bloc2[28]['manually_corrected_line'] = 'i Vós, Senyó'\n",
    "bloc2[29]['manually_corrected_line'] = 'assistí, i això produí gran molèstia en el rei.'\n",
    "bloc2[30]['manually_corrected_line'] = 'Telèfon 2091 G.'\n",
    "bloc2[31]['manually_corrected_line'] = 'Llànties · Fanals, etc.'\n",
    "bloc2[32]['manually_corrected_line'] = 'Alemnys aquesta és la pintura que ens escau de fer-ne des de'\n",
    "# marbre. Una simple estela amb una ins- \n",
    "# cripció de caràcters romans, no fóra quel- (context)\n",
    "# com ... (context)\n",
    "bloc2[33]['manually_corrected_line'] = 'marbre. Una simple estela amb una ins-'"
   ]
  },
  {
   "cell_type": "markdown",
   "id": "909806c3-a93f-44fc-a3b4-b3c78189a6c5",
   "metadata": {},
   "source": [
    "### Luca"
   ]
  },
  {
   "cell_type": "markdown",
   "id": "502ba23e-7bdb-4cc4-8eee-7a1712e42bdc",
   "metadata": {},
   "source": [
    "#### Bloc 1"
   ]
  },
  {
   "cell_type": "code",
   "execution_count": null,
   "id": "7efe68f5-03ae-445b-9cd3-d7d64b8af8ed",
   "metadata": {},
   "outputs": [],
   "source": [
    "bloc1[0:15]"
   ]
  },
  {
   "cell_type": "code",
   "execution_count": null,
   "id": "ac75823b-48fe-436e-96fc-cd46ccdcb48d",
   "metadata": {},
   "outputs": [],
   "source": [
    "bloc1[0]['manually_corrected_line'] = ''\n",
    "bloc1[1]['manually_corrected_line'] = ''\n",
    "bloc1[2]['manually_corrected_line'] = ''\n",
    "bloc1[3]['manually_corrected_line'] = ''\n",
    "bloc1[4]['manually_corrected_line'] = ''\n",
    "bloc1[5]['manually_corrected_line'] = ''\n",
    "bloc1[6]['manually_corrected_line'] = ''\n",
    "bloc1[7]['manually_corrected_line'] = ''\n",
    "bloc1[8]['manually_corrected_line'] = ''\n",
    "bloc1[9]['manually_corrected_line'] = ''\n",
    "bloc1[10]['manually_corrected_line'] = ''\n",
    "bloc1[11]['manually_corrected_line'] = ''\n",
    "bloc1[12]['manually_corrected_line'] = ''\n",
    "bloc1[13]['manually_corrected_line'] = ''\n",
    "bloc1[14]['manually_corrected_line'] = ''\n",
    "bloc1[15]['manually_corrected_line'] = ''"
   ]
  },
  {
   "cell_type": "markdown",
   "id": "8c82cb2d-f322-433a-b649-6397622cc106",
   "metadata": {},
   "source": [
    "#### Bloc 2"
   ]
  },
  {
   "cell_type": "code",
   "execution_count": null,
   "id": "236d1343-b72c-4edb-a2da-f8a1f59875e0",
   "metadata": {
    "scrolled": true
   },
   "outputs": [],
   "source": [
    "bloc2[0:16]"
   ]
  },
  {
   "cell_type": "code",
   "execution_count": null,
   "id": "7262d2bd-a360-4d47-af35-cc3a054035cd",
   "metadata": {
    "scrolled": true
   },
   "outputs": [],
   "source": [
    "bloc2[0]['manually_corrected_line'] = ''\n",
    "bloc2[1]['manually_corrected_line'] = ''\n",
    "bloc2[2]['manually_corrected_line'] = ''\n",
    "bloc2[3]['manually_corrected_line'] = ''\n",
    "bloc2[4]['manually_corrected_line'] = ''\n",
    "bloc2[5]['manually_corrected_line'] = ''\n",
    "bloc2[6]['manually_corrected_line'] = ''\n",
    "bloc2[7]['manually_corrected_line'] = ''\n",
    "bloc2[8]['manually_corrected_line'] = ''\n",
    "bloc2[9]['manually_corrected_line'] = ''\n",
    "bloc2[10]['manually_corrected_line'] = ''\n",
    "bloc2[11]['manually_corrected_line'] = ''\n",
    "bloc2[12]['manually_corrected_line'] = ''\n",
    "bloc2[13]['manually_corrected_line'] = ''\n",
    "bloc2[14]['manually_corrected_line'] = ''\n",
    "bloc2[15]['manually_corrected_line'] = ''\n",
    "bloc2[16]['manually_corrected_line'] = ''"
   ]
  },
  {
   "cell_type": "markdown",
   "id": "b972b731-0a3a-4976-8705-4963a90c980d",
   "metadata": {},
   "source": [
    "## Load"
   ]
  },
  {
   "cell_type": "markdown",
   "id": "02f20694-ed74-4528-b635-79468c50abc9",
   "metadata": {},
   "source": [
    "#### Bloc 1"
   ]
  },
  {
   "cell_type": "code",
   "execution_count": null,
   "id": "da1ef956-6116-4d6e-b9c4-17ff6575873f",
   "metadata": {},
   "outputs": [],
   "source": [
    "json.dump(bloc1, open('misspelled_words_bloc1_gt.json', 'w'))"
   ]
  },
  {
   "cell_type": "markdown",
   "id": "f16f5a28-1b7c-444d-9386-e6a7896d80e4",
   "metadata": {},
   "source": [
    "#### Bloc 2"
   ]
  },
  {
   "cell_type": "code",
   "execution_count": null,
   "id": "f7745329-6c47-43fb-a31b-8bb56c8a27e1",
   "metadata": {},
   "outputs": [],
   "source": [
    "json.dump(bloc2, open('misspelled_words_bloc2_gt.json', 'w'))"
   ]
  }
 ],
 "metadata": {
  "kernelspec": {
   "display_name": "Python 3 (ipykernel)",
   "language": "python",
   "name": "python3"
  },
  "language_info": {
   "codemirror_mode": {
    "name": "ipython",
    "version": 3
   },
   "file_extension": ".py",
   "mimetype": "text/x-python",
   "name": "python",
   "nbconvert_exporter": "python",
   "pygments_lexer": "ipython3",
   "version": "3.11.4"
  }
 },
 "nbformat": 4,
 "nbformat_minor": 5
}
