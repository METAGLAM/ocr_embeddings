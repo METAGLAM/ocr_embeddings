{
 "cells": [
  {
   "cell_type": "code",
   "execution_count": 1,
   "id": "0a594743-cb62-4106-87b0-b88a56f44a55",
   "metadata": {},
   "outputs": [],
   "source": [
    "import os\n",
    "os.chdir('..')"
   ]
  },
  {
   "cell_type": "code",
   "execution_count": 2,
   "id": "91a80317-972f-4374-b1cd-acc2230f43e6",
   "metadata": {},
   "outputs": [
    {
     "name": "stdout",
     "output_type": "stream",
     "text": [
      "2023-10-19 17:32:07 - INFO - startup.py - initialize_logger: Logger initialized\n"
     ]
    },
    {
     "name": "stderr",
     "output_type": "stream",
     "text": [
      "2023-10-19 17:32:08.121957: I tensorflow/tsl/cuda/cudart_stub.cc:28] Could not find cuda drivers on your machine, GPU will not be used.\n",
      "2023-10-19 17:32:08.431976: I tensorflow/tsl/cuda/cudart_stub.cc:28] Could not find cuda drivers on your machine, GPU will not be used.\n",
      "2023-10-19 17:32:08.432851: I tensorflow/core/platform/cpu_feature_guard.cc:182] This TensorFlow binary is optimized to use available CPU instructions in performance-critical operations.\n",
      "To enable the following instructions: AVX2 FMA, in other operations, rebuild TensorFlow with the appropriate compiler flags.\n",
      "2023-10-19 17:32:09.293257: W tensorflow/compiler/tf2tensorrt/utils/py_utils.cc:38] TF-TRT Warning: Could not find TensorRT\n"
     ]
    }
   ],
   "source": [
    "import numpy as np\n",
    "import pandas as pd\n",
    "\n",
    "from src.data import extract, load\n",
    "from src.models import embedding as embedding_model, utils as model_utils\n",
    "from src.tools.startup import settings\n",
    "from src.tools import utils as tools_utils\n",
    "import tensorflow as tf\n",
    "from tensorboard.plugins import projector"
   ]
  },
  {
   "cell_type": "code",
   "execution_count": 3,
   "id": "21089d4b-bd64-4696-8d77-2a8e755210d1",
   "metadata": {},
   "outputs": [],
   "source": [
    "os.environ['SENTENCE_TRANSFORMERS_HOME'] = './.cache'"
   ]
  },
  {
   "cell_type": "markdown",
   "id": "afaf93f3-9272-4528-9956-93bf9def464d",
   "metadata": {},
   "source": [
    "## Constants"
   ]
  },
  {
   "cell_type": "code",
   "execution_count": 4,
   "id": "d2f34037-9ced-49f1-a1c9-035f0a57befa",
   "metadata": {},
   "outputs": [],
   "source": [
    "# Folders\n",
    "interim_folder = os.path.join(settings['volumes']['interim'])\n",
    "logs_folder = os.path.join(settings['volumes']['logs'], 'embeddings')\n",
    "\n",
    "# Multilingual\n",
    "multilingual = embedding_model.EmbeddingType.multilingual.value\n",
    "muse_languages = settings['embeddings']['muse']['languages']\n",
    "\n",
    "multilingual_transformer = embedding_model.EmbeddingType.multilingual_transformer.value\n",
    "\n",
    "# Separate languages\n",
    "separate_languages = embedding_model.EmbeddingType.separate_languages.value\n",
    "spacy_languages = settings['embeddings']['spacy']['languages']\n",
    "\n",
    "# TF-IDF method\n",
    "tfidf_by_language = embedding_model.TfidfMethod.by_language.value"
   ]
  },
  {
   "cell_type": "markdown",
   "id": "6e4f1218-8543-4d96-a1fb-0ded89af4dc5",
   "metadata": {},
   "source": [
    "## Parameters"
   ]
  },
  {
   "cell_type": "code",
   "execution_count": 5,
   "id": "7428c5df-292f-4b08-80da-465d928a0b3a",
   "metadata": {},
   "outputs": [],
   "source": [
    "filenames = [\n",
    "    os.path.join(interim_folder, 'ocrs', 'all_words_bloc1.json'),\n",
    "    os.path.join(interim_folder, 'ocrs', 'all_words_bloc2.json'),\n",
    "    os.path.join(interim_folder, 'ocrs', 'all_words_bloc2_Revista.json'),\n",
    "    os.path.join(interim_folder, 'ocrs', 'all_words_bloc2_Revista nova.json')\n",
    "]"
   ]
  },
  {
   "cell_type": "markdown",
   "id": "1c3f8b04-ddb0-4d98-8dc2-8f2ccaa0bbd9",
   "metadata": {},
   "source": [
    "## Extract"
   ]
  },
  {
   "cell_type": "code",
   "execution_count": 6,
   "id": "986f1722-c489-4a8a-ac48-bd31828794a4",
   "metadata": {},
   "outputs": [],
   "source": [
    "multilingual_corpus_df = extract.read_processed_ocrs(\n",
    "    muse_languages, filenames)\n",
    "sep_lang_corpus_df = extract.read_processed_ocrs(\n",
    "    spacy_languages, filenames)\n",
    "# TODO: remove for function that extracts full text\n",
    "multilingual_transformer_df = extract.read_processed_ocrs(\n",
    "    spacy_languages, filenames)\n",
    "multilingual_transformer_df['full_text'] = multilingual_transformer_df.ca_text"
   ]
  },
  {
   "cell_type": "markdown",
   "id": "aeb3a830-84d4-4c69-83f5-0ad5b2fa102e",
   "metadata": {},
   "source": [
    "## Transform"
   ]
  },
  {
   "cell_type": "code",
   "execution_count": 7,
   "id": "4d570382-c515-4056-81e4-5cc158b933d9",
   "metadata": {},
   "outputs": [
    {
     "name": "stderr",
     "output_type": "stream",
     "text": [
      "/home/jordi.casalsg@local.eurecat.org/Projects/metaglam/.venv/lib/python3.10/site-packages/tqdm/auto.py:21: TqdmWarning: IProgress not found. Please update jupyter and ipywidgets. See https://ipywidgets.readthedocs.io/en/stable/user_install.html\n",
      "  from .autonotebook import tqdm as notebook_tqdm\n"
     ]
    }
   ],
   "source": [
    "from transformers import pipeline, AutoTokenizer\n",
    "from sentence_transformers import SentenceTransformer, util as st_utils"
   ]
  },
  {
   "cell_type": "code",
   "execution_count": 8,
   "id": "23c2194b-eddd-4023-83b0-2fe71fc20d2b",
   "metadata": {},
   "outputs": [],
   "source": [
    "sequence_len = 10"
   ]
  },
  {
   "cell_type": "code",
   "execution_count": 9,
   "id": "0bec045d-42ab-40ab-b78e-a4902ae7203e",
   "metadata": {},
   "outputs": [],
   "source": [
    "multilingual_transformer_df['texts_chunks'] = multilingual_transformer_df['full_text'].apply(\n",
    "    tools_utils.get_string_chunks, args=(sequence_len, ))"
   ]
  },
  {
   "cell_type": "code",
   "execution_count": 10,
   "id": "f42c7300-aa97-4f4a-971e-d735b4e9c85b",
   "metadata": {},
   "outputs": [
    {
     "data": {
      "text/plain": [
       "['francis ad',\n",
       " 'am abraham',\n",
       " ' alfred ab',\n",
       " 'raham par ',\n",
       " 'oliva vila',\n",
       " 'nova casan',\n",
       " 'ova']"
      ]
     },
     "execution_count": 10,
     "metadata": {},
     "output_type": "execute_result"
    }
   ],
   "source": [
    "multilingual_transformer_df['texts_chunks'].head(10).values[0]"
   ]
  },
  {
   "cell_type": "code",
   "execution_count": 11,
   "id": "1abdf323-c688-43c7-a759-5f7b34ac26eb",
   "metadata": {},
   "outputs": [],
   "source": [
    "texts = multilingual_transformer_df['texts_chunks'].head(10).values"
   ]
  },
  {
   "cell_type": "code",
   "execution_count": 12,
   "id": "dd7f2581-eb5b-4ed2-b1ab-2206998ea32e",
   "metadata": {},
   "outputs": [
    {
     "data": {
      "text/plain": [
       "<transformers.pipelines.feature_extraction.FeatureExtractionPipeline at 0x7f5e92da9ba0>"
      ]
     },
     "execution_count": 12,
     "metadata": {},
     "output_type": "execute_result"
    }
   ],
   "source": [
    "transformer_settings = { \n",
    "    'task': 'feature-extraction',\n",
    "    'tokenizer': 'bert-base-multilingual-cased',\n",
    "    'model': 'bert-base-multilingual-cased',\n",
    "}\n",
    "feature_extraction = pipeline(**transformer_settings)\n",
    "\n",
    "feature_extraction"
   ]
  },
  {
   "cell_type": "code",
   "execution_count": 13,
   "id": "f5656dd3-7a50-44d8-be63-b53e55ae6d07",
   "metadata": {},
   "outputs": [],
   "source": [
    "tokenizer = AutoTokenizer.from_pretrained('bert-base-multilingual-cased')\n",
    "\n",
    "sentence = 'Hola, Que tal?'\n",
    "encoded_seq = tokenizer(sentence)"
   ]
  },
  {
   "cell_type": "code",
   "execution_count": 14,
   "id": "7665de66-6d86-4385-afa4-1eae55cff3ec",
   "metadata": {},
   "outputs": [
    {
     "data": {
      "text/plain": [
       "['Ho', '##la', ',', 'Que', 'tal', '?']"
      ]
     },
     "execution_count": 14,
     "metadata": {},
     "output_type": "execute_result"
    }
   ],
   "source": [
    "tokenizer.tokenize(sentence)"
   ]
  },
  {
   "cell_type": "code",
   "execution_count": 15,
   "id": "d81fa695-3721-4501-83ca-97537e808754",
   "metadata": {},
   "outputs": [
    {
     "data": {
      "text/plain": [
       "{'input_ids': [101, 20220, 10330, 117, 27158, 13675, 136, 102], 'token_type_ids': [0, 0, 0, 0, 0, 0, 0, 0], 'attention_mask': [1, 1, 1, 1, 1, 1, 1, 1]}"
      ]
     },
     "execution_count": 15,
     "metadata": {},
     "output_type": "execute_result"
    }
   ],
   "source": [
    "encoded_seq"
   ]
  },
  {
   "cell_type": "code",
   "execution_count": 62,
   "id": "5862185e-74d5-490e-99c3-c96142f1d925",
   "metadata": {},
   "outputs": [],
   "source": [
    "embeddings = feature_extraction(sentence)"
   ]
  },
  {
   "cell_type": "code",
   "execution_count": 63,
   "id": "3c25c6b4-26fa-4a80-82b8-c66a54329941",
   "metadata": {},
   "outputs": [],
   "source": [
    "embeddings = np.array(embeddings[0])\n",
    "mean_embedding = np.mean(embeddings, axis=0)"
   ]
  },
  {
   "cell_type": "code",
   "execution_count": 64,
   "id": "47b74106-5e35-4611-939b-c3a1737dea82",
   "metadata": {},
   "outputs": [],
   "source": [
    "mean_embedding = mean_embedding.astype('float32')"
   ]
  },
  {
   "cell_type": "code",
   "execution_count": 67,
   "id": "6dcafe57-0e75-4a40-acf4-f68cb1198001",
   "metadata": {},
   "outputs": [
    {
     "name": "stderr",
     "output_type": "stream",
     "text": [
      "No sentence-transformers model found with name ./.cache/bert-base-multilingual-cased. Creating a new one with MEAN pooling.\n"
     ]
    }
   ],
   "source": [
    "model = SentenceTransformer('bert-base-multilingual-cased')"
   ]
  },
  {
   "cell_type": "code",
   "execution_count": 68,
   "id": "82c78daf-f889-4681-ac56-bf1d183ff081",
   "metadata": {},
   "outputs": [],
   "source": [
    "st_embeddings = model.encode(sentence)"
   ]
  },
  {
   "cell_type": "code",
   "execution_count": 73,
   "id": "50ee2551-efbb-4a6d-867b-93224ff5d8f6",
   "metadata": {},
   "outputs": [
    {
     "data": {
      "text/plain": [
       "tensor([[1.0000]])"
      ]
     },
     "execution_count": 73,
     "metadata": {},
     "output_type": "execute_result"
    }
   ],
   "source": [
    "st_utils.cos_sim(mean_embedding, st_embeddings)"
   ]
  },
  {
   "cell_type": "markdown",
   "id": "a569bbed-5156-421f-89fd-54c4c89a1931",
   "metadata": {},
   "source": [
    "### Metadata"
   ]
  },
  {
   "cell_type": "code",
   "execution_count": 7,
   "id": "a5fae019-e602-4fbc-945a-83680ef3d920",
   "metadata": {},
   "outputs": [],
   "source": [
    "# revista_title_code = {\n",
    "#     991001612299706717: 'instant',\n",
    "#     991001624269706717: 'matrencada',\n",
    "#     991001732409706717: 'amicarts',\n",
    "#     991001813989706717: 'AC',\n",
    "#     991002553879706717: 'Fulls grocs',\n",
    "#     991003272219706717: 'algol',\n",
    "#     991003294699706717: 'anti',\n",
    "#     991005036609706717: 'iberia',\n",
    "#     991005076959706717: 'esportcat',\n",
    "#     991005105169706717: 'helix',\n",
    "#     991005119309706717: 'monitor',\n",
    "#     991006467819706717: 'arcvoltaic',\n",
    "#     991006630279706717: 'themis',\n",
    "#     991006631789706717: 'trocos',\n",
    "#     991007018719706717: 'unenemicpob',\n",
    "#     991010414779706717: 'dauset',\n",
    "#     991011072099706717: '391',\n",
    "#     991014134819706717: 'Proa',\n",
    "#     991017182844906716: 'cobalto49',\n",
    "#     991017182846406716: 'cobalto'   \n",
    "# }\n",
    "\n",
    "# selected_subjects = [\n",
    "#     'Arquitectura',\n",
    "#     'Art modern',\n",
    "#     'Arts visuals',\n",
    "#     'Avantguarda (Estètica)',\n",
    "#     'Catalunya',\n",
    "#     'Cultura',\n",
    "#     'Dadaisme',\n",
    "#     'Espanya',\n",
    "#     'Esports',\n",
    "#     'Guerra Mundial I, 1914-1918',\n",
    "#     'Literatura catalana',\n",
    "#     'Literatura francesa',\n",
    "#     'Noucentisme (Art)',\n",
    "#     'Poesia catalana',\n",
    "#     'Poesia francesa',\n",
    "#     'Segle XX'\n",
    "# ]\n",
    "\n",
    "# metadata_df['title_code'] = metadata_df['MMS Id'].map(revista_title_code)\n",
    "# metadata_df['filtered_subjects'] = [[s for s in selected_subjects if s in subs]\n",
    "#                                        for subs in metadata_df['Subjects']]\n",
    "# metadata_df['subject_labels'] = metadata_df.filtered_subjects.str.join(',')\n",
    "\n",
    "# metadata_df.head()"
   ]
  },
  {
   "cell_type": "markdown",
   "id": "8c310221-a138-4b51-a2b5-7a9ff27b6f30",
   "metadata": {},
   "source": [
    "### Compute document embeddings"
   ]
  },
  {
   "cell_type": "markdown",
   "id": "48a96581-be55-4750-a2e1-440b9c1f8822",
   "metadata": {},
   "source": [
    "#### Multilingual"
   ]
  },
  {
   "cell_type": "code",
   "execution_count": 8,
   "id": "592e52c0-afab-44e9-a22f-cd9860c59a61",
   "metadata": {
    "collapsed": true,
    "jupyter": {
     "outputs_hidden": true
    }
   },
   "outputs": [
    {
     "name": "stdout",
     "output_type": "stream",
     "text": [
      "2023-08-16 12:37:32 - INFO - embedding.py - __init__: Running embedding type 'multilingual'...\n",
      "2023-08-16 12:38:12 - INFO - embedding.py - compute_word_relevances: Running by_language for language 'ca'\n",
      "2023-08-16 12:38:12 - INFO - embedding.py - _apply_tfidf: Running TF-IDF...\n",
      "2023-08-16 12:38:15 - INFO - embedding.py - _apply_tfidf: Done.\n",
      "2023-08-16 12:38:15 - INFO - embedding.py - compute_word_relevances: Running by_language for language 'es'\n",
      "2023-08-16 12:38:15 - INFO - embedding.py - _apply_tfidf: Running TF-IDF...\n",
      "2023-08-16 12:38:16 - INFO - embedding.py - _apply_tfidf: Done.\n",
      "2023-08-16 12:38:17 - INFO - embedding.py - compute_word_relevances: Running by_language for language 'fr'\n",
      "2023-08-16 12:38:17 - INFO - embedding.py - _apply_tfidf: Running TF-IDF...\n",
      "2023-08-16 12:38:17 - INFO - embedding.py - _apply_tfidf: Done.\n",
      "2023-08-16 12:38:17 - INFO - embedding.py - compute_word_relevances: Running by_language for language 'it'\n",
      "2023-08-16 12:38:17 - INFO - embedding.py - _apply_tfidf: Running TF-IDF...\n",
      "2023-08-16 12:38:17 - INFO - embedding.py - _apply_tfidf: Done.\n",
      "2023-08-16 12:38:17 - INFO - embedding.py - compute_word_relevances: Done.\n",
      "2023-08-16 12:38:17 - INFO - embedding.py - _compute_cross_language: Computing embedding for document 391_19170202\n",
      "2023-08-16 12:38:17 - INFO - embedding.py - _compute_cross_language: Computing embedding for document 391_19170303\n"
     ]
    },
    {
     "name": "stderr",
     "output_type": "stream",
     "text": [
      "/home/jovyan/work/src/models/embedding.py:431: FutureWarning: The default dtype for empty Series will be 'object' instead of 'float64' in a future version. Specify a dtype explicitly to silence this warning.\n",
      "  split_words = pd.Series(row[split_column])\n",
      "/home/jovyan/work/src/models/embedding.py:431: FutureWarning: The default dtype for empty Series will be 'object' instead of 'float64' in a future version. Specify a dtype explicitly to silence this warning.\n",
      "  split_words = pd.Series(row[split_column])\n",
      "/home/jovyan/work/src/models/embedding.py:431: FutureWarning: The default dtype for empty Series will be 'object' instead of 'float64' in a future version. Specify a dtype explicitly to silence this warning.\n",
      "  split_words = pd.Series(row[split_column])\n"
     ]
    },
    {
     "name": "stdout",
     "output_type": "stream",
     "text": [
      "2023-08-16 12:38:17 - INFO - embedding.py - _compute_cross_language: Computing embedding for document 391_19170605\n"
     ]
    },
    {
     "name": "stderr",
     "output_type": "stream",
     "text": [
      "/home/jovyan/work/src/models/embedding.py:431: FutureWarning: The default dtype for empty Series will be 'object' instead of 'float64' in a future version. Specify a dtype explicitly to silence this warning.\n",
      "  split_words = pd.Series(row[split_column])\n"
     ]
    },
    {
     "name": "stdout",
     "output_type": "stream",
     "text": [
      "2023-08-16 12:38:18 - INFO - embedding.py - _compute_cross_language: Computing embedding for document 391_19170706\n",
      "2023-08-16 12:38:18 - INFO - embedding.py - _compute_cross_language: Computing embedding for document 391_19200312\n"
     ]
    },
    {
     "name": "stderr",
     "output_type": "stream",
     "text": [
      "/home/jovyan/work/src/models/embedding.py:431: FutureWarning: The default dtype for empty Series will be 'object' instead of 'float64' in a future version. Specify a dtype explicitly to silence this warning.\n",
      "  split_words = pd.Series(row[split_column])\n",
      "/home/jovyan/work/src/models/embedding.py:431: FutureWarning: The default dtype for empty Series will be 'object' instead of 'float64' in a future version. Specify a dtype explicitly to silence this warning.\n",
      "  split_words = pd.Series(row[split_column])\n",
      "/home/jovyan/work/src/models/embedding.py:431: FutureWarning: The default dtype for empty Series will be 'object' instead of 'float64' in a future version. Specify a dtype explicitly to silence this warning.\n",
      "  split_words = pd.Series(row[split_column])\n"
     ]
    },
    {
     "name": "stdout",
     "output_type": "stream",
     "text": [
      "2023-08-16 12:38:18 - INFO - embedding.py - _compute_cross_language: Computing embedding for document 391_19200713\n"
     ]
    },
    {
     "name": "stderr",
     "output_type": "stream",
     "text": [
      "/home/jovyan/work/src/models/embedding.py:431: FutureWarning: The default dtype for empty Series will be 'object' instead of 'float64' in a future version. Specify a dtype explicitly to silence this warning.\n",
      "  split_words = pd.Series(row[split_column])\n"
     ]
    },
    {
     "name": "stdout",
     "output_type": "stream",
     "text": [
      "2023-08-16 12:38:18 - INFO - embedding.py - _compute_cross_language: Computing embedding for document 391_19201114\n",
      "2023-08-16 12:38:19 - INFO - embedding.py - _compute_cross_language: Computing embedding for document 391_19240516\n"
     ]
    },
    {
     "name": "stderr",
     "output_type": "stream",
     "text": [
      "/home/jovyan/work/src/models/embedding.py:431: FutureWarning: The default dtype for empty Series will be 'object' instead of 'float64' in a future version. Specify a dtype explicitly to silence this warning.\n",
      "  split_words = pd.Series(row[split_column])\n",
      "/home/jovyan/work/src/models/embedding.py:431: FutureWarning: The default dtype for empty Series will be 'object' instead of 'float64' in a future version. Specify a dtype explicitly to silence this warning.\n",
      "  split_words = pd.Series(row[split_column])\n",
      "/home/jovyan/work/src/models/embedding.py:431: FutureWarning: The default dtype for empty Series will be 'object' instead of 'float64' in a future version. Specify a dtype explicitly to silence this warning.\n",
      "  split_words = pd.Series(row[split_column])\n"
     ]
    },
    {
     "name": "stdout",
     "output_type": "stream",
     "text": [
      "2023-08-16 12:38:19 - INFO - embedding.py - _compute_cross_language: Computing embedding for document 391_19241019\n",
      "2023-08-16 12:38:19 - INFO - embedding.py - _compute_cross_language: Computing embedding for document AC_193101\n"
     ]
    },
    {
     "name": "stderr",
     "output_type": "stream",
     "text": [
      "/home/jovyan/work/src/models/embedding.py:431: FutureWarning: The default dtype for empty Series will be 'object' instead of 'float64' in a future version. Specify a dtype explicitly to silence this warning.\n",
      "  split_words = pd.Series(row[split_column])\n"
     ]
    },
    {
     "name": "stdout",
     "output_type": "stream",
     "text": [
      "2023-08-16 12:38:19 - INFO - embedding.py - _compute_cross_language: Computing embedding for document AC_193102\n",
      "2023-08-16 12:38:19 - INFO - embedding.py - _compute_cross_language: Computing embedding for document AC_193103\n",
      "2023-08-16 12:38:20 - INFO - embedding.py - _compute_cross_language: Computing embedding for document AC_193104\n",
      "2023-08-16 12:38:20 - INFO - embedding.py - _compute_cross_language: Computing embedding for document AC_193205\n",
      "2023-08-16 12:38:20 - INFO - embedding.py - _compute_cross_language: Computing embedding for document AC_193206\n",
      "2023-08-16 12:38:20 - INFO - embedding.py - _compute_cross_language: Computing embedding for document AC_193207\n",
      "2023-08-16 12:38:21 - INFO - embedding.py - _compute_cross_language: Computing embedding for document AC_193208\n",
      "2023-08-16 12:38:21 - INFO - embedding.py - _compute_cross_language: Computing embedding for document AC_193309\n",
      "2023-08-16 12:38:21 - INFO - embedding.py - _compute_cross_language: Computing embedding for document AC_193310\n",
      "2023-08-16 12:38:21 - INFO - embedding.py - _compute_cross_language: Computing embedding for document AC_193311\n",
      "2023-08-16 12:38:21 - INFO - embedding.py - _compute_cross_language: Computing embedding for document AC_193312\n",
      "2023-08-16 12:38:22 - INFO - embedding.py - _compute_cross_language: Computing embedding for document AC_193413\n",
      "2023-08-16 12:38:22 - INFO - embedding.py - _compute_cross_language: Computing embedding for document AC_193414\n",
      "2023-08-16 12:38:22 - INFO - embedding.py - _compute_cross_language: Computing embedding for document AC_193415\n",
      "2023-08-16 12:38:22 - INFO - embedding.py - _compute_cross_language: Computing embedding for document AC_193416\n",
      "2023-08-16 12:38:23 - INFO - embedding.py - _compute_cross_language: Computing embedding for document AC_193517\n",
      "2023-08-16 12:38:23 - INFO - embedding.py - _compute_cross_language: Computing embedding for document AC_193518\n",
      "2023-08-16 12:38:23 - INFO - embedding.py - _compute_cross_language: Computing embedding for document Fulls grocs_19291201\n",
      "2023-08-16 12:38:23 - INFO - embedding.py - _compute_cross_language: Computing embedding for document Proa_Untitled2\n",
      "2023-08-16 12:38:23 - INFO - embedding.py - _compute_cross_language: Computing embedding for document algol_1947\n",
      "2023-08-16 12:38:24 - INFO - embedding.py - _compute_cross_language: Computing embedding for document amicarts_19260401\n",
      "2023-08-16 12:38:24 - INFO - embedding.py - _compute_cross_language: Computing embedding for document amicarts_19260502\n",
      "2023-08-16 12:38:24 - INFO - embedding.py - _compute_cross_language: Computing embedding for document amicarts_19260603\n",
      "2023-08-16 12:38:24 - INFO - embedding.py - _compute_cross_language: Computing embedding for document amicarts_19260704\n",
      "2023-08-16 12:38:24 - INFO - embedding.py - _compute_cross_language: Computing embedding for document amicarts_19260805\n",
      "2023-08-16 12:38:25 - INFO - embedding.py - _compute_cross_language: Computing embedding for document amicarts_19260906\n",
      "2023-08-16 12:38:25 - INFO - embedding.py - _compute_cross_language: Computing embedding for document amicarts_19261007\n",
      "2023-08-16 12:38:25 - INFO - embedding.py - _compute_cross_language: Computing embedding for document amicarts_19261108\n",
      "2023-08-16 12:38:25 - INFO - embedding.py - _compute_cross_language: Computing embedding for document amicarts_19261209\n",
      "2023-08-16 12:38:26 - INFO - embedding.py - _compute_cross_language: Computing embedding for document amicarts_19270110\n",
      "2023-08-16 12:38:26 - INFO - embedding.py - _compute_cross_language: Computing embedding for document amicarts_19270211\n",
      "2023-08-16 12:38:26 - INFO - embedding.py - _compute_cross_language: Computing embedding for document amicarts_19270312\n",
      "2023-08-16 12:38:26 - INFO - embedding.py - _compute_cross_language: Computing embedding for document amicarts_19270413\n",
      "2023-08-16 12:38:27 - INFO - embedding.py - _compute_cross_language: Computing embedding for document amicarts_19270514\n",
      "2023-08-16 12:38:27 - INFO - embedding.py - _compute_cross_language: Computing embedding for document amicarts_19270615\n",
      "2023-08-16 12:38:27 - INFO - embedding.py - _compute_cross_language: Computing embedding for document amicarts_19270716\n",
      "2023-08-16 12:38:27 - INFO - embedding.py - _compute_cross_language: Computing embedding for document amicarts_19270817\n",
      "2023-08-16 12:38:27 - INFO - embedding.py - _compute_cross_language: Computing embedding for document amicarts_19270918\n",
      "2023-08-16 12:38:28 - INFO - embedding.py - _compute_cross_language: Computing embedding for document amicarts_19271019\n",
      "2023-08-16 12:38:28 - INFO - embedding.py - _compute_cross_language: Computing embedding for document amicarts_19271120\n",
      "2023-08-16 12:38:28 - INFO - embedding.py - _compute_cross_language: Computing embedding for document amicarts_19271221\n",
      "2023-08-16 12:38:28 - INFO - embedding.py - _compute_cross_language: Computing embedding for document amicarts_19280222\n",
      "2023-08-16 12:38:29 - INFO - embedding.py - _compute_cross_language: Computing embedding for document amicarts_19280323\n",
      "2023-08-16 12:38:29 - INFO - embedding.py - _compute_cross_language: Computing embedding for document amicarts_19280424\n",
      "2023-08-16 12:38:29 - INFO - embedding.py - _compute_cross_language: Computing embedding for document amicarts_19280525\n",
      "2023-08-16 12:38:29 - INFO - embedding.py - _compute_cross_language: Computing embedding for document amicarts_19280626\n",
      "2023-08-16 12:38:30 - INFO - embedding.py - _compute_cross_language: Computing embedding for document amicarts_19280827\n",
      "2023-08-16 12:38:30 - INFO - embedding.py - _compute_cross_language: Computing embedding for document amicarts_19280928\n",
      "2023-08-16 12:38:30 - INFO - embedding.py - _compute_cross_language: Computing embedding for document amicarts_19281029\n",
      "2023-08-16 12:38:30 - INFO - embedding.py - _compute_cross_language: Computing embedding for document amicarts_19281230\n",
      "2023-08-16 12:38:31 - INFO - embedding.py - _compute_cross_language: Computing embedding for document amicarts_19290331\n",
      "2023-08-16 12:38:31 - INFO - embedding.py - _compute_cross_language: Computing embedding for document anti_19310501\n",
      "2023-08-16 12:38:31 - INFO - embedding.py - _compute_cross_language: Computing embedding for document anti_19310602\n",
      "2023-08-16 12:38:31 - INFO - embedding.py - _compute_cross_language: Computing embedding for document arcvoltaic_19180101\n",
      "2023-08-16 12:38:31 - INFO - embedding.py - _compute_cross_language: Computing embedding for document arcvoltaic_19180101_alta\n",
      "2023-08-16 12:38:32 - INFO - embedding.py - _compute_cross_language: Computing embedding for document cobalto_194701\n",
      "2023-08-16 12:38:32 - INFO - embedding.py - _compute_cross_language: Computing embedding for document cobalto_194702\n",
      "2023-08-16 12:38:32 - INFO - embedding.py - _compute_cross_language: Computing embedding for document cobalto_194703\n",
      "2023-08-16 12:38:32 - INFO - embedding.py - _compute_cross_language: Computing embedding for document cobalto_194804\n",
      "2023-08-16 12:38:33 - INFO - embedding.py - _compute_cross_language: Computing embedding for document cobalto_1948ESPECIAL\n",
      "2023-08-16 12:38:33 - INFO - embedding.py - _compute_cross_language: Computing embedding for document cobalto49_1949\n",
      "2023-08-16 12:38:33 - INFO - embedding.py - _compute_cross_language: Computing embedding for document dauset_19480901\n",
      "2023-08-16 12:38:33 - INFO - embedding.py - _compute_cross_language: Computing embedding for document dauset_19481002\n"
     ]
    },
    {
     "name": "stderr",
     "output_type": "stream",
     "text": [
      "/home/jovyan/work/src/models/embedding.py:431: FutureWarning: The default dtype for empty Series will be 'object' instead of 'float64' in a future version. Specify a dtype explicitly to silence this warning.\n",
      "  split_words = pd.Series(row[split_column])\n",
      "/home/jovyan/work/src/models/embedding.py:431: FutureWarning: The default dtype for empty Series will be 'object' instead of 'float64' in a future version. Specify a dtype explicitly to silence this warning.\n",
      "  split_words = pd.Series(row[split_column])\n"
     ]
    },
    {
     "name": "stdout",
     "output_type": "stream",
     "text": [
      "2023-08-16 12:38:34 - INFO - embedding.py - _compute_cross_language: Computing embedding for document dauset_19481103\n",
      "2023-08-16 12:38:34 - INFO - embedding.py - _compute_cross_language: Computing embedding for document dauset_19481204\n",
      "2023-08-16 12:38:34 - INFO - embedding.py - _compute_cross_language: Computing embedding for document dauset_19490105\n",
      "2023-08-16 12:38:34 - INFO - embedding.py - _compute_cross_language: Computing embedding for document dauset_19490506\n"
     ]
    },
    {
     "name": "stderr",
     "output_type": "stream",
     "text": [
      "/home/jovyan/work/src/models/embedding.py:431: FutureWarning: The default dtype for empty Series will be 'object' instead of 'float64' in a future version. Specify a dtype explicitly to silence this warning.\n",
      "  split_words = pd.Series(row[split_column])\n",
      "/home/jovyan/work/src/models/embedding.py:431: FutureWarning: The default dtype for empty Series will be 'object' instead of 'float64' in a future version. Specify a dtype explicitly to silence this warning.\n",
      "  split_words = pd.Series(row[split_column])\n"
     ]
    },
    {
     "name": "stdout",
     "output_type": "stream",
     "text": [
      "2023-08-16 12:38:34 - INFO - embedding.py - _compute_cross_language: Computing embedding for document dauset_19490607\n",
      "2023-08-16 12:38:35 - INFO - embedding.py - _compute_cross_language: Computing embedding for document dauset_19490708\n"
     ]
    },
    {
     "name": "stderr",
     "output_type": "stream",
     "text": [
      "/home/jovyan/work/src/models/embedding.py:431: FutureWarning: The default dtype for empty Series will be 'object' instead of 'float64' in a future version. Specify a dtype explicitly to silence this warning.\n",
      "  split_words = pd.Series(row[split_column])\n"
     ]
    },
    {
     "name": "stdout",
     "output_type": "stream",
     "text": [
      "2023-08-16 12:38:35 - INFO - embedding.py - _compute_cross_language: Computing embedding for document dauset_19491009\n"
     ]
    },
    {
     "name": "stderr",
     "output_type": "stream",
     "text": [
      "/home/jovyan/work/src/models/embedding.py:431: FutureWarning: The default dtype for empty Series will be 'object' instead of 'float64' in a future version. Specify a dtype explicitly to silence this warning.\n",
      "  split_words = pd.Series(row[split_column])\n"
     ]
    },
    {
     "name": "stdout",
     "output_type": "stream",
     "text": [
      "2023-08-16 12:38:35 - INFO - embedding.py - _compute_cross_language: Computing embedding for document dauset_19500110\n"
     ]
    },
    {
     "name": "stderr",
     "output_type": "stream",
     "text": [
      "/home/jovyan/work/src/models/embedding.py:431: FutureWarning: The default dtype for empty Series will be 'object' instead of 'float64' in a future version. Specify a dtype explicitly to silence this warning.\n",
      "  split_words = pd.Series(row[split_column])\n",
      "/home/jovyan/work/src/models/embedding.py:431: FutureWarning: The default dtype for empty Series will be 'object' instead of 'float64' in a future version. Specify a dtype explicitly to silence this warning.\n",
      "  split_words = pd.Series(row[split_column])\n"
     ]
    },
    {
     "name": "stdout",
     "output_type": "stream",
     "text": [
      "2023-08-16 12:38:35 - INFO - embedding.py - _compute_cross_language: Computing embedding for document dauset_19500311\n",
      "2023-08-16 12:38:36 - INFO - embedding.py - _compute_cross_language: Computing embedding for document dauset_19500412\n",
      "2023-08-16 12:38:36 - INFO - embedding.py - _compute_cross_language: Computing embedding for document dauset_19500513\n"
     ]
    },
    {
     "name": "stderr",
     "output_type": "stream",
     "text": [
      "/home/jovyan/work/src/models/embedding.py:431: FutureWarning: The default dtype for empty Series will be 'object' instead of 'float64' in a future version. Specify a dtype explicitly to silence this warning.\n",
      "  split_words = pd.Series(row[split_column])\n",
      "/home/jovyan/work/src/models/embedding.py:431: FutureWarning: The default dtype for empty Series will be 'object' instead of 'float64' in a future version. Specify a dtype explicitly to silence this warning.\n",
      "  split_words = pd.Series(row[split_column])\n"
     ]
    },
    {
     "name": "stdout",
     "output_type": "stream",
     "text": [
      "2023-08-16 12:38:36 - INFO - embedding.py - _compute_cross_language: Computing embedding for document dauset_19500614\n",
      "2023-08-16 12:38:36 - INFO - embedding.py - _compute_cross_language: Computing embedding for document dauset_19500715\n"
     ]
    },
    {
     "name": "stderr",
     "output_type": "stream",
     "text": [
      "/home/jovyan/work/src/models/embedding.py:431: FutureWarning: The default dtype for empty Series will be 'object' instead of 'float64' in a future version. Specify a dtype explicitly to silence this warning.\n",
      "  split_words = pd.Series(row[split_column])\n",
      "/home/jovyan/work/src/models/embedding.py:431: FutureWarning: The default dtype for empty Series will be 'object' instead of 'float64' in a future version. Specify a dtype explicitly to silence this warning.\n",
      "  split_words = pd.Series(row[split_column])\n",
      "/home/jovyan/work/src/models/embedding.py:431: FutureWarning: The default dtype for empty Series will be 'object' instead of 'float64' in a future version. Specify a dtype explicitly to silence this warning.\n",
      "  split_words = pd.Series(row[split_column])\n"
     ]
    },
    {
     "name": "stdout",
     "output_type": "stream",
     "text": [
      "2023-08-16 12:38:36 - INFO - embedding.py - _compute_cross_language: Computing embedding for document dauset_19500916\n",
      "2023-08-16 12:38:37 - INFO - embedding.py - _compute_cross_language: Computing embedding for document dauset_19501017\n"
     ]
    },
    {
     "name": "stderr",
     "output_type": "stream",
     "text": [
      "/home/jovyan/work/src/models/embedding.py:431: FutureWarning: The default dtype for empty Series will be 'object' instead of 'float64' in a future version. Specify a dtype explicitly to silence this warning.\n",
      "  split_words = pd.Series(row[split_column])\n"
     ]
    },
    {
     "name": "stdout",
     "output_type": "stream",
     "text": [
      "2023-08-16 12:38:37 - INFO - embedding.py - _compute_cross_language: Computing embedding for document dauset_19501118\n",
      "2023-08-16 12:38:37 - INFO - embedding.py - _compute_cross_language: Computing embedding for document dauset_19501219\n"
     ]
    },
    {
     "name": "stderr",
     "output_type": "stream",
     "text": [
      "/home/jovyan/work/src/models/embedding.py:431: FutureWarning: The default dtype for empty Series will be 'object' instead of 'float64' in a future version. Specify a dtype explicitly to silence this warning.\n",
      "  split_words = pd.Series(row[split_column])\n",
      "/home/jovyan/work/src/models/embedding.py:431: FutureWarning: The default dtype for empty Series will be 'object' instead of 'float64' in a future version. Specify a dtype explicitly to silence this warning.\n",
      "  split_words = pd.Series(row[split_column])\n"
     ]
    },
    {
     "name": "stdout",
     "output_type": "stream",
     "text": [
      "2023-08-16 12:38:37 - INFO - embedding.py - _compute_cross_language: Computing embedding for document dauset_19511220\n"
     ]
    },
    {
     "name": "stderr",
     "output_type": "stream",
     "text": [
      "/home/jovyan/work/src/models/embedding.py:431: FutureWarning: The default dtype for empty Series will be 'object' instead of 'float64' in a future version. Specify a dtype explicitly to silence this warning.\n",
      "  split_words = pd.Series(row[split_column])\n"
     ]
    },
    {
     "name": "stdout",
     "output_type": "stream",
     "text": [
      "2023-08-16 12:38:37 - INFO - embedding.py - _compute_cross_language: Computing embedding for document esportcat_19205117\n",
      "2023-08-16 12:38:38 - INFO - embedding.py - _compute_cross_language: Computing embedding for document esportcat_19250401\n",
      "2023-08-16 12:38:38 - INFO - embedding.py - _compute_cross_language: Computing embedding for document esportcat_19250402\n",
      "2023-08-16 12:38:38 - INFO - embedding.py - _compute_cross_language: Computing embedding for document esportcat_19250403\n",
      "2023-08-16 12:38:38 - INFO - embedding.py - _compute_cross_language: Computing embedding for document esportcat_19250404\n",
      "2023-08-16 12:38:39 - INFO - embedding.py - _compute_cross_language: Computing embedding for document esportcat_19250505\n",
      "2023-08-16 12:38:39 - INFO - embedding.py - _compute_cross_language: Computing embedding for document esportcat_19250506\n",
      "2023-08-16 12:38:39 - INFO - embedding.py - _compute_cross_language: Computing embedding for document esportcat_19250507\n",
      "2023-08-16 12:38:39 - INFO - embedding.py - _compute_cross_language: Computing embedding for document esportcat_19250508\n",
      "2023-08-16 12:38:40 - INFO - embedding.py - _compute_cross_language: Computing embedding for document esportcat_19250609\n",
      "2023-08-16 12:38:40 - INFO - embedding.py - _compute_cross_language: Computing embedding for document esportcat_19250610\n",
      "2023-08-16 12:38:40 - INFO - embedding.py - _compute_cross_language: Computing embedding for document esportcat_19250611\n",
      "2023-08-16 12:38:40 - INFO - embedding.py - _compute_cross_language: Computing embedding for document esportcat_19250612\n",
      "2023-08-16 12:38:41 - INFO - embedding.py - _compute_cross_language: Computing embedding for document esportcat_19250713\n",
      "2023-08-16 12:38:41 - INFO - embedding.py - _compute_cross_language: Computing embedding for document esportcat_19250714\n",
      "2023-08-16 12:38:41 - INFO - embedding.py - _compute_cross_language: Computing embedding for document esportcat_19250715\n",
      "2023-08-16 12:38:41 - INFO - embedding.py - _compute_cross_language: Computing embedding for document esportcat_19250716\n",
      "2023-08-16 12:38:42 - INFO - embedding.py - _compute_cross_language: Computing embedding for document esportcat_19250717\n",
      "2023-08-16 12:38:42 - INFO - embedding.py - _compute_cross_language: Computing embedding for document esportcat_19250818\n",
      "2023-08-16 12:38:42 - INFO - embedding.py - _compute_cross_language: Computing embedding for document esportcat_19250819\n",
      "2023-08-16 12:38:42 - INFO - embedding.py - _compute_cross_language: Computing embedding for document esportcat_19250820\n",
      "2023-08-16 12:38:42 - INFO - embedding.py - _compute_cross_language: Computing embedding for document esportcat_19250821\n",
      "2023-08-16 12:38:43 - INFO - embedding.py - _compute_cross_language: Computing embedding for document esportcat_19250922\n",
      "2023-08-16 12:38:43 - INFO - embedding.py - _compute_cross_language: Computing embedding for document esportcat_19250923\n",
      "2023-08-16 12:38:43 - INFO - embedding.py - _compute_cross_language: Computing embedding for document esportcat_19250924\n",
      "2023-08-16 12:38:43 - INFO - embedding.py - _compute_cross_language: Computing embedding for document esportcat_19250925\n",
      "2023-08-16 12:38:44 - INFO - embedding.py - _compute_cross_language: Computing embedding for document esportcat_19250926\n",
      "2023-08-16 12:38:44 - INFO - embedding.py - _compute_cross_language: Computing embedding for document esportcat_19251027\n",
      "2023-08-16 12:38:44 - INFO - embedding.py - _compute_cross_language: Computing embedding for document esportcat_19251028\n",
      "2023-08-16 12:38:44 - INFO - embedding.py - _compute_cross_language: Computing embedding for document esportcat_19251029\n",
      "2023-08-16 12:38:45 - INFO - embedding.py - _compute_cross_language: Computing embedding for document esportcat_19251030\n",
      "2023-08-16 12:38:45 - INFO - embedding.py - _compute_cross_language: Computing embedding for document esportcat_19251131\n",
      "2023-08-16 12:38:45 - INFO - embedding.py - _compute_cross_language: Computing embedding for document esportcat_19251132\n",
      "2023-08-16 12:38:45 - INFO - embedding.py - _compute_cross_language: Computing embedding for document esportcat_19251133\n",
      "2023-08-16 12:38:46 - INFO - embedding.py - _compute_cross_language: Computing embedding for document esportcat_19251134\n",
      "2023-08-16 12:38:46 - INFO - embedding.py - _compute_cross_language: Computing embedding for document esportcat_19251235\n",
      "2023-08-16 12:38:46 - INFO - embedding.py - _compute_cross_language: Computing embedding for document esportcat_19251236\n",
      "2023-08-16 12:38:46 - INFO - embedding.py - _compute_cross_language: Computing embedding for document esportcat_19251237\n",
      "2023-08-16 12:38:47 - INFO - embedding.py - _compute_cross_language: Computing embedding for document esportcat_19251238\n",
      "2023-08-16 12:38:47 - INFO - embedding.py - _compute_cross_language: Computing embedding for document esportcat_19251239\n",
      "2023-08-16 12:38:47 - INFO - embedding.py - _compute_cross_language: Computing embedding for document esportcat_19260140\n",
      "2023-08-16 12:38:47 - INFO - embedding.py - _compute_cross_language: Computing embedding for document esportcat_19260141\n",
      "2023-08-16 12:38:48 - INFO - embedding.py - _compute_cross_language: Computing embedding for document esportcat_19260142\n",
      "2023-08-16 12:38:48 - INFO - embedding.py - _compute_cross_language: Computing embedding for document esportcat_19260143\n",
      "2023-08-16 12:38:48 - INFO - embedding.py - _compute_cross_language: Computing embedding for document esportcat_19260244\n",
      "2023-08-16 12:38:48 - INFO - embedding.py - _compute_cross_language: Computing embedding for document esportcat_19260245\n",
      "2023-08-16 12:38:49 - INFO - embedding.py - _compute_cross_language: Computing embedding for document esportcat_19260246\n",
      "2023-08-16 12:38:49 - INFO - embedding.py - _compute_cross_language: Computing embedding for document esportcat_19260247\n",
      "2023-08-16 12:38:49 - INFO - embedding.py - _compute_cross_language: Computing embedding for document esportcat_19260348\n",
      "2023-08-16 12:38:49 - INFO - embedding.py - _compute_cross_language: Computing embedding for document esportcat_19260349\n",
      "2023-08-16 12:38:50 - INFO - embedding.py - _compute_cross_language: Computing embedding for document esportcat_19260350\n",
      "2023-08-16 12:38:50 - INFO - embedding.py - _compute_cross_language: Computing embedding for document esportcat_19260351\n",
      "2023-08-16 12:38:50 - INFO - embedding.py - _compute_cross_language: Computing embedding for document esportcat_19260352\n",
      "2023-08-16 12:38:50 - INFO - embedding.py - _compute_cross_language: Computing embedding for document esportcat_19260453\n",
      "2023-08-16 12:38:51 - INFO - embedding.py - _compute_cross_language: Computing embedding for document esportcat_19260454\n",
      "2023-08-16 12:38:51 - INFO - embedding.py - _compute_cross_language: Computing embedding for document esportcat_19260455\n",
      "2023-08-16 12:38:51 - INFO - embedding.py - _compute_cross_language: Computing embedding for document esportcat_19260456\n",
      "2023-08-16 12:38:51 - INFO - embedding.py - _compute_cross_language: Computing embedding for document esportcat_19260557\n",
      "2023-08-16 12:38:51 - INFO - embedding.py - _compute_cross_language: Computing embedding for document esportcat_19260558\n",
      "2023-08-16 12:38:52 - INFO - embedding.py - _compute_cross_language: Computing embedding for document esportcat_19260559\n",
      "2023-08-16 12:38:52 - INFO - embedding.py - _compute_cross_language: Computing embedding for document esportcat_19260560\n",
      "2023-08-16 12:38:52 - INFO - embedding.py - _compute_cross_language: Computing embedding for document esportcat_19260561\n",
      "2023-08-16 12:38:52 - INFO - embedding.py - _compute_cross_language: Computing embedding for document esportcat_19260662\n",
      "2023-08-16 12:38:53 - INFO - embedding.py - _compute_cross_language: Computing embedding for document esportcat_19260663\n",
      "2023-08-16 12:38:53 - INFO - embedding.py - _compute_cross_language: Computing embedding for document esportcat_19260664\n",
      "2023-08-16 12:38:53 - INFO - embedding.py - _compute_cross_language: Computing embedding for document esportcat_19260665\n",
      "2023-08-16 12:38:53 - INFO - embedding.py - _compute_cross_language: Computing embedding for document esportcat_19260766\n",
      "2023-08-16 12:38:54 - INFO - embedding.py - _compute_cross_language: Computing embedding for document esportcat_19260767\n",
      "2023-08-16 12:38:54 - INFO - embedding.py - _compute_cross_language: Computing embedding for document esportcat_19260768\n",
      "2023-08-16 12:38:54 - INFO - embedding.py - _compute_cross_language: Computing embedding for document esportcat_19260769\n",
      "2023-08-16 12:38:54 - INFO - embedding.py - _compute_cross_language: Computing embedding for document esportcat_19260870\n",
      "2023-08-16 12:38:54 - INFO - embedding.py - _compute_cross_language: Computing embedding for document esportcat_19260871\n",
      "2023-08-16 12:38:55 - INFO - embedding.py - _compute_cross_language: Computing embedding for document esportcat_19260872\n",
      "2023-08-16 12:38:55 - INFO - embedding.py - _compute_cross_language: Computing embedding for document esportcat_19260873\n",
      "2023-08-16 12:38:55 - INFO - embedding.py - _compute_cross_language: Computing embedding for document esportcat_19260874\n",
      "2023-08-16 12:38:55 - INFO - embedding.py - _compute_cross_language: Computing embedding for document esportcat_19260975\n",
      "2023-08-16 12:38:56 - INFO - embedding.py - _compute_cross_language: Computing embedding for document esportcat_19260976\n",
      "2023-08-16 12:38:56 - INFO - embedding.py - _compute_cross_language: Computing embedding for document esportcat_19260977\n",
      "2023-08-16 12:38:56 - INFO - embedding.py - _compute_cross_language: Computing embedding for document esportcat_19260978\n",
      "2023-08-16 12:38:56 - INFO - embedding.py - _compute_cross_language: Computing embedding for document esportcat_19261183\n",
      "2023-08-16 12:38:56 - INFO - embedding.py - _compute_cross_language: Computing embedding for document esportcat_19261184\n",
      "2023-08-16 12:38:57 - INFO - embedding.py - _compute_cross_language: Computing embedding for document esportcat_19261185\n",
      "2023-08-16 12:38:57 - INFO - embedding.py - _compute_cross_language: Computing embedding for document esportcat_19261186\n",
      "2023-08-16 12:38:57 - INFO - embedding.py - _compute_cross_language: Computing embedding for document esportcat_19261187\n",
      "2023-08-16 12:38:57 - INFO - embedding.py - _compute_cross_language: Computing embedding for document esportcat_19261288\n",
      "2023-08-16 12:38:58 - INFO - embedding.py - _compute_cross_language: Computing embedding for document esportcat_19261289\n",
      "2023-08-16 12:38:58 - INFO - embedding.py - _compute_cross_language: Computing embedding for document esportcat_19261290\n",
      "2023-08-16 12:38:58 - INFO - embedding.py - _compute_cross_language: Computing embedding for document esportcat_19261291\n",
      "2023-08-16 12:38:58 - INFO - embedding.py - _compute_cross_language: Computing embedding for document esportcat_19261292\n",
      "2023-08-16 12:38:59 - INFO - embedding.py - _compute_cross_language: Computing embedding for document esportcat_19270193\n",
      "2023-08-16 12:38:59 - INFO - embedding.py - _compute_cross_language: Computing embedding for document esportcat_19270194\n",
      "2023-08-16 12:38:59 - INFO - embedding.py - _compute_cross_language: Computing embedding for document esportcat_19270195\n",
      "2023-08-16 12:38:59 - INFO - embedding.py - _compute_cross_language: Computing embedding for document esportcat_19270196\n",
      "2023-08-16 12:38:59 - INFO - embedding.py - _compute_cross_language: Computing embedding for document esportcat_19270197\n",
      "2023-08-16 12:39:00 - INFO - embedding.py - _compute_cross_language: Computing embedding for document esportcat_192702100\n",
      "2023-08-16 12:39:00 - INFO - embedding.py - _compute_cross_language: Computing embedding for document esportcat_192702101\n",
      "2023-08-16 12:39:00 - INFO - embedding.py - _compute_cross_language: Computing embedding for document esportcat_192702102\n",
      "2023-08-16 12:39:00 - INFO - embedding.py - _compute_cross_language: Computing embedding for document esportcat_192702103\n",
      "2023-08-16 12:39:01 - INFO - embedding.py - _compute_cross_language: Computing embedding for document esportcat_192702104\n",
      "2023-08-16 12:39:01 - INFO - embedding.py - _compute_cross_language: Computing embedding for document esportcat_19270298\n",
      "2023-08-16 12:39:01 - INFO - embedding.py - _compute_cross_language: Computing embedding for document esportcat_19270299\n",
      "2023-08-16 12:39:01 - INFO - embedding.py - _compute_cross_language: Computing embedding for document esportcat_192703105\n",
      "2023-08-16 12:39:01 - INFO - embedding.py - _compute_cross_language: Computing embedding for document esportcat_192703106\n",
      "2023-08-16 12:39:02 - INFO - embedding.py - _compute_cross_language: Computing embedding for document esportcat_192703107\n",
      "2023-08-16 12:39:02 - INFO - embedding.py - _compute_cross_language: Computing embedding for document esportcat_192703108\n",
      "2023-08-16 12:39:02 - INFO - embedding.py - _compute_cross_language: Computing embedding for document esportcat_192703109\n",
      "2023-08-16 12:39:02 - INFO - embedding.py - _compute_cross_language: Computing embedding for document esportcat_192704110\n",
      "2023-08-16 12:39:03 - INFO - embedding.py - _compute_cross_language: Computing embedding for document esportcat_192704111\n",
      "2023-08-16 12:39:03 - INFO - embedding.py - _compute_cross_language: Computing embedding for document esportcat_192704112\n",
      "2023-08-16 12:39:03 - INFO - embedding.py - _compute_cross_language: Computing embedding for document esportcat_192704113\n",
      "2023-08-16 12:39:03 - INFO - embedding.py - _compute_cross_language: Computing embedding for document esportcat_192704114\n",
      "2023-08-16 12:39:03 - INFO - embedding.py - _compute_cross_language: Computing embedding for document esportcat_192705115\n",
      "2023-08-16 12:39:04 - INFO - embedding.py - _compute_cross_language: Computing embedding for document esportcat_192705116\n",
      "2023-08-16 12:39:04 - INFO - embedding.py - _compute_cross_language: Computing embedding for document esportcat_192705118\n",
      "2023-08-16 12:39:04 - INFO - embedding.py - _compute_cross_language: Computing embedding for document esportcat_192705119\n",
      "2023-08-16 12:39:04 - INFO - embedding.py - _compute_cross_language: Computing embedding for document esportcat_192705120\n",
      "2023-08-16 12:39:05 - INFO - embedding.py - _compute_cross_language: Computing embedding for document esportcat_192706121\n",
      "2023-08-16 12:39:05 - INFO - embedding.py - _compute_cross_language: Computing embedding for document esportcat_192706122\n",
      "2023-08-16 12:39:05 - INFO - embedding.py - _compute_cross_language: Computing embedding for document esportcat_192706123\n",
      "2023-08-16 12:39:05 - INFO - embedding.py - _compute_cross_language: Computing embedding for document esportcat_192706124\n",
      "2023-08-16 12:39:05 - INFO - embedding.py - _compute_cross_language: Computing embedding for document esportcat_192707125\n",
      "2023-08-16 12:39:06 - INFO - embedding.py - _compute_cross_language: Computing embedding for document esportcat_192707126\n",
      "2023-08-16 12:39:06 - INFO - embedding.py - _compute_cross_language: Computing embedding for document esportcat_192707127\n",
      "2023-08-16 12:39:06 - INFO - embedding.py - _compute_cross_language: Computing embedding for document esportcat_192707128\n",
      "2023-08-16 12:39:06 - INFO - embedding.py - _compute_cross_language: Computing embedding for document esportcat_192707129\n",
      "2023-08-16 12:39:07 - INFO - embedding.py - _compute_cross_language: Computing embedding for document esportcat_192708130\n",
      "2023-08-16 12:39:07 - INFO - embedding.py - _compute_cross_language: Computing embedding for document esportcat_192708131\n",
      "2023-08-16 12:39:07 - INFO - embedding.py - _compute_cross_language: Computing embedding for document esportcat_192708132\n",
      "2023-08-16 12:39:07 - INFO - embedding.py - _compute_cross_language: Computing embedding for document esportcat_192709137\n",
      "2023-08-16 12:39:07 - INFO - embedding.py - _compute_cross_language: Computing embedding for document esportcat_192709138\n",
      "2023-08-16 12:39:08 - INFO - embedding.py - _compute_cross_language: Computing embedding for document helix_19290201\n",
      "2023-08-16 12:39:08 - INFO - embedding.py - _compute_cross_language: Computing embedding for document helix_19290302\n",
      "2023-08-16 12:39:08 - INFO - embedding.py - _compute_cross_language: Computing embedding for document helix_19290403\n",
      "2023-08-16 12:39:08 - INFO - embedding.py - _compute_cross_language: Computing embedding for document helix_19290504\n",
      "2023-08-16 12:39:08 - INFO - embedding.py - _compute_cross_language: Computing embedding for document helix_19290605\n",
      "2023-08-16 12:39:09 - INFO - embedding.py - _compute_cross_language: Computing embedding for document helix_19291006\n",
      "2023-08-16 12:39:09 - INFO - embedding.py - _compute_cross_language: Computing embedding for document helix_19291107\n",
      "2023-08-16 12:39:09 - INFO - embedding.py - _compute_cross_language: Computing embedding for document helix_19300108\n",
      "2023-08-16 12:39:09 - INFO - embedding.py - _compute_cross_language: Computing embedding for document helix_19300209\n",
      "2023-08-16 12:39:10 - INFO - embedding.py - _compute_cross_language: Computing embedding for document helix_19300310\n",
      "2023-08-16 12:39:10 - INFO - embedding.py - _compute_cross_language: Computing embedding for document iberia_19150401\n",
      "2023-08-16 12:39:10 - INFO - embedding.py - _compute_cross_language: Computing embedding for document iberia_19150402\n",
      "2023-08-16 12:39:10 - INFO - embedding.py - _compute_cross_language: Computing embedding for document iberia_19150403\n",
      "2023-08-16 12:39:10 - INFO - embedding.py - _compute_cross_language: Computing embedding for document iberia_19150504\n",
      "2023-08-16 12:39:11 - INFO - embedding.py - _compute_cross_language: Computing embedding for document iberia_19150505\n",
      "2023-08-16 12:39:11 - INFO - embedding.py - _compute_cross_language: Computing embedding for document iberia_19150506\n",
      "2023-08-16 12:39:11 - INFO - embedding.py - _compute_cross_language: Computing embedding for document iberia_19150507\n",
      "2023-08-16 12:39:11 - INFO - embedding.py - _compute_cross_language: Computing embedding for document iberia_19150508\n",
      "2023-08-16 12:39:12 - INFO - embedding.py - _compute_cross_language: Computing embedding for document iberia_19150609\n",
      "2023-08-16 12:39:12 - INFO - embedding.py - _compute_cross_language: Computing embedding for document iberia_19150610\n",
      "2023-08-16 12:39:12 - INFO - embedding.py - _compute_cross_language: Computing embedding for document iberia_19150611\n",
      "2023-08-16 12:39:12 - INFO - embedding.py - _compute_cross_language: Computing embedding for document iberia_19150612\n",
      "2023-08-16 12:39:12 - INFO - embedding.py - _compute_cross_language: Computing embedding for document iberia_19150713\n",
      "2023-08-16 12:39:13 - INFO - embedding.py - _compute_cross_language: Computing embedding for document iberia_19150714\n",
      "2023-08-16 12:39:13 - INFO - embedding.py - _compute_cross_language: Computing embedding for document iberia_19150715\n",
      "2023-08-16 12:39:13 - INFO - embedding.py - _compute_cross_language: Computing embedding for document iberia_19150716\n",
      "2023-08-16 12:39:13 - INFO - embedding.py - _compute_cross_language: Computing embedding for document iberia_19150717\n",
      "2023-08-16 12:39:14 - INFO - embedding.py - _compute_cross_language: Computing embedding for document iberia_19150818\n",
      "2023-08-16 12:39:14 - INFO - embedding.py - _compute_cross_language: Computing embedding for document iberia_19150819\n",
      "2023-08-16 12:39:14 - INFO - embedding.py - _compute_cross_language: Computing embedding for document iberia_19150820\n",
      "2023-08-16 12:39:14 - INFO - embedding.py - _compute_cross_language: Computing embedding for document iberia_19150821\n",
      "2023-08-16 12:39:14 - INFO - embedding.py - _compute_cross_language: Computing embedding for document iberia_19150922\n",
      "2023-08-16 12:39:15 - INFO - embedding.py - _compute_cross_language: Computing embedding for document iberia_19150923\n",
      "2023-08-16 12:39:15 - INFO - embedding.py - _compute_cross_language: Computing embedding for document iberia_19150924\n",
      "2023-08-16 12:39:15 - INFO - embedding.py - _compute_cross_language: Computing embedding for document iberia_19150925\n",
      "2023-08-16 12:39:15 - INFO - embedding.py - _compute_cross_language: Computing embedding for document iberia_19151026\n",
      "2023-08-16 12:39:16 - INFO - embedding.py - _compute_cross_language: Computing embedding for document iberia_19151027\n",
      "2023-08-16 12:39:16 - INFO - embedding.py - _compute_cross_language: Computing embedding for document iberia_19151028\n",
      "2023-08-16 12:39:16 - INFO - embedding.py - _compute_cross_language: Computing embedding for document iberia_19151029\n",
      "2023-08-16 12:39:16 - INFO - embedding.py - _compute_cross_language: Computing embedding for document iberia_19151030\n",
      "2023-08-16 12:39:16 - INFO - embedding.py - _compute_cross_language: Computing embedding for document iberia_19151131\n",
      "2023-08-16 12:39:17 - INFO - embedding.py - _compute_cross_language: Computing embedding for document iberia_19151132\n",
      "2023-08-16 12:39:17 - INFO - embedding.py - _compute_cross_language: Computing embedding for document iberia_19151133\n",
      "2023-08-16 12:39:17 - INFO - embedding.py - _compute_cross_language: Computing embedding for document iberia_19151134\n",
      "2023-08-16 12:39:17 - INFO - embedding.py - _compute_cross_language: Computing embedding for document iberia_19151235\n",
      "2023-08-16 12:39:18 - INFO - embedding.py - _compute_cross_language: Computing embedding for document iberia_19151236\n",
      "2023-08-16 12:39:18 - INFO - embedding.py - _compute_cross_language: Computing embedding for document iberia_19151237\n",
      "2023-08-16 12:39:18 - INFO - embedding.py - _compute_cross_language: Computing embedding for document iberia_19151238\n",
      "2023-08-16 12:39:18 - INFO - embedding.py - _compute_cross_language: Computing embedding for document iberia_19160139\n",
      "2023-08-16 12:39:18 - INFO - embedding.py - _compute_cross_language: Computing embedding for document iberia_19160140\n",
      "2023-08-16 12:39:19 - INFO - embedding.py - _compute_cross_language: Computing embedding for document iberia_19160141\n",
      "2023-08-16 12:39:19 - INFO - embedding.py - _compute_cross_language: Computing embedding for document iberia_19160142\n",
      "2023-08-16 12:39:19 - INFO - embedding.py - _compute_cross_language: Computing embedding for document iberia_19160143\n",
      "2023-08-16 12:39:19 - INFO - embedding.py - _compute_cross_language: Computing embedding for document iberia_19160244\n",
      "2023-08-16 12:39:20 - INFO - embedding.py - _compute_cross_language: Computing embedding for document iberia_19160245\n",
      "2023-08-16 12:39:20 - INFO - embedding.py - _compute_cross_language: Computing embedding for document iberia_19160246\n",
      "2023-08-16 12:39:20 - INFO - embedding.py - _compute_cross_language: Computing embedding for document iberia_19160247\n",
      "2023-08-16 12:39:20 - INFO - embedding.py - _compute_cross_language: Computing embedding for document iberia_19160348\n",
      "2023-08-16 12:39:21 - INFO - embedding.py - _compute_cross_language: Computing embedding for document iberia_19160349\n",
      "2023-08-16 12:39:21 - INFO - embedding.py - _compute_cross_language: Computing embedding for document iberia_19160350\n",
      "2023-08-16 12:39:21 - INFO - embedding.py - _compute_cross_language: Computing embedding for document iberia_19160351\n",
      "2023-08-16 12:39:21 - INFO - embedding.py - _compute_cross_language: Computing embedding for document iberia_19160452\n",
      "2023-08-16 12:39:22 - INFO - embedding.py - _compute_cross_language: Computing embedding for document iberia_19160453\n",
      "2023-08-16 12:39:22 - INFO - embedding.py - _compute_cross_language: Computing embedding for document iberia_19160454\n",
      "2023-08-16 12:39:22 - INFO - embedding.py - _compute_cross_language: Computing embedding for document iberia_19160455\n",
      "2023-08-16 12:39:22 - INFO - embedding.py - _compute_cross_language: Computing embedding for document iberia_19160557\n",
      "2023-08-16 12:39:22 - INFO - embedding.py - _compute_cross_language: Computing embedding for document iberia_19160558\n",
      "2023-08-16 12:39:23 - INFO - embedding.py - _compute_cross_language: Computing embedding for document iberia_19160559\n",
      "2023-08-16 12:39:23 - INFO - embedding.py - _compute_cross_language: Computing embedding for document iberia_19160560\n",
      "2023-08-16 12:39:23 - INFO - embedding.py - _compute_cross_language: Computing embedding for document iberia_19160661\n",
      "2023-08-16 12:39:23 - INFO - embedding.py - _compute_cross_language: Computing embedding for document iberia_19160662\n",
      "2023-08-16 12:39:24 - INFO - embedding.py - _compute_cross_language: Computing embedding for document iberia_19160663\n",
      "2023-08-16 12:39:24 - INFO - embedding.py - _compute_cross_language: Computing embedding for document iberia_19160664\n",
      "2023-08-16 12:39:24 - INFO - embedding.py - _compute_cross_language: Computing embedding for document iberia_19160765\n",
      "2023-08-16 12:39:24 - INFO - embedding.py - _compute_cross_language: Computing embedding for document iberia_19160767\n",
      "2023-08-16 12:39:25 - INFO - embedding.py - _compute_cross_language: Computing embedding for document iberia_19160768\n",
      "2023-08-16 12:39:25 - INFO - embedding.py - _compute_cross_language: Computing embedding for document iberia_19160769\n",
      "2023-08-16 12:39:25 - INFO - embedding.py - _compute_cross_language: Computing embedding for document iberia_19160870\n",
      "2023-08-16 12:39:25 - INFO - embedding.py - _compute_cross_language: Computing embedding for document iberia_19160871\n",
      "2023-08-16 12:39:26 - INFO - embedding.py - _compute_cross_language: Computing embedding for document iberia_19160872\n",
      "2023-08-16 12:39:26 - INFO - embedding.py - _compute_cross_language: Computing embedding for document iberia_19160873\n",
      "2023-08-16 12:39:26 - INFO - embedding.py - _compute_cross_language: Computing embedding for document iberia_19160974\n",
      "2023-08-16 12:39:26 - INFO - embedding.py - _compute_cross_language: Computing embedding for document iberia_19160975\n",
      "2023-08-16 12:39:26 - INFO - embedding.py - _compute_cross_language: Computing embedding for document iberia_19160976\n",
      "2023-08-16 12:39:27 - INFO - embedding.py - _compute_cross_language: Computing embedding for document iberia_19160977\n",
      "2023-08-16 12:39:27 - INFO - embedding.py - _compute_cross_language: Computing embedding for document iberia_19160978\n",
      "2023-08-16 12:39:27 - INFO - embedding.py - _compute_cross_language: Computing embedding for document iberia_19161079\n",
      "2023-08-16 12:39:27 - INFO - embedding.py - _compute_cross_language: Computing embedding for document iberia_19161080\n",
      "2023-08-16 12:39:28 - INFO - embedding.py - _compute_cross_language: Computing embedding for document iberia_19161081\n",
      "2023-08-16 12:39:28 - INFO - embedding.py - _compute_cross_language: Computing embedding for document iberia_19161082\n",
      "2023-08-16 12:39:28 - INFO - embedding.py - _compute_cross_language: Computing embedding for document iberia_19161183\n",
      "2023-08-16 12:39:28 - INFO - embedding.py - _compute_cross_language: Computing embedding for document iberia_19161184\n",
      "2023-08-16 12:39:28 - INFO - embedding.py - _compute_cross_language: Computing embedding for document iberia_19161185\n",
      "2023-08-16 12:39:29 - INFO - embedding.py - _compute_cross_language: Computing embedding for document iberia_19161186\n",
      "2023-08-16 12:39:29 - INFO - embedding.py - _compute_cross_language: Computing embedding for document iberia_19161287\n",
      "2023-08-16 12:39:29 - INFO - embedding.py - _compute_cross_language: Computing embedding for document iberia_19161288\n",
      "2023-08-16 12:39:29 - INFO - embedding.py - _compute_cross_language: Computing embedding for document iberia_19161289\n",
      "2023-08-16 12:39:30 - INFO - embedding.py - _compute_cross_language: Computing embedding for document iberia_19161290\n",
      "2023-08-16 12:39:30 - INFO - embedding.py - _compute_cross_language: Computing embedding for document iberia_19161291\n",
      "2023-08-16 12:39:30 - INFO - embedding.py - _compute_cross_language: Computing embedding for document iberia_19170192\n",
      "2023-08-16 12:39:30 - INFO - embedding.py - _compute_cross_language: Computing embedding for document iberia_19170193\n",
      "2023-08-16 12:39:31 - INFO - embedding.py - _compute_cross_language: Computing embedding for document iberia_19170194\n",
      "2023-08-16 12:39:31 - INFO - embedding.py - _compute_cross_language: Computing embedding for document iberia_19170195\n",
      "2023-08-16 12:39:31 - INFO - embedding.py - _compute_cross_language: Computing embedding for document iberia_19170296\n",
      "2023-08-16 12:39:31 - INFO - embedding.py - _compute_cross_language: Computing embedding for document iberia_19170297\n",
      "2023-08-16 12:39:32 - INFO - embedding.py - _compute_cross_language: Computing embedding for document iberia_19170298\n",
      "2023-08-16 12:39:32 - INFO - embedding.py - _compute_cross_language: Computing embedding for document iberia_19170299\n",
      "2023-08-16 12:39:32 - INFO - embedding.py - _compute_cross_language: Computing embedding for document iberia_191703100\n",
      "2023-08-16 12:39:32 - INFO - embedding.py - _compute_cross_language: Computing embedding for document iberia_191703101\n",
      "2023-08-16 12:39:33 - INFO - embedding.py - _compute_cross_language: Computing embedding for document iberia_191703102\n",
      "2023-08-16 12:39:33 - INFO - embedding.py - _compute_cross_language: Computing embedding for document iberia_191703103\n",
      "2023-08-16 12:39:33 - INFO - embedding.py - _compute_cross_language: Computing embedding for document iberia_191703104\n",
      "2023-08-16 12:39:33 - INFO - embedding.py - _compute_cross_language: Computing embedding for document iberia_191704105\n",
      "2023-08-16 12:39:34 - INFO - embedding.py - _compute_cross_language: Computing embedding for document iberia_191704106\n",
      "2023-08-16 12:39:34 - INFO - embedding.py - _compute_cross_language: Computing embedding for document iberia_191704107\n",
      "2023-08-16 12:39:34 - INFO - embedding.py - _compute_cross_language: Computing embedding for document iberia_191704108\n",
      "2023-08-16 12:39:34 - INFO - embedding.py - _compute_cross_language: Computing embedding for document iberia_191705109\n",
      "2023-08-16 12:39:35 - INFO - embedding.py - _compute_cross_language: Computing embedding for document iberia_191705110\n",
      "2023-08-16 12:39:35 - INFO - embedding.py - _compute_cross_language: Computing embedding for document iberia_191705111\n",
      "2023-08-16 12:39:35 - INFO - embedding.py - _compute_cross_language: Computing embedding for document iberia_191705112\n",
      "2023-08-16 12:39:36 - INFO - embedding.py - _compute_cross_language: Computing embedding for document iberia_191706113\n",
      "2023-08-16 12:39:36 - INFO - embedding.py - _compute_cross_language: Computing embedding for document iberia_191706114\n",
      "2023-08-16 12:39:36 - INFO - embedding.py - _compute_cross_language: Computing embedding for document iberia_191706115\n",
      "2023-08-16 12:39:36 - INFO - embedding.py - _compute_cross_language: Computing embedding for document iberia_191706116\n",
      "2023-08-16 12:39:37 - INFO - embedding.py - _compute_cross_language: Computing embedding for document iberia_191706117\n",
      "2023-08-16 12:39:37 - INFO - embedding.py - _compute_cross_language: Computing embedding for document iberia_191707118\n",
      "2023-08-16 12:39:37 - INFO - embedding.py - _compute_cross_language: Computing embedding for document instant_19180701\n",
      "2023-08-16 12:39:37 - INFO - embedding.py - _compute_cross_language: Computing embedding for document instant_19180802\n",
      "2023-08-16 12:39:38 - INFO - embedding.py - _compute_cross_language: Computing embedding for document instant_19180903\n",
      "2023-08-16 12:39:38 - INFO - embedding.py - _compute_cross_language: Computing embedding for document instant_19181004-05\n",
      "2023-08-16 12:39:38 - INFO - embedding.py - _compute_cross_language: Computing embedding for document instant_19181206\n",
      "2023-08-16 12:39:38 - INFO - embedding.py - _compute_cross_language: Computing embedding for document instant_19190107-08\n",
      "2023-08-16 12:39:38 - INFO - embedding.py - _compute_cross_language: Computing embedding for document instant_19190801\n"
     ]
    },
    {
     "name": "stderr",
     "output_type": "stream",
     "text": [
      "/home/jovyan/work/src/models/embedding.py:431: FutureWarning: The default dtype for empty Series will be 'object' instead of 'float64' in a future version. Specify a dtype explicitly to silence this warning.\n",
      "  split_words = pd.Series(row[split_column])\n"
     ]
    },
    {
     "name": "stdout",
     "output_type": "stream",
     "text": [
      "2023-08-16 12:39:39 - INFO - embedding.py - _compute_cross_language: Computing embedding for document instant_19190802\n",
      "2023-08-16 12:39:39 - INFO - embedding.py - _compute_cross_language: Computing embedding for document instant_19190903\n",
      "2023-08-16 12:39:39 - INFO - embedding.py - _compute_cross_language: Computing embedding for document instant_19190904\n",
      "2023-08-16 12:39:39 - INFO - embedding.py - _compute_cross_language: Computing embedding for document instant_19191005\n",
      "2023-08-16 12:39:39 - INFO - embedding.py - _compute_cross_language: Computing embedding for document matrencada_19241101\n",
      "2023-08-16 12:39:40 - INFO - embedding.py - _compute_cross_language: Computing embedding for document matrencada_19241102\n",
      "2023-08-16 12:39:40 - INFO - embedding.py - _compute_cross_language: Computing embedding for document matrencada_19241203\n",
      "2023-08-16 12:39:40 - INFO - embedding.py - _compute_cross_language: Computing embedding for document matrencada_19241204\n",
      "2023-08-16 12:39:40 - INFO - embedding.py - _compute_cross_language: Computing embedding for document matrencada_19250105\n",
      "2023-08-16 12:39:41 - INFO - embedding.py - _compute_cross_language: Computing embedding for document matrencada_19250106\n",
      "2023-08-16 12:39:41 - INFO - embedding.py - _compute_cross_language: Computing embedding for document monitor_19210101\n",
      "2023-08-16 12:39:41 - INFO - embedding.py - _compute_cross_language: Computing embedding for document monitor_19210202\n",
      "2023-08-16 12:39:41 - INFO - embedding.py - _compute_cross_language: Computing embedding for document monitor_19210303\n",
      "2023-08-16 12:39:41 - INFO - embedding.py - _compute_cross_language: Computing embedding for document monitor_19210404\n",
      "2023-08-16 12:39:42 - INFO - embedding.py - _compute_cross_language: Computing embedding for document monitor_19210505\n",
      "2023-08-16 12:39:42 - INFO - embedding.py - _compute_cross_language: Computing embedding for document monitor_19211206\n",
      "2023-08-16 12:39:42 - INFO - embedding.py - _compute_cross_language: Computing embedding for document monitor_19220101\n",
      "2023-08-16 12:39:42 - INFO - embedding.py - _compute_cross_language: Computing embedding for document monitor_19220202\n",
      "2023-08-16 12:39:43 - INFO - embedding.py - _compute_cross_language: Computing embedding for document monitor_19230101\n",
      "2023-08-16 12:39:43 - INFO - embedding.py - _compute_cross_language: Computing embedding for document themis_19150601\n",
      "2023-08-16 12:39:43 - INFO - embedding.py - _compute_cross_language: Computing embedding for document themis_19150702\n",
      "2023-08-16 12:39:43 - INFO - embedding.py - _compute_cross_language: Computing embedding for document themis_19150803\n",
      "2023-08-16 12:39:44 - INFO - embedding.py - _compute_cross_language: Computing embedding for document themis_19150804\n",
      "2023-08-16 12:39:44 - INFO - embedding.py - _compute_cross_language: Computing embedding for document themis_19150905\n",
      "2023-08-16 12:39:44 - INFO - embedding.py - _compute_cross_language: Computing embedding for document themis_19150906\n",
      "2023-08-16 12:39:44 - INFO - embedding.py - _compute_cross_language: Computing embedding for document themis_19151007\n",
      "2023-08-16 12:39:44 - INFO - embedding.py - _compute_cross_language: Computing embedding for document themis_19151008\n",
      "2023-08-16 12:39:45 - INFO - embedding.py - _compute_cross_language: Computing embedding for document themis_19151109\n",
      "2023-08-16 12:39:45 - INFO - embedding.py - _compute_cross_language: Computing embedding for document themis_19151110\n",
      "2023-08-16 12:39:45 - INFO - embedding.py - _compute_cross_language: Computing embedding for document themis_19151211\n",
      "2023-08-16 12:39:45 - INFO - embedding.py - _compute_cross_language: Computing embedding for document themis_19151212\n",
      "2023-08-16 12:39:46 - INFO - embedding.py - _compute_cross_language: Computing embedding for document themis_19160113\n",
      "2023-08-16 12:39:46 - INFO - embedding.py - _compute_cross_language: Computing embedding for document themis_19160114\n",
      "2023-08-16 12:39:46 - INFO - embedding.py - _compute_cross_language: Computing embedding for document themis_19160215\n",
      "2023-08-16 12:39:46 - INFO - embedding.py - _compute_cross_language: Computing embedding for document themis_19160216\n",
      "2023-08-16 12:39:46 - INFO - embedding.py - _compute_cross_language: Computing embedding for document themis_19160317\n",
      "2023-08-16 12:39:47 - INFO - embedding.py - _compute_cross_language: Computing embedding for document themis_19160318\n",
      "2023-08-16 12:39:47 - INFO - embedding.py - _compute_cross_language: Computing embedding for document trocos_1916\n",
      "2023-08-16 12:39:47 - INFO - embedding.py - _compute_cross_language: Computing embedding for document trocos_19170901\n",
      "2023-08-16 12:39:47 - INFO - embedding.py - _compute_cross_language: Computing embedding for document trocos_19171002\n",
      "2023-08-16 12:39:48 - INFO - embedding.py - _compute_cross_language: Computing embedding for document trocos_19171103\n",
      "2023-08-16 12:39:48 - INFO - embedding.py - _compute_cross_language: Computing embedding for document trocos_19180304\n",
      "2023-08-16 12:39:48 - INFO - embedding.py - _compute_cross_language: Computing embedding for document trocos_19180405\n",
      "2023-08-16 12:39:48 - INFO - embedding.py - _compute_cross_language: Computing embedding for document unenemicpob_19170301\n"
     ]
    },
    {
     "name": "stderr",
     "output_type": "stream",
     "text": [
      "/home/jovyan/work/src/models/embedding.py:431: FutureWarning: The default dtype for empty Series will be 'object' instead of 'float64' in a future version. Specify a dtype explicitly to silence this warning.\n",
      "  split_words = pd.Series(row[split_column])\n"
     ]
    },
    {
     "name": "stdout",
     "output_type": "stream",
     "text": [
      "2023-08-16 12:39:49 - INFO - embedding.py - _compute_cross_language: Computing embedding for document unenemicpob_19170402\n",
      "2023-08-16 12:39:49 - INFO - embedding.py - _compute_cross_language: Computing embedding for document unenemicpob_19170603\n",
      "2023-08-16 12:39:49 - INFO - embedding.py - _compute_cross_language: Computing embedding for document unenemicpob_19170704\n",
      "2023-08-16 12:39:49 - INFO - embedding.py - _compute_cross_language: Computing embedding for document unenemicpob_19170805\n",
      "2023-08-16 12:39:49 - INFO - embedding.py - _compute_cross_language: Computing embedding for document unenemicpob_19170906\n"
     ]
    },
    {
     "name": "stderr",
     "output_type": "stream",
     "text": [
      "/home/jovyan/work/src/models/embedding.py:431: FutureWarning: The default dtype for empty Series will be 'object' instead of 'float64' in a future version. Specify a dtype explicitly to silence this warning.\n",
      "  split_words = pd.Series(row[split_column])\n"
     ]
    },
    {
     "name": "stdout",
     "output_type": "stream",
     "text": [
      "2023-08-16 12:39:50 - INFO - embedding.py - _compute_cross_language: Computing embedding for document unenemicpob_19171107\n",
      "2023-08-16 12:39:50 - INFO - embedding.py - _compute_cross_language: Computing embedding for document unenemicpob_19171108\n",
      "2023-08-16 12:39:50 - INFO - embedding.py - _compute_cross_language: Computing embedding for document unenemicpob_19171209\n",
      "2023-08-16 12:39:50 - INFO - embedding.py - _compute_cross_language: Computing embedding for document unenemicpob_19180110\n",
      "2023-08-16 12:39:50 - INFO - embedding.py - _compute_cross_language: Computing embedding for document unenemicpob_19180211\n",
      "2023-08-16 12:39:51 - INFO - embedding.py - _compute_cross_language: Computing embedding for document unenemicpob_19180212\n",
      "2023-08-16 12:39:51 - INFO - embedding.py - _compute_cross_language: Computing embedding for document unenemicpob_19180513\n",
      "2023-08-16 12:39:51 - INFO - embedding.py - _compute_cross_language: Computing embedding for document unenemicpob_19181014\n",
      "2023-08-16 12:39:51 - INFO - embedding.py - _compute_cross_language: Computing embedding for document unenemicpob_19190115\n",
      "2023-08-16 12:39:52 - INFO - embedding.py - _compute_cross_language: Computing embedding for document unenemicpob_19190316\n",
      "2023-08-16 12:39:52 - INFO - embedding.py - _compute_cross_language: Computing embedding for document unenemicpob_19190317\n",
      "2023-08-16 12:39:52 - INFO - embedding.py - _compute_cross_language: Computing embedding for document unenemicpob_19190518\n",
      "2023-08-16 12:39:52 - INFO - embedding.py - _compute_cross_language: Computing embedding for document Art junta de museus_1933v101.pdf\n",
      "2023-08-16 12:39:52 - INFO - embedding.py - _compute_cross_language: Computing embedding for document Art junta de museus_1933v102.pdf\n",
      "2023-08-16 12:39:53 - INFO - embedding.py - _compute_cross_language: Computing embedding for document Art junta de museus_1933v103.pdf\n",
      "2023-08-16 12:39:53 - INFO - embedding.py - _compute_cross_language: Computing embedding for document Art junta de museus_1934v104.pdf\n",
      "2023-08-16 12:39:53 - INFO - embedding.py - _compute_cross_language: Computing embedding for document Art junta de museus_1934v105.pdf\n",
      "2023-08-16 12:39:53 - INFO - embedding.py - _compute_cross_language: Computing embedding for document Art junta de museus_1934v106.pdf\n",
      "2023-08-16 12:39:54 - INFO - embedding.py - _compute_cross_language: Computing embedding for document Art junta de museus_1934v107.pdf\n",
      "2023-08-16 12:39:54 - INFO - embedding.py - _compute_cross_language: Computing embedding for document Art junta de museus_1934v108.pdf\n",
      "2023-08-16 12:39:54 - INFO - embedding.py - _compute_cross_language: Computing embedding for document Art junta de museus_1934v109.pdf\n",
      "2023-08-16 12:39:54 - INFO - embedding.py - _compute_cross_language: Computing embedding for document Art junta de museus_1934v110.pdf\n",
      "2023-08-16 12:39:54 - INFO - embedding.py - _compute_cross_language: Computing embedding for document Art junta de museus_1934v201.pdf\n",
      "2023-08-16 12:39:55 - INFO - embedding.py - _compute_cross_language: Computing embedding for document Art junta de museus_1934v202.pdf\n",
      "2023-08-16 12:39:55 - INFO - embedding.py - _compute_cross_language: Computing embedding for document Art junta de museus_1934v203.pdf\n",
      "2023-08-16 12:39:55 - INFO - embedding.py - _compute_cross_language: Computing embedding for document Art junta de museus_1935v204.pdf\n",
      "2023-08-16 12:39:55 - INFO - embedding.py - _compute_cross_language: Computing embedding for document Art junta de museus_1935v205.pdf\n",
      "2023-08-16 12:39:56 - INFO - embedding.py - _compute_cross_language: Computing embedding for document Art junta de museus_1935v206.pdf\n",
      "2023-08-16 12:39:56 - INFO - embedding.py - _compute_cross_language: Computing embedding for document Art junta de museus_1935v207.pdf\n",
      "2023-08-16 12:39:56 - INFO - embedding.py - _compute_cross_language: Computing embedding for document Art junta de museus_1935v208.pdf\n",
      "2023-08-16 12:39:56 - INFO - embedding.py - _compute_cross_language: Computing embedding for document Art junta de museus_1935v209.pdf\n",
      "2023-08-16 12:39:56 - INFO - embedding.py - _compute_cross_language: Computing embedding for document Art junta de museus_1935v210.pdf\n",
      "2023-08-16 12:39:57 - INFO - embedding.py - _compute_cross_language: Computing embedding for document Art junta de museus_1936v301.pdf\n",
      "2023-08-16 12:39:57 - INFO - embedding.py - _compute_cross_language: Computing embedding for document Gaseta de les Arts_19240501.pdf\n",
      "2023-08-16 12:39:57 - INFO - embedding.py - _compute_cross_language: Computing embedding for document Gaseta de les Arts_19240602.pdf\n",
      "2023-08-16 12:39:57 - INFO - embedding.py - _compute_cross_language: Computing embedding for document Gaseta de les Arts_19240603.pdf\n",
      "2023-08-16 12:39:58 - INFO - embedding.py - _compute_cross_language: Computing embedding for document Gaseta de les Arts_19240704.pdf\n",
      "2023-08-16 12:39:58 - INFO - embedding.py - _compute_cross_language: Computing embedding for document Gaseta de les Arts_19240705.pdf\n",
      "2023-08-16 12:39:58 - INFO - embedding.py - _compute_cross_language: Computing embedding for document Gaseta de les Arts_19240806.pdf\n",
      "2023-08-16 12:39:58 - INFO - embedding.py - _compute_cross_language: Computing embedding for document Gaseta de les Arts_19240807.pdf\n",
      "2023-08-16 12:39:59 - INFO - embedding.py - _compute_cross_language: Computing embedding for document Gaseta de les Arts_19240808.pdf\n",
      "2023-08-16 12:39:59 - INFO - embedding.py - _compute_cross_language: Computing embedding for document Gaseta de les Arts_19240909.pdf\n",
      "2023-08-16 12:39:59 - INFO - embedding.py - _compute_cross_language: Computing embedding for document Gaseta de les Arts_19241010.pdf\n",
      "2023-08-16 12:39:59 - INFO - embedding.py - _compute_cross_language: Computing embedding for document Gaseta de les Arts_19241011.pdf\n",
      "2023-08-16 12:39:59 - INFO - embedding.py - _compute_cross_language: Computing embedding for document Gaseta de les Arts_19241112.pdf\n",
      "2023-08-16 12:40:00 - INFO - embedding.py - _compute_cross_language: Computing embedding for document Gaseta de les Arts_19241113.pdf\n",
      "2023-08-16 12:40:00 - INFO - embedding.py - _compute_cross_language: Computing embedding for document Gaseta de les Arts_19241214.pdf\n",
      "2023-08-16 12:40:00 - INFO - embedding.py - _compute_cross_language: Computing embedding for document Gaseta de les Arts_19241215.pdf\n",
      "2023-08-16 12:40:00 - INFO - embedding.py - _compute_cross_language: Computing embedding for document Gaseta de les Arts_1924mostra.pdf\n",
      "2023-08-16 12:40:00 - INFO - embedding.py - _compute_cross_language: Computing embedding for document Gaseta de les Arts_19250116.pdf\n"
     ]
    },
    {
     "name": "stderr",
     "output_type": "stream",
     "text": [
      "/home/jovyan/work/src/models/embedding.py:431: FutureWarning: The default dtype for empty Series will be 'object' instead of 'float64' in a future version. Specify a dtype explicitly to silence this warning.\n",
      "  split_words = pd.Series(row[split_column])\n"
     ]
    },
    {
     "name": "stdout",
     "output_type": "stream",
     "text": [
      "2023-08-16 12:40:01 - INFO - embedding.py - _compute_cross_language: Computing embedding for document Gaseta de les Arts_19250117.pdf\n",
      "2023-08-16 12:40:01 - INFO - embedding.py - _compute_cross_language: Computing embedding for document Gaseta de les Arts_19250218.pdf\n",
      "2023-08-16 12:40:01 - INFO - embedding.py - _compute_cross_language: Computing embedding for document Gaseta de les Arts_19250219.pdf\n",
      "2023-08-16 12:40:01 - INFO - embedding.py - _compute_cross_language: Computing embedding for document Gaseta de les Arts_19250320.pdf\n",
      "2023-08-16 12:40:02 - INFO - embedding.py - _compute_cross_language: Computing embedding for document Gaseta de les Arts_19250321.pdf\n",
      "2023-08-16 12:40:02 - INFO - embedding.py - _compute_cross_language: Computing embedding for document Gaseta de les Arts_19250422.pdf\n",
      "2023-08-16 12:40:02 - INFO - embedding.py - _compute_cross_language: Computing embedding for document Gaseta de les Arts_19250423.pdf\n",
      "2023-08-16 12:40:02 - INFO - embedding.py - _compute_cross_language: Computing embedding for document Gaseta de les Arts_19250524.pdf\n",
      "2023-08-16 12:40:02 - INFO - embedding.py - _compute_cross_language: Computing embedding for document Gaseta de les Arts_19250525.pdf\n",
      "2023-08-16 12:40:03 - INFO - embedding.py - _compute_cross_language: Computing embedding for document Gaseta de les Arts_19250626.pdf\n",
      "2023-08-16 12:40:03 - INFO - embedding.py - _compute_cross_language: Computing embedding for document Gaseta de les Arts_19250627.pdf\n",
      "2023-08-16 12:40:03 - INFO - embedding.py - _compute_cross_language: Computing embedding for document Gaseta de les Arts_19250728.pdf\n",
      "2023-08-16 12:40:04 - INFO - embedding.py - _compute_cross_language: Computing embedding for document Gaseta de les Arts_19250729.pdf\n",
      "2023-08-16 12:40:04 - INFO - embedding.py - _compute_cross_language: Computing embedding for document Gaseta de les Arts_19250830.pdf\n",
      "2023-08-16 12:40:04 - INFO - embedding.py - _compute_cross_language: Computing embedding for document Gaseta de les Arts_19250831.pdf\n",
      "2023-08-16 12:40:04 - INFO - embedding.py - _compute_cross_language: Computing embedding for document Gaseta de les Arts_19250932.pdf\n",
      "2023-08-16 12:40:05 - INFO - embedding.py - _compute_cross_language: Computing embedding for document Gaseta de les Arts_19250933.pdf\n",
      "2023-08-16 12:40:05 - INFO - embedding.py - _compute_cross_language: Computing embedding for document Gaseta de les Arts_19251034.pdf\n",
      "2023-08-16 12:40:05 - INFO - embedding.py - _compute_cross_language: Computing embedding for document Gaseta de les Arts_19251035.pdf\n",
      "2023-08-16 12:40:05 - INFO - embedding.py - _compute_cross_language: Computing embedding for document Gaseta de les Arts_19251136.pdf\n",
      "2023-08-16 12:40:05 - INFO - embedding.py - _compute_cross_language: Computing embedding for document Gaseta de les Arts_19251137.pdf\n",
      "2023-08-16 12:40:06 - INFO - embedding.py - _compute_cross_language: Computing embedding for document Gaseta de les Arts_19251238.pdf\n",
      "2023-08-16 12:40:06 - INFO - embedding.py - _compute_cross_language: Computing embedding for document Gaseta de les Arts_19251239.pdf\n",
      "2023-08-16 12:40:06 - INFO - embedding.py - _compute_cross_language: Computing embedding for document Gaseta de les Arts_19260140.pdf\n",
      "2023-08-16 12:40:06 - INFO - embedding.py - _compute_cross_language: Computing embedding for document Gaseta de les Arts_19260141.pdf\n",
      "2023-08-16 12:40:07 - INFO - embedding.py - _compute_cross_language: Computing embedding for document Gaseta de les Arts_19260242.pdf\n",
      "2023-08-16 12:40:07 - INFO - embedding.py - _compute_cross_language: Computing embedding for document Gaseta de les Arts_19260243.pdf\n",
      "2023-08-16 12:40:07 - INFO - embedding.py - _compute_cross_language: Computing embedding for document Gaseta de les Arts_19260344.pdf\n",
      "2023-08-16 12:40:07 - INFO - embedding.py - _compute_cross_language: Computing embedding for document Gaseta de les Arts_19260345.pdf\n",
      "2023-08-16 12:40:08 - INFO - embedding.py - _compute_cross_language: Computing embedding for document Gaseta de les Arts_19260446.pdf\n",
      "2023-08-16 12:40:08 - INFO - embedding.py - _compute_cross_language: Computing embedding for document Gaseta de les Arts_19260447.pdf\n",
      "2023-08-16 12:40:08 - INFO - embedding.py - _compute_cross_language: Computing embedding for document Gaseta de les Arts_19260548.pdf\n",
      "2023-08-16 12:40:08 - INFO - embedding.py - _compute_cross_language: Computing embedding for document Gaseta de les Arts_19260549.pdf\n",
      "2023-08-16 12:40:09 - INFO - embedding.py - _compute_cross_language: Computing embedding for document Gaseta de les Arts_19260650.pdf\n",
      "2023-08-16 12:40:09 - INFO - embedding.py - _compute_cross_language: Computing embedding for document Gaseta de les Arts_19260651.pdf\n",
      "2023-08-16 12:40:09 - INFO - embedding.py - _compute_cross_language: Computing embedding for document Gaseta de les Arts_19260752.pdf\n",
      "2023-08-16 12:40:09 - INFO - embedding.py - _compute_cross_language: Computing embedding for document Gaseta de les Arts_19260753.pdf\n",
      "2023-08-16 12:40:10 - INFO - embedding.py - _compute_cross_language: Computing embedding for document Gaseta de les Arts_19260854.pdf\n",
      "2023-08-16 12:40:10 - INFO - embedding.py - _compute_cross_language: Computing embedding for document Gaseta de les Arts_19260855.pdf\n",
      "2023-08-16 12:40:10 - INFO - embedding.py - _compute_cross_language: Computing embedding for document Gaseta de les Arts_19260956.pdf\n",
      "2023-08-16 12:40:10 - INFO - embedding.py - _compute_cross_language: Computing embedding for document Gaseta de les Arts_19260957.pdf\n",
      "2023-08-16 12:40:11 - INFO - embedding.py - _compute_cross_language: Computing embedding for document Gaseta de les Arts_19261058.pdf\n",
      "2023-08-16 12:40:11 - INFO - embedding.py - _compute_cross_language: Computing embedding for document Gaseta de les Arts_19261059.pdf\n",
      "2023-08-16 12:40:11 - INFO - embedding.py - _compute_cross_language: Computing embedding for document Gaseta de les Arts_19261160.pdf\n",
      "2023-08-16 12:40:11 - INFO - embedding.py - _compute_cross_language: Computing embedding for document Gaseta de les Arts_19261161.pdf\n",
      "2023-08-16 12:40:12 - INFO - embedding.py - _compute_cross_language: Computing embedding for document Gaseta de les Arts_19261262.pdf\n",
      "2023-08-16 12:40:12 - INFO - embedding.py - _compute_cross_language: Computing embedding for document Gaseta de les Arts_19261263.pdf\n",
      "2023-08-16 12:40:12 - INFO - embedding.py - _compute_cross_language: Computing embedding for document Gaseta de les Arts_19270164.pdf\n",
      "2023-08-16 12:40:12 - INFO - embedding.py - _compute_cross_language: Computing embedding for document Gaseta de les Arts_19270165.pdf\n",
      "2023-08-16 12:40:13 - INFO - embedding.py - _compute_cross_language: Computing embedding for document Gaseta de les Arts_19270266.pdf\n",
      "2023-08-16 12:40:13 - INFO - embedding.py - _compute_cross_language: Computing embedding for document Gaseta de les Arts_19270267.pdf\n",
      "2023-08-16 12:40:13 - INFO - embedding.py - _compute_cross_language: Computing embedding for document Gaseta de les Arts_19270368.pdf\n",
      "2023-08-16 12:40:13 - INFO - embedding.py - _compute_cross_language: Computing embedding for document Gaseta de les Arts_19270369.pdf\n",
      "2023-08-16 12:40:13 - INFO - embedding.py - _compute_cross_language: Computing embedding for document Gaseta de les Arts_19270470.pdf\n",
      "2023-08-16 12:40:14 - INFO - embedding.py - _compute_cross_language: Computing embedding for document Gaseta de les Arts_19270471.pdf\n",
      "2023-08-16 12:40:14 - INFO - embedding.py - _compute_cross_language: Computing embedding for document Gaseta de les Arts_19270572.pdf\n",
      "2023-08-16 12:40:14 - INFO - embedding.py - _compute_cross_language: Computing embedding for document Gaseta de les Arts_19270573.pdf\n",
      "2023-08-16 12:40:14 - INFO - embedding.py - _compute_cross_language: Computing embedding for document Gaseta de les Arts_19270674.pdf\n",
      "2023-08-16 12:40:15 - INFO - embedding.py - _compute_cross_language: Computing embedding for document Gaseta de les Arts_19270675.pdf\n",
      "2023-08-16 12:40:15 - INFO - embedding.py - _compute_cross_language: Computing embedding for document Gaseta de les Arts_19270776.pdf\n",
      "2023-08-16 12:40:15 - INFO - embedding.py - _compute_cross_language: Computing embedding for document Gaseta de les Arts_19270777.pdf\n",
      "2023-08-16 12:40:15 - INFO - embedding.py - _compute_cross_language: Computing embedding for document Gaseta de les Arts_19270878.pdf\n",
      "2023-08-16 12:40:15 - INFO - embedding.py - _compute_cross_language: Computing embedding for document Gaseta de les Arts_19280601.pdf\n",
      "2023-08-16 12:40:16 - INFO - embedding.py - _compute_cross_language: Computing embedding for document Gaseta de les Arts_19281002.pdf\n",
      "2023-08-16 12:40:16 - INFO - embedding.py - _compute_cross_language: Computing embedding for document Gaseta de les Arts_19281103.pdf\n",
      "2023-08-16 12:40:16 - INFO - embedding.py - _compute_cross_language: Computing embedding for document Gaseta de les Arts_19281204.pdf\n",
      "2023-08-16 12:40:16 - INFO - embedding.py - _compute_cross_language: Computing embedding for document Gaseta de les Arts_19290105.pdf\n",
      "2023-08-16 12:40:17 - INFO - embedding.py - _compute_cross_language: Computing embedding for document Gaseta de les Arts_19290206.pdf\n",
      "2023-08-16 12:40:17 - INFO - embedding.py - _compute_cross_language: Computing embedding for document Gaseta de les Arts_19290307.pdf\n",
      "2023-08-16 12:40:17 - INFO - embedding.py - _compute_cross_language: Computing embedding for document Gaseta de les Arts_19290408.pdf\n",
      "2023-08-16 12:40:17 - INFO - embedding.py - _compute_cross_language: Computing embedding for document Gaseta de les Arts_19290509.pdf\n",
      "2023-08-16 12:40:18 - INFO - embedding.py - _compute_cross_language: Computing embedding for document Gaseta de les Arts_19290610.pdf\n",
      "2023-08-16 12:40:18 - INFO - embedding.py - _compute_cross_language: Computing embedding for document Gaseta de les Arts_19291011 i 19291112.pdf\n",
      "2023-08-16 12:40:18 - INFO - embedding.py - _compute_cross_language: Computing embedding for document Gaseta de les Arts_19291213.pdf\n",
      "2023-08-16 12:40:18 - INFO - embedding.py - _compute_cross_language: Computing embedding for document Gaseta de les Arts_19300114.pdf\n",
      "2023-08-16 12:40:19 - INFO - embedding.py - _compute_cross_language: Computing embedding for document Nova revista_19270101.pdf\n",
      "2023-08-16 12:40:19 - INFO - embedding.py - _compute_cross_language: Computing embedding for document Nova revista_19270202.pdf\n",
      "2023-08-16 12:40:19 - INFO - embedding.py - _compute_cross_language: Computing embedding for document Nova revista_19270303.pdf\n",
      "2023-08-16 12:40:20 - INFO - embedding.py - _compute_cross_language: Computing embedding for document Nova revista_19270404.pdf\n",
      "2023-08-16 12:40:20 - INFO - embedding.py - _compute_cross_language: Computing embedding for document Nova revista_19270505.pdf\n",
      "2023-08-16 12:40:20 - INFO - embedding.py - _compute_cross_language: Computing embedding for document Nova revista_19270606.pdf\n",
      "2023-08-16 12:40:20 - INFO - embedding.py - _compute_cross_language: Computing embedding for document Nova revista_19270707.pdf\n",
      "2023-08-16 12:40:21 - INFO - embedding.py - _compute_cross_language: Computing embedding for document Nova revista_19270808.pdf\n",
      "2023-08-16 12:40:21 - INFO - embedding.py - _compute_cross_language: Computing embedding for document Nova revista_19270909.pdf\n",
      "2023-08-16 12:40:21 - INFO - embedding.py - _compute_cross_language: Computing embedding for document Nova revista_19271010.pdf\n",
      "2023-08-16 12:40:22 - INFO - embedding.py - _compute_cross_language: Computing embedding for document Nova revista_19271111.pdf\n",
      "2023-08-16 12:40:22 - INFO - embedding.py - _compute_cross_language: Computing embedding for document Nova revista_19271212.pdf\n",
      "2023-08-16 12:40:22 - INFO - embedding.py - _compute_cross_language: Computing embedding for document Nova revista_19280113.pdf\n",
      "2023-08-16 12:40:22 - INFO - embedding.py - _compute_cross_language: Computing embedding for document Nova revista_19280214.pdf\n",
      "2023-08-16 12:40:23 - INFO - embedding.py - _compute_cross_language: Computing embedding for document Nova revista_19280315.pdf\n",
      "2023-08-16 12:40:23 - INFO - embedding.py - _compute_cross_language: Computing embedding for document Nova revista_19280416.pdf\n",
      "2023-08-16 12:40:23 - INFO - embedding.py - _compute_cross_language: Computing embedding for document Nova revista_19280517.pdf\n",
      "2023-08-16 12:40:24 - INFO - embedding.py - _compute_cross_language: Computing embedding for document Nova revista_19280618.pdf\n",
      "2023-08-16 12:40:24 - INFO - embedding.py - _compute_cross_language: Computing embedding for document Nova revista_19280719.pdf\n",
      "2023-08-16 12:40:24 - INFO - embedding.py - _compute_cross_language: Computing embedding for document Nova revista_19280820.pdf\n",
      "2023-08-16 12:40:25 - INFO - embedding.py - _compute_cross_language: Computing embedding for document Nova revista_19280921.pdf\n",
      "2023-08-16 12:40:25 - INFO - embedding.py - _compute_cross_language: Computing embedding for document Nova revista_19281022.pdf\n",
      "2023-08-16 12:40:25 - INFO - embedding.py - _compute_cross_language: Computing embedding for document Nova revista_19281123.pdf\n",
      "2023-08-16 12:40:26 - INFO - embedding.py - _compute_cross_language: Computing embedding for document Nova revista_19281224.pdf\n",
      "2023-08-16 12:40:26 - INFO - embedding.py - _compute_cross_language: Computing embedding for document Nova revista_19290125.pdf\n",
      "2023-08-16 12:40:26 - INFO - embedding.py - _compute_cross_language: Computing embedding for document Nova revista_19290226.pdf\n",
      "2023-08-16 12:40:26 - INFO - embedding.py - _compute_cross_language: Computing embedding for document Nova revista_19290327.pdf\n",
      "2023-08-16 12:40:27 - INFO - embedding.py - _compute_cross_language: Computing embedding for document Nova revista_19290428.pdf\n",
      "2023-08-16 12:40:27 - INFO - embedding.py - _compute_cross_language: Computing embedding for document Nova revista_19290529.pdf\n",
      "2023-08-16 12:40:27 - INFO - embedding.py - _compute_cross_language: Computing embedding for document Nova revista_19290630.pdf\n",
      "2023-08-16 12:40:28 - INFO - embedding.py - _compute_cross_language: Computing embedding for document Nova revista_19290731.pdf\n",
      "2023-08-16 12:40:28 - INFO - embedding.py - _compute_cross_language: Computing embedding for document Nova revista_19290832.pdf\n",
      "2023-08-16 12:40:28 - INFO - embedding.py - _compute_cross_language: Computing embedding for document Vell i nou_19150301.pdf\n",
      "2023-08-16 12:40:28 - INFO - embedding.py - _compute_cross_language: Computing embedding for document Vell i nou_19150302.pdf\n",
      "2023-08-16 12:40:29 - INFO - embedding.py - _compute_cross_language: Computing embedding for document Vell i nou_19150303.pdf\n",
      "2023-08-16 12:40:29 - INFO - embedding.py - _compute_cross_language: Computing embedding for document Vell i nou_19150404.pdf\n",
      "2023-08-16 12:40:29 - INFO - embedding.py - _compute_cross_language: Computing embedding for document Vell i nou_19150405.pdf\n",
      "2023-08-16 12:40:29 - INFO - embedding.py - _compute_cross_language: Computing embedding for document Vell i nou_19150406.pdf\n",
      "2023-08-16 12:40:29 - INFO - embedding.py - _compute_cross_language: Computing embedding for document Vell i nou_19150407.pdf\n",
      "2023-08-16 12:40:30 - INFO - embedding.py - _compute_cross_language: Computing embedding for document Vell i nou_19150501.pdf\n",
      "2023-08-16 12:40:30 - INFO - embedding.py - _compute_cross_language: Computing embedding for document Vell i nou_19150508.pdf\n",
      "2023-08-16 12:40:30 - INFO - embedding.py - _compute_cross_language: Computing embedding for document Vell i nou_19150602.pdf\n",
      "2023-08-16 12:40:30 - INFO - embedding.py - _compute_cross_language: Computing embedding for document Vell i nou_19150603.pdf\n",
      "2023-08-16 12:40:31 - INFO - embedding.py - _compute_cross_language: Computing embedding for document Vell i nou_19150704.pdf\n",
      "2023-08-16 12:40:31 - INFO - embedding.py - _compute_cross_language: Computing embedding for document Vell i nou_19150705.pdf\n",
      "2023-08-16 12:40:31 - INFO - embedding.py - _compute_cross_language: Computing embedding for document Vell i nou_19150806.pdf\n",
      "2023-08-16 12:40:31 - INFO - embedding.py - _compute_cross_language: Computing embedding for document Vell i nou_19150807.pdf\n",
      "2023-08-16 12:40:31 - INFO - embedding.py - _compute_cross_language: Computing embedding for document Vell i nou_19150908.pdf\n",
      "2023-08-16 12:40:32 - INFO - embedding.py - _compute_cross_language: Computing embedding for document Vell i nou_19150909.pdf\n",
      "2023-08-16 12:40:32 - INFO - embedding.py - _compute_cross_language: Computing embedding for document Vell i nou_19151010.pdf\n",
      "2023-08-16 12:40:32 - INFO - embedding.py - _compute_cross_language: Computing embedding for document Vell i nou_19151011.pdf\n",
      "2023-08-16 12:40:33 - INFO - embedding.py - _compute_cross_language: Computing embedding for document Vell i nou_19151112.pdf\n",
      "2023-08-16 12:40:33 - INFO - embedding.py - _compute_cross_language: Computing embedding for document Vell i nou_19151113.pdf\n",
      "2023-08-16 12:40:33 - INFO - embedding.py - _compute_cross_language: Computing embedding for document Vell i nou_19151214.pdf\n",
      "2023-08-16 12:40:34 - INFO - embedding.py - _compute_cross_language: Computing embedding for document Vell i nou_19151215.pdf\n",
      "2023-08-16 12:40:34 - INFO - embedding.py - _compute_cross_language: Computing embedding for document Vell i nou_1915index.pdf\n",
      "2023-08-16 12:40:34 - INFO - embedding.py - _compute_cross_language: Computing embedding for document Vell i nou_19160116.pdf\n",
      "2023-08-16 12:40:35 - INFO - embedding.py - _compute_cross_language: Computing embedding for document Vell i nou_19160117.pdf\n",
      "2023-08-16 12:40:35 - INFO - embedding.py - _compute_cross_language: Computing embedding for document Vell i nou_19160218.pdf\n",
      "2023-08-16 12:40:35 - INFO - embedding.py - _compute_cross_language: Computing embedding for document Vell i nou_19160219.pdf\n",
      "2023-08-16 12:40:36 - INFO - embedding.py - _compute_cross_language: Computing embedding for document Vell i nou_19160320.pdf\n",
      "2023-08-16 12:40:36 - INFO - embedding.py - _compute_cross_language: Computing embedding for document Vell i nou_19160321.pdf\n",
      "2023-08-16 12:40:36 - INFO - embedding.py - _compute_cross_language: Computing embedding for document Vell i nou_19160422.pdf\n",
      "2023-08-16 12:40:37 - INFO - embedding.py - _compute_cross_language: Computing embedding for document Vell i nou_19160423.pdf\n",
      "2023-08-16 12:40:37 - INFO - embedding.py - _compute_cross_language: Computing embedding for document Vell i nou_19160424.pdf\n",
      "2023-08-16 12:40:37 - INFO - embedding.py - _compute_cross_language: Computing embedding for document Vell i nou_19160525.pdf\n",
      "2023-08-16 12:40:38 - INFO - embedding.py - _compute_cross_language: Computing embedding for document Vell i nou_19160526.pdf\n",
      "2023-08-16 12:40:38 - INFO - embedding.py - _compute_cross_language: Computing embedding for document Vell i nou_19160627.pdf\n",
      "2023-08-16 12:40:38 - INFO - embedding.py - _compute_cross_language: Computing embedding for document Vell i nou_19160628.pdf\n",
      "2023-08-16 12:40:39 - INFO - embedding.py - _compute_cross_language: Computing embedding for document Vell i nou_19160729.pdf\n",
      "2023-08-16 12:40:39 - INFO - embedding.py - _compute_cross_language: Computing embedding for document Vell i nou_19160830.pdf\n",
      "2023-08-16 12:40:39 - INFO - embedding.py - _compute_cross_language: Computing embedding for document Vell i nou_19160831.pdf\n",
      "2023-08-16 12:40:39 - INFO - embedding.py - _compute_cross_language: Computing embedding for document Vell i nou_19160932.pdf\n",
      "2023-08-16 12:40:40 - INFO - embedding.py - _compute_cross_language: Computing embedding for document Vell i nou_19160933.pdf\n",
      "2023-08-16 12:40:40 - INFO - embedding.py - _compute_cross_language: Computing embedding for document Vell i nou_19161034.pdf\n",
      "2023-08-16 12:40:40 - INFO - embedding.py - _compute_cross_language: Computing embedding for document Vell i nou_19161035.pdf\n",
      "2023-08-16 12:40:41 - INFO - embedding.py - _compute_cross_language: Computing embedding for document Vell i nou_19161136.pdf\n",
      "2023-08-16 12:40:41 - INFO - embedding.py - _compute_cross_language: Computing embedding for document Vell i nou_19161137.pdf\n",
      "2023-08-16 12:40:41 - INFO - embedding.py - _compute_cross_language: Computing embedding for document Vell i nou_19161238.pdf\n",
      "2023-08-16 12:40:42 - INFO - embedding.py - _compute_cross_language: Computing embedding for document Vell i nou_19161239.pdf\n",
      "2023-08-16 12:40:42 - INFO - embedding.py - _compute_cross_language: Computing embedding for document Vell i nou_1916index.pdf\n",
      "2023-08-16 12:40:42 - INFO - embedding.py - _compute_cross_language: Computing embedding for document Vell i nou_1916prospecte.pdf\n",
      "2023-08-16 12:40:43 - INFO - embedding.py - _compute_cross_language: Computing embedding for document Vell i nou_19170440.pdf\n",
      "2023-08-16 12:40:43 - INFO - embedding.py - _compute_cross_language: Computing embedding for document Vell i nou_19170441.pdf\n",
      "2023-08-16 12:40:43 - INFO - embedding.py - _compute_cross_language: Computing embedding for document Vell i nou_19170442.pdf\n",
      "2023-08-16 12:40:44 - INFO - embedding.py - _compute_cross_language: Computing embedding for document Vell i nou_19170543.pdf\n",
      "2023-08-16 12:40:44 - INFO - embedding.py - _compute_cross_language: Computing embedding for document Vell i nou_19170644.pdf\n",
      "2023-08-16 12:40:44 - INFO - embedding.py - _compute_cross_language: Computing embedding for document Vell i nou_19170645.pdf\n",
      "2023-08-16 12:40:44 - INFO - embedding.py - _compute_cross_language: Computing embedding for document Vell i nou_19170746.pdf\n",
      "2023-08-16 12:40:45 - INFO - embedding.py - _compute_cross_language: Computing embedding for document Vell i nou_19170747.pdf\n",
      "2023-08-16 12:40:45 - INFO - embedding.py - _compute_cross_language: Computing embedding for document Vell i nou_19170848.pdf\n",
      "2023-08-16 12:40:45 - INFO - embedding.py - _compute_cross_language: Computing embedding for document Vell i nou_19170849.pdf\n",
      "2023-08-16 12:40:46 - INFO - embedding.py - _compute_cross_language: Computing embedding for document Vell i nou_19170950.pdf\n",
      "2023-08-16 12:40:46 - INFO - embedding.py - _compute_cross_language: Computing embedding for document Vell i nou_19170951.pdf\n",
      "2023-08-16 12:40:46 - INFO - embedding.py - _compute_cross_language: Computing embedding for document Vell i nou_19171052.pdf\n",
      "2023-08-16 12:40:47 - INFO - embedding.py - _compute_cross_language: Computing embedding for document Vell i nou_19171053.pdf\n",
      "2023-08-16 12:40:47 - INFO - embedding.py - _compute_cross_language: Computing embedding for document Vell i nou_19171154.pdf\n",
      "2023-08-16 12:40:47 - INFO - embedding.py - _compute_cross_language: Computing embedding for document Vell i nou_19171155.pdf\n",
      "2023-08-16 12:40:47 - INFO - embedding.py - _compute_cross_language: Computing embedding for document Vell i nou_19171256.pdf\n",
      "2023-08-16 12:40:48 - INFO - embedding.py - _compute_cross_language: Computing embedding for document Vell i nou_19171257.pdf\n",
      "2023-08-16 12:40:48 - INFO - embedding.py - _compute_cross_language: Computing embedding for document Vell i nou_1917index.pdf\n",
      "2023-08-16 12:40:48 - INFO - embedding.py - _compute_cross_language: Computing embedding for document Vell i nou_19180158.pdf\n",
      "2023-08-16 12:40:48 - INFO - embedding.py - _compute_cross_language: Computing embedding for document Vell i nou_19180159.pdf\n",
      "2023-08-16 12:40:49 - INFO - embedding.py - _compute_cross_language: Computing embedding for document Vell i nou_19180260.pdf\n",
      "2023-08-16 12:40:49 - INFO - embedding.py - _compute_cross_language: Computing embedding for document Vell i nou_19180261.pdf\n",
      "2023-08-16 12:40:49 - INFO - embedding.py - _compute_cross_language: Computing embedding for document Vell i nou_19180362.pdf\n",
      "2023-08-16 12:40:49 - INFO - embedding.py - _compute_cross_language: Computing embedding for document Vell i nou_19180363.pdf\n",
      "2023-08-16 12:40:50 - INFO - embedding.py - _compute_cross_language: Computing embedding for document Vell i nou_19180464.pdf\n",
      "2023-08-16 12:40:50 - INFO - embedding.py - _compute_cross_language: Computing embedding for document Vell i nou_19180465.pdf\n",
      "2023-08-16 12:40:50 - INFO - embedding.py - _compute_cross_language: Computing embedding for document Vell i nou_19180566.pdf\n",
      "2023-08-16 12:40:50 - INFO - embedding.py - _compute_cross_language: Computing embedding for document Vell i nou_19180567.pdf\n",
      "2023-08-16 12:40:51 - INFO - embedding.py - _compute_cross_language: Computing embedding for document Vell i nou_19180668.pdf\n",
      "2023-08-16 12:40:51 - INFO - embedding.py - _compute_cross_language: Computing embedding for document Vell i nou_19180669.pdf\n",
      "2023-08-16 12:40:51 - INFO - embedding.py - _compute_cross_language: Computing embedding for document Vell i nou_19180770.pdf\n",
      "2023-08-16 12:40:51 - INFO - embedding.py - _compute_cross_language: Computing embedding for document Vell i nou_19180871.pdf\n",
      "2023-08-16 12:40:52 - INFO - embedding.py - _compute_cross_language: Computing embedding for document Vell i nou_19180872.pdf\n",
      "2023-08-16 12:40:52 - INFO - embedding.py - _compute_cross_language: Computing embedding for document Vell i nou_19180873.pdf\n",
      "2023-08-16 12:40:52 - INFO - embedding.py - _compute_cross_language: Computing embedding for document Vell i nou_19180974.pdf\n",
      "2023-08-16 12:40:52 - INFO - embedding.py - _compute_cross_language: Computing embedding for document Vell i nou_19180975.pdf\n",
      "2023-08-16 12:40:53 - INFO - embedding.py - _compute_cross_language: Computing embedding for document Vell i nou_19181076.pdf\n",
      "2023-08-16 12:40:53 - INFO - embedding.py - _compute_cross_language: Computing embedding for document Vell i nou_19181077.pdf\n",
      "2023-08-16 12:40:53 - INFO - embedding.py - _compute_cross_language: Computing embedding for document Vell i nou_19181178.pdf\n",
      "2023-08-16 12:40:53 - INFO - embedding.py - _compute_cross_language: Computing embedding for document Vell i nou_19181179.pdf\n",
      "2023-08-16 12:40:54 - INFO - embedding.py - _compute_cross_language: Computing embedding for document Vell i nou_19181280.pdf\n",
      "2023-08-16 12:40:54 - INFO - embedding.py - _compute_cross_language: Computing embedding for document Vell i nou_19181281.pdf\n",
      "2023-08-16 12:40:54 - INFO - embedding.py - _compute_cross_language: Computing embedding for document Vell i nou_1918index.pdf\n",
      "2023-08-16 12:40:54 - INFO - embedding.py - _compute_cross_language: Computing embedding for document Vell i nou_19190182.pdf\n",
      "2023-08-16 12:40:55 - INFO - embedding.py - _compute_cross_language: Computing embedding for document Vell i nou_19190183.pdf\n",
      "2023-08-16 12:40:55 - INFO - embedding.py - _compute_cross_language: Computing embedding for document Vell i nou_19190284.pdf\n",
      "2023-08-16 12:40:55 - INFO - embedding.py - _compute_cross_language: Computing embedding for document Vell i nou_19190285.pdf\n",
      "2023-08-16 12:40:55 - INFO - embedding.py - _compute_cross_language: Computing embedding for document Vell i nou_19190386.pdf\n",
      "2023-08-16 12:40:55 - INFO - embedding.py - _compute_cross_language: Computing embedding for document Vell i nou_19190387.pdf\n",
      "2023-08-16 12:40:56 - INFO - embedding.py - _compute_cross_language: Computing embedding for document Vell i nou_19190488.pdf\n",
      "2023-08-16 12:40:56 - INFO - embedding.py - _compute_cross_language: Computing embedding for document Vell i nou_19190489.pdf\n",
      "2023-08-16 12:40:56 - INFO - embedding.py - _compute_cross_language: Computing embedding for document Vell i nou_19190590.pdf\n",
      "2023-08-16 12:40:56 - INFO - embedding.py - _compute_cross_language: Computing embedding for document Vell i nou_19190591.pdf\n",
      "2023-08-16 12:40:56 - INFO - embedding.py - _compute_cross_language: Computing embedding for document Vell i nou_19190692.pdf\n",
      "2023-08-16 12:40:57 - INFO - embedding.py - _compute_cross_language: Computing embedding for document Vell i nou_19190693.pdf\n",
      "2023-08-16 12:40:57 - INFO - embedding.py - _compute_cross_language: Computing embedding for document Vell i nou_19190794.pdf\n",
      "2023-08-16 12:40:57 - INFO - embedding.py - _compute_cross_language: Computing embedding for document Vell i nou_19190795.pdf\n",
      "2023-08-16 12:40:57 - INFO - embedding.py - _compute_cross_language: Computing embedding for document Vell i nou_19190896.pdf\n",
      "2023-08-16 12:40:58 - INFO - embedding.py - _compute_cross_language: Computing embedding for document Vell i nou_19190897.pdf\n",
      "2023-08-16 12:40:58 - INFO - embedding.py - _compute_cross_language: Computing embedding for document Vell i nou_19190998.pdf\n",
      "2023-08-16 12:40:58 - INFO - embedding.py - _compute_cross_language: Computing embedding for document Vell i nou_19190999.pdf\n",
      "2023-08-16 12:40:58 - INFO - embedding.py - _compute_cross_language: Computing embedding for document Vell i nou_191910100.pdf\n",
      "2023-08-16 12:40:58 - INFO - embedding.py - _compute_cross_language: Computing embedding for document Vell i nou_191911101.pdf\n",
      "2023-08-16 12:40:59 - INFO - embedding.py - _compute_cross_language: Computing embedding for document Vell i nou_191911102.pdf\n",
      "2023-08-16 12:40:59 - INFO - embedding.py - _compute_cross_language: Computing embedding for document Vell i nou_191912103-105.pdf\n",
      "2023-08-16 12:40:59 - INFO - embedding.py - _compute_cross_language: Computing embedding for document Vell i nou_1919index.pdf\n",
      "2023-08-16 12:40:59 - INFO - embedding.py - _compute_cross_language: Computing embedding for document Vell i nou_19200401.pdf\n",
      "2023-08-16 12:41:00 - INFO - embedding.py - _compute_cross_language: Computing embedding for document Vell i nou_19200502.pdf\n",
      "2023-08-16 12:41:00 - INFO - embedding.py - _compute_cross_language: Computing embedding for document Vell i nou_19200603.pdf\n",
      "2023-08-16 12:41:00 - INFO - embedding.py - _compute_cross_language: Computing embedding for document Vell i nou_19200704.pdf\n",
      "2023-08-16 12:41:00 - INFO - embedding.py - _compute_cross_language: Computing embedding for document Vell i nou_19200805.pdf\n",
      "2023-08-16 12:41:00 - INFO - embedding.py - _compute_cross_language: Computing embedding for document Vell i nou_19200906.pdf\n",
      "2023-08-16 12:41:01 - INFO - embedding.py - _compute_cross_language: Computing embedding for document Vell i nou_19201007.pdf\n",
      "2023-08-16 12:41:01 - INFO - embedding.py - _compute_cross_language: Computing embedding for document Vell i nou_19201108.pdf\n",
      "2023-08-16 12:41:01 - INFO - embedding.py - _compute_cross_language: Computing embedding for document Vell i nou_19201209.pdf\n",
      "2023-08-16 12:41:01 - INFO - embedding.py - _compute_cross_language: Computing embedding for document Vell i nou_1920index.pdf\n",
      "2023-08-16 12:41:02 - INFO - embedding.py - _compute_cross_language: Computing embedding for document Vell i nou_19210110.pdf\n",
      "2023-08-16 12:41:02 - INFO - embedding.py - _compute_cross_language: Computing embedding for document Vell i nou_19210211.pdf\n",
      "2023-08-16 12:41:02 - INFO - embedding.py - _compute_cross_language: Computing embedding for document Vell i nou_19210312.pdf\n",
      "2023-08-16 12:41:02 - INFO - embedding.py - _compute_cross_language: Computing embedding for document Vell i nou_19210413.pdf\n",
      "2023-08-16 12:41:02 - INFO - embedding.py - _compute_cross_language: Computing embedding for document Vell i nou_19210514.pdf\n",
      "2023-08-16 12:41:03 - INFO - embedding.py - _compute_cross_language: Computing embedding for document Vell i nou_19210615.pdf\n",
      "2023-08-16 12:41:03 - INFO - embedding.py - _compute_cross_language: Computing embedding for document Vell i nou_19210716.pdf\n",
      "2023-08-16 12:41:03 - INFO - embedding.py - _compute_cross_language: Computing embedding for document Vell i nou_19210817.pdf\n",
      "2023-08-16 12:41:03 - INFO - embedding.py - _compute_cross_language: Computing embedding for document Vell i nou_19210918.pdf\n",
      "2023-08-16 12:41:04 - INFO - embedding.py - _compute_cross_language: Computing embedding for document Revista_19150501.pdf\n",
      "2023-08-16 12:41:04 - INFO - embedding.py - _compute_cross_language: Computing embedding for document Revista_19150502.pdf\n",
      "2023-08-16 12:41:04 - INFO - embedding.py - _compute_cross_language: Computing embedding for document Revista_19150703.pdf\n",
      "2023-08-16 12:41:04 - INFO - embedding.py - _compute_cross_language: Computing embedding for document Revista_19150804.pdf\n",
      "2023-08-16 12:41:04 - INFO - embedding.py - _compute_cross_language: Computing embedding for document Revista_19150905.pdf\n",
      "2023-08-16 12:41:05 - INFO - embedding.py - _compute_cross_language: Computing embedding for document Revista_19151206.pdf\n",
      "2023-08-16 12:41:05 - INFO - embedding.py - _compute_cross_language: Computing embedding for document Revista_19160107.pdf\n",
      "2023-08-16 12:41:05 - INFO - embedding.py - _compute_cross_language: Computing embedding for document Revista_19160108.pdf\n",
      "2023-08-16 12:41:05 - INFO - embedding.py - _compute_cross_language: Computing embedding for document Revista_19160209.pdf\n",
      "2023-08-16 12:41:05 - INFO - embedding.py - _compute_cross_language: Computing embedding for document Revista_19160210.pdf\n",
      "2023-08-16 12:41:06 - INFO - embedding.py - _compute_cross_language: Computing embedding for document Revista_19160311.pdf\n",
      "2023-08-16 12:41:06 - INFO - embedding.py - _compute_cross_language: Computing embedding for document Revista_19160312.pdf\n",
      "2023-08-16 12:41:06 - INFO - embedding.py - _compute_cross_language: Computing embedding for document Revista_19160313.pdf\n",
      "2023-08-16 12:41:06 - INFO - embedding.py - _compute_cross_language: Computing embedding for document Revista_19160414.pdf\n",
      "2023-08-16 12:41:07 - INFO - embedding.py - _compute_cross_language: Computing embedding for document Revista_19160515.pdf\n",
      "2023-08-16 12:41:07 - INFO - embedding.py - _compute_cross_language: Computing embedding for document Revista_19160516.pdf\n",
      "2023-08-16 12:41:07 - INFO - embedding.py - _compute_cross_language: Computing embedding for document Revista_19160617.pdf\n",
      "2023-08-16 12:41:07 - INFO - embedding.py - _compute_cross_language: Computing embedding for document Revista_19160618.pdf\n",
      "2023-08-16 12:41:08 - INFO - embedding.py - _compute_cross_language: Computing embedding for document Revista_19160719.pdf\n",
      "2023-08-16 12:41:08 - INFO - embedding.py - _compute_cross_language: Computing embedding for document Revista_19160720.pdf\n",
      "2023-08-16 12:41:08 - INFO - embedding.py - _compute_cross_language: Computing embedding for document Revista_19160821.pdf\n",
      "2023-08-16 12:41:08 - INFO - embedding.py - _compute_cross_language: Computing embedding for document Revista_19160822.pdf\n",
      "2023-08-16 12:41:08 - INFO - embedding.py - _compute_cross_language: Computing embedding for document Revista_19160923.pdf\n",
      "2023-08-16 12:41:09 - INFO - embedding.py - _compute_cross_language: Computing embedding for document Revista_19160924.pdf\n",
      "2023-08-16 12:41:09 - INFO - embedding.py - _compute_cross_language: Computing embedding for document Revista_19161025.pdf\n",
      "2023-08-16 12:41:09 - INFO - embedding.py - _compute_cross_language: Computing embedding for document Revista_19161026.pdf\n",
      "2023-08-16 12:41:09 - INFO - embedding.py - _compute_cross_language: Computing embedding for document Revista_19161127.pdf\n",
      "2023-08-16 12:41:09 - INFO - embedding.py - _compute_cross_language: Computing embedding for document Revista_19161128.pdf\n",
      "2023-08-16 12:41:10 - INFO - embedding.py - _compute_cross_language: Computing embedding for document Revista_19161229.pdf\n",
      "2023-08-16 12:41:10 - INFO - embedding.py - _compute_cross_language: Computing embedding for document Revista_19170130.pdf\n",
      "2023-08-16 12:41:10 - INFO - embedding.py - _compute_cross_language: Computing embedding for document Revista_19170131.pdf\n",
      "2023-08-16 12:41:10 - INFO - embedding.py - _compute_cross_language: Computing embedding for document Revista_19170132.pdf\n",
      "2023-08-16 12:41:11 - INFO - embedding.py - _compute_cross_language: Computing embedding for document Revista_19170233.pdf\n",
      "2023-08-16 12:41:11 - INFO - embedding.py - _compute_cross_language: Computing embedding for document Revista_19170334.pdf\n",
      "2023-08-16 12:41:11 - INFO - embedding.py - _compute_cross_language: Computing embedding for document Revista_19170335.pdf\n",
      "2023-08-16 12:41:11 - INFO - embedding.py - _compute_cross_language: Computing embedding for document Revista_19170436.pdf\n",
      "2023-08-16 12:41:11 - INFO - embedding.py - _compute_cross_language: Computing embedding for document Revista_19170437.pdf\n",
      "2023-08-16 12:41:12 - INFO - embedding.py - _compute_cross_language: Computing embedding for document Revista_19170438.pdf\n",
      "2023-08-16 12:41:12 - INFO - embedding.py - _compute_cross_language: Computing embedding for document Revista_19170539.pdf\n",
      "2023-08-16 12:41:12 - INFO - embedding.py - _compute_cross_language: Computing embedding for document Revista_19170540.pdf\n",
      "2023-08-16 12:41:12 - INFO - embedding.py - _compute_cross_language: Computing embedding for document Revista_19170641.pdf\n",
      "2023-08-16 12:41:13 - INFO - embedding.py - _compute_cross_language: Computing embedding for document Revista_19170642.pdf\n",
      "2023-08-16 12:41:13 - INFO - embedding.py - _compute_cross_language: Computing embedding for document Revista_19170743.pdf\n",
      "2023-08-16 12:41:13 - INFO - embedding.py - _compute_cross_language: Computing embedding for document Revista_19170744.pdf\n",
      "2023-08-16 12:41:13 - INFO - embedding.py - _compute_cross_language: Computing embedding for document Revista_19170845.pdf\n",
      "2023-08-16 12:41:13 - INFO - embedding.py - _compute_cross_language: Computing embedding for document Revista_19170846.pdf\n",
      "2023-08-16 12:41:14 - INFO - embedding.py - _compute_cross_language: Computing embedding for document Revista_19170947.pdf\n",
      "2023-08-16 12:41:14 - INFO - embedding.py - _compute_cross_language: Computing embedding for document Revista_19170948.pdf\n",
      "2023-08-16 12:41:14 - INFO - embedding.py - _compute_cross_language: Computing embedding for document Revista_19171049.pdf\n",
      "2023-08-16 12:41:14 - INFO - embedding.py - _compute_cross_language: Computing embedding for document Revista_19171050.pdf\n",
      "2023-08-16 12:41:15 - INFO - embedding.py - _compute_cross_language: Computing embedding for document Revista_19171151.pdf\n",
      "2023-08-16 12:41:15 - INFO - embedding.py - _compute_cross_language: Computing embedding for document Revista_19171152.pdf\n",
      "2023-08-16 12:41:15 - INFO - embedding.py - _compute_cross_language: Computing embedding for document Revista_19171253.pdf\n",
      "2023-08-16 12:41:15 - INFO - embedding.py - _compute_cross_language: Computing embedding for document Revista_19171254.pdf\n",
      "2023-08-16 12:41:15 - INFO - embedding.py - _compute_cross_language: Computing embedding for document Revista_19180155.pdf\n",
      "2023-08-16 12:41:16 - INFO - embedding.py - _compute_cross_language: Computing embedding for document Revista_19180156.pdf\n",
      "2023-08-16 12:41:16 - INFO - embedding.py - _compute_cross_language: Computing embedding for document Revista_19180257.pdf\n",
      "2023-08-16 12:41:16 - INFO - embedding.py - _compute_cross_language: Computing embedding for document Revista_19180258.pdf\n",
      "2023-08-16 12:41:16 - INFO - embedding.py - _compute_cross_language: Computing embedding for document Revista_19180359.pdf\n",
      "2023-08-16 12:41:16 - INFO - embedding.py - _compute_cross_language: Computing embedding for document Revista_19180360.pdf\n",
      "2023-08-16 12:41:17 - INFO - embedding.py - _compute_cross_language: Computing embedding for document Revista_19180461.pdf\n",
      "2023-08-16 12:41:17 - INFO - embedding.py - _compute_cross_language: Computing embedding for document Revista_19180462.pdf\n",
      "2023-08-16 12:41:17 - INFO - embedding.py - _compute_cross_language: Computing embedding for document Revista_19180563.pdf\n",
      "2023-08-16 12:41:17 - INFO - embedding.py - _compute_cross_language: Computing embedding for document Revista_19180564.pdf\n",
      "2023-08-16 12:41:18 - INFO - embedding.py - _compute_cross_language: Computing embedding for document Revista_19180665.pdf\n",
      "2023-08-16 12:41:18 - INFO - embedding.py - _compute_cross_language: Computing embedding for document Revista_19180666.pdf\n",
      "2023-08-16 12:41:18 - INFO - embedding.py - _compute_cross_language: Computing embedding for document Revista_19180767.pdf\n",
      "2023-08-16 12:41:18 - INFO - embedding.py - _compute_cross_language: Computing embedding for document Revista_19180768.pdf\n",
      "2023-08-16 12:41:18 - INFO - embedding.py - _compute_cross_language: Computing embedding for document Revista_19180869.pdf\n",
      "2023-08-16 12:41:19 - INFO - embedding.py - _compute_cross_language: Computing embedding for document Revista_19180870.pdf\n",
      "2023-08-16 12:41:19 - INFO - embedding.py - _compute_cross_language: Computing embedding for document Revista_19180971.pdf\n",
      "2023-08-16 12:41:19 - INFO - embedding.py - _compute_cross_language: Computing embedding for document Revista_19180972.pdf\n",
      "2023-08-16 12:41:19 - INFO - embedding.py - _compute_cross_language: Computing embedding for document Revista_19181073.pdf\n",
      "2023-08-16 12:41:20 - INFO - embedding.py - _compute_cross_language: Computing embedding for document Revista_19181074.pdf\n",
      "2023-08-16 12:41:20 - INFO - embedding.py - _compute_cross_language: Computing embedding for document Revista_19181175.pdf\n",
      "2023-08-16 12:41:20 - INFO - embedding.py - _compute_cross_language: Computing embedding for document Revista_19181176.pdf\n",
      "2023-08-16 12:41:20 - INFO - embedding.py - _compute_cross_language: Computing embedding for document Revista_19181277.pdf\n",
      "2023-08-16 12:41:20 - INFO - embedding.py - _compute_cross_language: Computing embedding for document Revista_19181278.pdf\n",
      "2023-08-16 12:41:21 - INFO - embedding.py - _compute_cross_language: Computing embedding for document Revista_19190179.pdf\n",
      "2023-08-16 12:41:21 - INFO - embedding.py - _compute_cross_language: Computing embedding for document Revista_19190180.pdf\n",
      "2023-08-16 12:41:21 - INFO - embedding.py - _compute_cross_language: Computing embedding for document Revista_19190281.pdf\n",
      "2023-08-16 12:41:21 - INFO - embedding.py - _compute_cross_language: Computing embedding for document Revista_19190282.pdf\n",
      "2023-08-16 12:41:22 - INFO - embedding.py - _compute_cross_language: Computing embedding for document Revista_19190383.pdf\n",
      "2023-08-16 12:41:22 - INFO - embedding.py - _compute_cross_language: Computing embedding for document Revista_19190384.pdf\n",
      "2023-08-16 12:41:22 - INFO - embedding.py - _compute_cross_language: Computing embedding for document Revista_19190585-86-87.pdf\n",
      "2023-08-16 12:41:22 - INFO - embedding.py - _compute_cross_language: Computing embedding for document Revista_19190588.pdf\n",
      "2023-08-16 12:41:22 - INFO - embedding.py - _compute_cross_language: Computing embedding for document Revista_19190689.pdf\n",
      "2023-08-16 12:41:23 - INFO - embedding.py - _compute_cross_language: Computing embedding for document Revista_19190690.pdf\n",
      "2023-08-16 12:41:23 - INFO - embedding.py - _compute_cross_language: Computing embedding for document Revista_19190791.pdf\n",
      "2023-08-16 12:41:23 - INFO - embedding.py - _compute_cross_language: Computing embedding for document Revista_19190792.pdf\n",
      "2023-08-16 12:41:23 - INFO - embedding.py - _compute_cross_language: Computing embedding for document Revista_19190893.pdf\n",
      "2023-08-16 12:41:24 - INFO - embedding.py - _compute_cross_language: Computing embedding for document Revista_19190894.pdf\n",
      "2023-08-16 12:41:24 - INFO - embedding.py - _compute_cross_language: Computing embedding for document Revista_19190995.pdf\n",
      "2023-08-16 12:41:24 - INFO - embedding.py - _compute_cross_language: Computing embedding for document Revista_19190996.pdf\n",
      "2023-08-16 12:41:24 - INFO - embedding.py - _compute_cross_language: Computing embedding for document Revista_19191097.pdf\n",
      "2023-08-16 12:41:24 - INFO - embedding.py - _compute_cross_language: Computing embedding for document Revista_19191098.pdf\n",
      "2023-08-16 12:41:25 - INFO - embedding.py - _compute_cross_language: Computing embedding for document Revista_19191199.pdf\n",
      "2023-08-16 12:41:25 - INFO - embedding.py - _compute_cross_language: Computing embedding for document Revista_191912100-101.pdf\n",
      "2023-08-16 12:41:25 - INFO - embedding.py - _compute_cross_language: Computing embedding for document Revista_191912102.pdf\n",
      "2023-08-16 12:41:25 - INFO - embedding.py - _compute_cross_language: Computing embedding for document Revista_192001103-106.pdf\n",
      "2023-08-16 12:41:25 - INFO - embedding.py - _compute_cross_language: Computing embedding for document Revista_192003107.pdf\n",
      "2023-08-16 12:41:26 - INFO - embedding.py - _compute_cross_language: Computing embedding for document Revista_192003108.pdf\n",
      "2023-08-16 12:41:26 - INFO - embedding.py - _compute_cross_language: Computing embedding for document Revista_192004109.pdf\n",
      "2023-08-16 12:41:26 - INFO - embedding.py - _compute_cross_language: Computing embedding for document Revista_192004110.pdf\n",
      "2023-08-16 12:41:26 - INFO - embedding.py - _compute_cross_language: Computing embedding for document Revista_192005111.pdf\n",
      "2023-08-16 12:41:27 - INFO - embedding.py - _compute_cross_language: Computing embedding for document Revista_192005112.pdf\n",
      "2023-08-16 12:41:27 - INFO - embedding.py - _compute_cross_language: Computing embedding for document Revista_192006113.pdf\n",
      "2023-08-16 12:41:27 - INFO - embedding.py - _compute_cross_language: Computing embedding for document Revista_192006114.pdf\n",
      "2023-08-16 12:41:27 - INFO - embedding.py - _compute_cross_language: Computing embedding for document Revista_192007115.pdf\n",
      "2023-08-16 12:41:28 - INFO - embedding.py - _compute_cross_language: Computing embedding for document Revista_192007116.pdf\n",
      "2023-08-16 12:41:28 - INFO - embedding.py - _compute_cross_language: Computing embedding for document Revista_192008117.pdf\n",
      "2023-08-16 12:41:28 - INFO - embedding.py - _compute_cross_language: Computing embedding for document Revista_192008118.pdf\n",
      "2023-08-16 12:41:28 - INFO - embedding.py - _compute_cross_language: Computing embedding for document Revista_192009119.pdf\n",
      "2023-08-16 12:41:28 - INFO - embedding.py - _compute_cross_language: Computing embedding for document Revista_192009120.pdf\n",
      "2023-08-16 12:41:29 - INFO - embedding.py - _compute_cross_language: Computing embedding for document Revista_192010121.pdf\n",
      "2023-08-16 12:41:29 - INFO - embedding.py - _compute_cross_language: Computing embedding for document Revista_192010122.pdf\n",
      "2023-08-16 12:41:29 - INFO - embedding.py - _compute_cross_language: Computing embedding for document Revista_192011123.pdf\n",
      "2023-08-16 12:41:29 - INFO - embedding.py - _compute_cross_language: Computing embedding for document Revista_192011124.pdf\n",
      "2023-08-16 12:41:30 - INFO - embedding.py - _compute_cross_language: Computing embedding for document Revista_192012125.pdf\n",
      "2023-08-16 12:41:30 - INFO - embedding.py - _compute_cross_language: Computing embedding for document Revista_192012126.pdf\n",
      "2023-08-16 12:41:30 - INFO - embedding.py - _compute_cross_language: Computing embedding for document Revista_192101127.pdf\n",
      "2023-08-16 12:41:30 - INFO - embedding.py - _compute_cross_language: Computing embedding for document Revista_192101127extraordinari.pdf\n",
      "2023-08-16 12:41:30 - INFO - embedding.py - _compute_cross_language: Computing embedding for document Revista_192101128.pdf\n",
      "2023-08-16 12:41:31 - INFO - embedding.py - _compute_cross_language: Computing embedding for document Revista_192102129-130.pdf\n",
      "2023-08-16 12:41:31 - INFO - embedding.py - _compute_cross_language: Computing embedding for document Revista_192103131.pdf\n",
      "2023-08-16 12:41:31 - INFO - embedding.py - _compute_cross_language: Computing embedding for document Revista_192103132.pdf\n",
      "2023-08-16 12:41:31 - INFO - embedding.py - _compute_cross_language: Computing embedding for document Revista_192104133.pdf\n",
      "2023-08-16 12:41:32 - INFO - embedding.py - _compute_cross_language: Computing embedding for document Revista_192104134.pdf\n",
      "2023-08-16 12:41:32 - INFO - embedding.py - _compute_cross_language: Computing embedding for document Revista_192105135.pdf\n",
      "2023-08-16 12:41:32 - INFO - embedding.py - _compute_cross_language: Computing embedding for document Revista_192105136.pdf\n",
      "2023-08-16 12:41:32 - INFO - embedding.py - _compute_cross_language: Computing embedding for document Revista_192106137.pdf\n",
      "2023-08-16 12:41:33 - INFO - embedding.py - _compute_cross_language: Computing embedding for document Revista_192106138.pdf\n",
      "2023-08-16 12:41:33 - INFO - embedding.py - _compute_cross_language: Computing embedding for document Revista_192107139.pdf\n",
      "2023-08-16 12:41:33 - INFO - embedding.py - _compute_cross_language: Computing embedding for document Revista_192107140.pdf\n",
      "2023-08-16 12:41:33 - INFO - embedding.py - _compute_cross_language: Computing embedding for document Revista_192108141.pdf\n",
      "2023-08-16 12:41:33 - INFO - embedding.py - _compute_cross_language: Computing embedding for document Revista_192108142.pdf\n",
      "2023-08-16 12:41:34 - INFO - embedding.py - _compute_cross_language: Computing embedding for document Revista_192109143.pdf\n",
      "2023-08-16 12:41:34 - INFO - embedding.py - _compute_cross_language: Computing embedding for document Revista_192109144.pdf\n",
      "2023-08-16 12:41:34 - INFO - embedding.py - _compute_cross_language: Computing embedding for document Revista_192110145.pdf\n",
      "2023-08-16 12:41:34 - INFO - embedding.py - _compute_cross_language: Computing embedding for document Revista_192110146-147.pdf\n",
      "2023-08-16 12:41:35 - INFO - embedding.py - _compute_cross_language: Computing embedding for document Revista_192111148.pdf\n",
      "2023-08-16 12:41:35 - INFO - embedding.py - _compute_cross_language: Computing embedding for document Revista_192112149-150.pdf\n",
      "2023-08-16 12:41:35 - INFO - embedding.py - _compute_cross_language: Computing embedding for document Revista_192201151-152.pdf\n",
      "2023-08-16 12:41:35 - INFO - embedding.py - _compute_cross_language: Computing embedding for document Revista_192202153-154.pdf\n",
      "2023-08-16 12:41:35 - INFO - embedding.py - _compute_cross_language: Computing embedding for document Revista_192203155-156.pdf\n",
      "2023-08-16 12:41:36 - INFO - embedding.py - _compute_cross_language: Computing embedding for document Revista_192204157-158.pdf\n",
      "2023-08-16 12:41:36 - INFO - embedding.py - _compute_cross_language: Computing embedding for document Revista_192205159-160.pdf\n",
      "2023-08-16 12:41:36 - INFO - embedding.py - _compute_cross_language: Computing embedding for document Revista_192206161-162.pdf\n",
      "2023-08-16 12:41:36 - INFO - embedding.py - _compute_cross_language: Computing embedding for document Revista_192207163-164.pdf\n",
      "2023-08-16 12:41:37 - INFO - embedding.py - _compute_cross_language: Computing embedding for document Revista_192208165-166.pdf\n",
      "2023-08-16 12:41:37 - INFO - embedding.py - _compute_cross_language: Computing embedding for document Revista_192209167-168.pdf\n",
      "2023-08-16 12:41:37 - INFO - embedding.py - _compute_cross_language: Computing embedding for document Revista_19221012169-174.pdf\n",
      "2023-08-16 12:41:37 - INFO - embedding.py - _compute_cross_language: Computing embedding for document Revista_192301175-176.pdf\n",
      "2023-08-16 12:41:37 - INFO - embedding.py - _compute_cross_language: Computing embedding for document Revista_192302177-178.pdf\n",
      "2023-08-16 12:41:38 - INFO - embedding.py - _compute_cross_language: Computing embedding for document Revista_192303179-180.pdf\n",
      "2023-08-16 12:41:38 - INFO - embedding.py - _compute_cross_language: Computing embedding for document Revista_192304181-182.pdf\n",
      "2023-08-16 12:41:38 - INFO - embedding.py - _compute_cross_language: Computing embedding for document Revista_192305183-184.pdf\n",
      "2023-08-16 12:41:38 - INFO - embedding.py - _compute_cross_language: Computing embedding for document Revista_192306185-186.pdf\n",
      "2023-08-16 12:41:39 - INFO - embedding.py - _compute_cross_language: Computing embedding for document Revista_192307187-188.pdf\n",
      "2023-08-16 12:41:39 - INFO - embedding.py - _compute_cross_language: Computing embedding for document Revista_192308189-190.pdf\n",
      "2023-08-16 12:41:39 - INFO - embedding.py - _compute_cross_language: Computing embedding for document Revista_192309191-192.pdf\n",
      "2023-08-16 12:41:39 - INFO - embedding.py - _compute_cross_language: Computing embedding for document Revista_19231012193-198.pdf\n",
      "2023-08-16 12:41:39 - INFO - embedding.py - _compute_cross_language: Computing embedding for document Revista_19240103199-204.pdf\n",
      "2023-08-16 12:41:40 - INFO - embedding.py - _compute_cross_language: Computing embedding for document Revista_19240406205-210.pdf\n",
      "2023-08-16 12:41:40 - INFO - embedding.py - _compute_cross_language: Computing embedding for document Revista_192407211-212.pdf\n",
      "2023-08-16 12:41:40 - INFO - embedding.py - _compute_cross_language: Computing embedding for document Revista_192408213-214.pdf\n",
      "2023-08-16 12:41:40 - INFO - embedding.py - _compute_cross_language: Computing embedding for document Revista_192409215-216.pdf\n",
      "2023-08-16 12:41:41 - INFO - embedding.py - _compute_cross_language: Computing embedding for document Revista_192410217-218.pdf\n",
      "2023-08-16 12:41:41 - INFO - embedding.py - _compute_cross_language: Computing embedding for document Revista_192411219-220.pdf\n",
      "2023-08-16 12:41:41 - INFO - embedding.py - _compute_cross_language: Computing embedding for document Revista_192412221-222.pdf\n",
      "2023-08-16 12:41:41 - INFO - embedding.py - _compute_cross_language: Computing embedding for document Revista_192501223.pdf\n",
      "2023-08-16 12:41:41 - INFO - embedding.py - _compute_cross_language: Computing embedding for document Revista_192501224.pdf\n",
      "2023-08-16 12:41:42 - INFO - embedding.py - _compute_cross_language: Computing embedding for document Revista_192502225.pdf\n",
      "2023-08-16 12:41:42 - INFO - embedding.py - _compute_cross_language: Computing embedding for document Revista_192502226.pdf\n",
      "2023-08-16 12:41:42 - INFO - embedding.py - _compute_cross_language: Computing embedding for document Revista_192503227.pdf\n",
      "2023-08-16 12:41:42 - INFO - embedding.py - _compute_cross_language: Computing embedding for document Revista_192503228.pdf\n",
      "2023-08-16 12:41:43 - INFO - embedding.py - _compute_cross_language: Computing embedding for document Revista_192504229.pdf\n",
      "2023-08-16 12:41:43 - INFO - embedding.py - _compute_cross_language: Computing embedding for document Revista_192504230.pdf\n",
      "2023-08-16 12:41:43 - INFO - embedding.py - _compute_cross_language: Computing embedding for document Revista_192505231.pdf\n",
      "2023-08-16 12:41:43 - INFO - embedding.py - _compute_cross_language: Computing embedding for document Revista_192505232.pdf\n",
      "2023-08-16 12:41:44 - INFO - embedding.py - _compute_cross_language: Computing embedding for document Revista_192506233.pdf\n",
      "2023-08-16 12:41:44 - INFO - embedding.py - _compute_cross_language: Computing embedding for document Revista_192506234.pdf\n",
      "2023-08-16 12:41:44 - INFO - embedding.py - _compute_cross_language: Computing embedding for document Revista_192507235.pdf\n",
      "2023-08-16 12:41:44 - INFO - embedding.py - _compute_cross_language: Computing embedding for document Revista_19251012241-246.pdf\n",
      "2023-08-16 12:41:44 - INFO - embedding.py - _compute_cross_language: Computing embedding for document Revista_1926.pdf\n",
      "2023-08-16 12:41:45 - INFO - embedding.py - _compute_cross_language: Computing embedding for document Revista_192701-06.pdf\n",
      "2023-08-16 12:41:45 - INFO - embedding.py - _compute_cross_language: Computing embedding for document Revista_192707-12.pdf\n",
      "2023-08-16 12:41:45 - INFO - embedding.py - _compute_cross_language: Computing embedding for document Revista_192801-06.pdf\n",
      "2023-08-16 12:41:45 - INFO - embedding.py - _compute_cross_language: Computing embedding for document Revista_192807-12.pdf\n",
      "2023-08-16 12:41:46 - INFO - embedding.py - _compute_cross_language: Computing embedding for document Revista_192901-06.pdf\n",
      "2023-08-16 12:41:46 - INFO - embedding.py - _compute_cross_language: Computing embedding for document Revista_192907-12.pdf\n",
      "2023-08-16 12:41:46 - INFO - embedding.py - _compute_cross_language: Computing embedding for document Revista_193001-06.pdf\n",
      "2023-08-16 12:41:47 - INFO - embedding.py - _compute_cross_language: Computing embedding for document Revista_193007-12.pdf\n",
      "2023-08-16 12:41:47 - INFO - embedding.py - _compute_cross_language: Computing embedding for document Revista_193101-06.pdf\n",
      "2023-08-16 12:41:47 - INFO - embedding.py - _compute_cross_language: Computing embedding for document Revista_193107-12.pdf\n",
      "2023-08-16 12:41:47 - INFO - embedding.py - _compute_cross_language: Computing embedding for document Revista_193201-06.pdf\n",
      "2023-08-16 12:41:48 - INFO - embedding.py - _compute_cross_language: Computing embedding for document Revista_193207-12.pdf\n",
      "2023-08-16 12:41:48 - INFO - embedding.py - _compute_cross_language: Computing embedding for document Revista_193301-06.pdf\n",
      "2023-08-16 12:41:48 - INFO - embedding.py - _compute_cross_language: Computing embedding for document Revista_193307-12.pdf\n",
      "2023-08-16 12:41:49 - INFO - embedding.py - _compute_cross_language: Computing embedding for document Revista_193401-06.pdf\n",
      "2023-08-16 12:41:49 - INFO - embedding.py - _compute_cross_language: Computing embedding for document Revista_193407-12.pdf\n",
      "2023-08-16 12:41:49 - INFO - embedding.py - _compute_cross_language: Computing embedding for document Revista_193501-06.pdf\n",
      "2023-08-16 12:41:50 - INFO - embedding.py - _compute_cross_language: Computing embedding for document Revista_193507-12.pdf\n",
      "2023-08-16 12:41:50 - INFO - embedding.py - _compute_cross_language: Computing embedding for document Revista_193601-06.pdf\n",
      "2023-08-16 12:41:50 - INFO - embedding.py - _compute_cross_language: Computing embedding for document Revista nova_19140401.pdf\n",
      "2023-08-16 12:41:50 - INFO - embedding.py - _compute_cross_language: Computing embedding for document Revista nova_19140402.pdf\n",
      "2023-08-16 12:41:51 - INFO - embedding.py - _compute_cross_language: Computing embedding for document Revista nova_19140403.pdf\n",
      "2023-08-16 12:41:51 - INFO - embedding.py - _compute_cross_language: Computing embedding for document Revista nova_19140504.pdf\n",
      "2023-08-16 12:41:51 - INFO - embedding.py - _compute_cross_language: Computing embedding for document Revista nova_19140505.pdf\n",
      "2023-08-16 12:41:51 - INFO - embedding.py - _compute_cross_language: Computing embedding for document Revista nova_19140506.pdf\n",
      "2023-08-16 12:41:51 - INFO - embedding.py - _compute_cross_language: Computing embedding for document Revista nova_19140507.pdf\n",
      "2023-08-16 12:41:52 - INFO - embedding.py - _compute_cross_language: Computing embedding for document Revista nova_19140508.pdf\n",
      "2023-08-16 12:41:52 - INFO - embedding.py - _compute_cross_language: Computing embedding for document Revista nova_19140609.pdf\n",
      "2023-08-16 12:41:52 - INFO - embedding.py - _compute_cross_language: Computing embedding for document Revista nova_19140610.pdf\n",
      "2023-08-16 12:41:52 - INFO - embedding.py - _compute_cross_language: Computing embedding for document Revista nova_19140611.pdf\n",
      "2023-08-16 12:41:53 - INFO - embedding.py - _compute_cross_language: Computing embedding for document Revista nova_19140612.pdf\n",
      "2023-08-16 12:41:53 - INFO - embedding.py - _compute_cross_language: Computing embedding for document Revista nova_19140713.pdf\n",
      "2023-08-16 12:41:53 - INFO - embedding.py - _compute_cross_language: Computing embedding for document Revista nova_19140714.pdf\n",
      "2023-08-16 12:41:53 - INFO - embedding.py - _compute_cross_language: Computing embedding for document Revista nova_19140715.pdf\n",
      "2023-08-16 12:41:53 - INFO - embedding.py - _compute_cross_language: Computing embedding for document Revista nova_19140716.pdf\n",
      "2023-08-16 12:41:54 - INFO - embedding.py - _compute_cross_language: Computing embedding for document Revista nova_19140717.pdf\n",
      "2023-08-16 12:41:54 - INFO - embedding.py - _compute_cross_language: Computing embedding for document Revista nova_19140818.pdf\n",
      "2023-08-16 12:41:54 - INFO - embedding.py - _compute_cross_language: Computing embedding for document Revista nova_19140819.pdf\n",
      "2023-08-16 12:41:54 - INFO - embedding.py - _compute_cross_language: Computing embedding for document Revista nova_19140820.pdf\n",
      "2023-08-16 12:41:55 - INFO - embedding.py - _compute_cross_language: Computing embedding for document Revista nova_19140821.pdf\n",
      "2023-08-16 12:41:55 - INFO - embedding.py - _compute_cross_language: Computing embedding for document Revista nova_19140922.pdf\n",
      "2023-08-16 12:41:55 - INFO - embedding.py - _compute_cross_language: Computing embedding for document Revista nova_19140923.pdf\n",
      "2023-08-16 12:41:55 - INFO - embedding.py - _compute_cross_language: Computing embedding for document Revista nova_19140924.pdf\n",
      "2023-08-16 12:41:55 - INFO - embedding.py - _compute_cross_language: Computing embedding for document Revista nova_19140925.pdf\n",
      "2023-08-16 12:41:56 - INFO - embedding.py - _compute_cross_language: Computing embedding for document Revista nova_19141026.pdf\n",
      "2023-08-16 12:41:56 - INFO - embedding.py - _compute_cross_language: Computing embedding for document Revista nova_19141027.pdf\n",
      "2023-08-16 12:41:56 - INFO - embedding.py - _compute_cross_language: Computing embedding for document Revista nova_19141028.pdf\n",
      "2023-08-16 12:41:56 - INFO - embedding.py - _compute_cross_language: Computing embedding for document Revista nova_19141029.pdf\n",
      "2023-08-16 12:41:56 - INFO - embedding.py - _compute_cross_language: Computing embedding for document Revista nova_19141030.pdf\n"
     ]
    },
    {
     "name": "stderr",
     "output_type": "stream",
     "text": [
      "/home/jovyan/work/src/models/embedding.py:431: FutureWarning: The default dtype for empty Series will be 'object' instead of 'float64' in a future version. Specify a dtype explicitly to silence this warning.\n",
      "  split_words = pd.Series(row[split_column])\n"
     ]
    },
    {
     "name": "stdout",
     "output_type": "stream",
     "text": [
      "2023-08-16 12:41:57 - INFO - embedding.py - _compute_cross_language: Computing embedding for document Revista nova_19141131.pdf\n",
      "2023-08-16 12:41:57 - INFO - embedding.py - _compute_cross_language: Computing embedding for document Revista nova_19160532.pdf\n",
      "2023-08-16 12:41:57 - INFO - embedding.py - _compute_cross_language: Computing embedding for document Revista nova_19160533.pdf\n",
      "2023-08-16 12:41:57 - INFO - embedding.py - _compute_cross_language: Computing embedding for document Revista nova_19160634.pdf\n",
      "2023-08-16 12:41:58 - INFO - embedding.py - _compute_cross_language: Computing embedding for document Revista nova_19160635.pdf\n",
      "2023-08-16 12:41:58 - INFO - embedding.py - _compute_cross_language: Computing embedding for document Revista nova_19160736.pdf\n",
      "2023-08-16 12:41:58 - INFO - embedding.py - _compute_cross_language: Computing embedding for document Revista nova_19160737.pdf\n",
      "2023-08-16 12:41:58 - INFO - embedding.py - _compute_cross_language: Computing embedding for document Revista nova_19160838.pdf\n",
      "2023-08-16 12:41:58 - INFO - embedding.py - _compute_cross_language: Computing embedding for document Revista nova_19160839.pdf\n",
      "2023-08-16 12:41:59 - INFO - embedding.py - _compute_cross_language: Computing embedding for document Revista nova_19160940.pdf\n",
      "2023-08-16 12:41:59 - INFO - embedding.py - _compute_cross_language: Computing embedding for document Revista nova_19160941.pdf\n",
      "2023-08-16 12:41:59 - INFO - embedding.py - _compute_cross_language: Computing embedding for document Revista nova_19161042.pdf\n",
      "2023-08-16 12:41:59 - INFO - embedding.py - _compute_cross_language: Computing embedding for document Revista nova_19161043.pdf\n",
      "2023-08-16 12:42:00 - INFO - embedding.py - _compute_cross_language: Computing embedding for document Revista nova_19161144.pdf\n",
      "2023-08-16 12:42:00 - INFO - embedding.py - _compute_cross_language: Computing embedding for document Revista nova_19161245.pdf\n",
      "2023-08-16 12:42:00 - INFO - embedding.py - _compute_cross_language: Computing embedding for document Revista nova_19170146.pdf\n",
      "2023-08-16 12:42:00 - INFO - embedding.py - compute_doc_embeddings: Done\n"
     ]
    }
   ],
   "source": [
    "multilingual_embedder = embedding_model.Embedder(\n",
    "    multilingual_corpus_df, \n",
    "    embedding_type=multilingual, \n",
    "    weight_by_tfidf=True, \n",
    "    tfidf_method=tfidf_by_language)\n",
    "\n",
    "multilingual_embedder.compute_doc_embeddings()"
   ]
  },
  {
   "cell_type": "markdown",
   "id": "4ed03957-af05-40a3-8cbe-138f9c30ac43",
   "metadata": {},
   "source": [
    "#### Separate languages"
   ]
  },
  {
   "cell_type": "code",
   "execution_count": null,
   "id": "de6e03fe-f583-4ded-8730-0eedc0e892c4",
   "metadata": {
    "scrolled": true
   },
   "outputs": [
    {
     "name": "stdout",
     "output_type": "stream",
     "text": [
      "2023-08-16 12:42:00 - INFO - embedding.py - __init__: Running embedding type 'separate_languages'...\n",
      "2023-08-16 12:42:07 - INFO - embedding.py - compute_word_relevances: Running by_language for language 'ca'\n",
      "2023-08-16 12:42:07 - INFO - embedding.py - _apply_tfidf: Running TF-IDF...\n",
      "2023-08-16 12:42:10 - INFO - embedding.py - _apply_tfidf: Done.\n",
      "2023-08-16 12:42:10 - INFO - embedding.py - compute_word_relevances: Running by_language for language 'en'\n",
      "2023-08-16 12:42:10 - INFO - embedding.py - _apply_tfidf: Running TF-IDF...\n",
      "2023-08-16 12:42:10 - INFO - embedding.py - _apply_tfidf: Done.\n",
      "2023-08-16 12:42:10 - INFO - embedding.py - compute_word_relevances: Running by_language for language 'es'\n",
      "2023-08-16 12:42:10 - INFO - embedding.py - _apply_tfidf: Running TF-IDF...\n"
     ]
    }
   ],
   "source": [
    "sep_lang_embedder = embedding_model.Embedder(\n",
    "    sep_lang_corpus_df, \n",
    "    embedding_type=separate_languages,\n",
    "    weight_by_tfidf=True, \n",
    "    tfidf_method=tfidf_by_language)\n",
    "\n",
    "sep_lang_embedder.compute_doc_embeddings()"
   ]
  },
  {
   "cell_type": "markdown",
   "id": "2d788f45-c776-4620-88a2-449c7c5df920",
   "metadata": {},
   "source": [
    "#### Multilingual transformer"
   ]
  },
  {
   "cell_type": "code",
   "execution_count": null,
   "id": "6880efe9-2922-402d-9563-0985107a6a47",
   "metadata": {},
   "outputs": [],
   "source": [
    "multilingual_transformer_embedder = embedding_model.Embedder(\n",
    "    multilingual_transformer_df, \n",
    "    embedding_type=multilingual_transformer,\n",
    "    weight_by_tfidf=True, \n",
    "    tfidf_method=tfidf_by_language)\n",
    "\n",
    "sep_lang_embedder.compute_doc_embeddings()"
   ]
  },
  {
   "cell_type": "markdown",
   "id": "a7d04c69-612c-4e80-8b60-fffb2aada0d3",
   "metadata": {},
   "source": [
    "## Tensorboard"
   ]
  },
  {
   "cell_type": "markdown",
   "id": "dc27494b-8c0e-4031-8913-5ebeeaebfdd8",
   "metadata": {},
   "source": [
    "#### Prepare data for Tensorboard"
   ]
  },
  {
   "cell_type": "code",
   "execution_count": null,
   "id": "8746d32d-e818-44c8-a764-1f4a32d9f641",
   "metadata": {},
   "outputs": [],
   "source": [
    "# Multilingual\n",
    "embeddings, doc_ids = [], []\n",
    "for doc_id, doc_embedding in multilingual_embedder.embeddings.items():\n",
    "    doc_ids.append(doc_id)\n",
    "    embeddings.append(doc_embedding)\n",
    "\n",
    "multilingual_metadata_df = multilingual_corpus_df \\\n",
    "    .set_index('doc_id').loc[doc_ids]\n",
    "multilingual_embeddings = np.array(embeddings)\n",
    "\n",
    "# Separate languages\n",
    "embeddings, doc_ids = [], []\n",
    "for doc_id, doc_embedding in sep_lang_embedder.embeddings.items():\n",
    "    doc_ids.append(doc_id)\n",
    "    embeddings.append(doc_embedding)\n",
    "\n",
    "sep_lang_metadata_df = sep_lang_corpus_df \\\n",
    "    .set_index('doc_id').loc[doc_ids]\n",
    "sep_lang_embeddings = np.array(embeddings)"
   ]
  },
  {
   "cell_type": "code",
   "execution_count": null,
   "id": "fd6c00ac-6b1f-439c-af61-e64dd901b948",
   "metadata": {},
   "outputs": [],
   "source": [
    "checkpoint = tf.train.Checkpoint(\n",
    "    multilingual_embeddings=tf.Variable(\n",
    "        multilingual_embeddings, name='multilingual_embeddings'),\n",
    "    separate_languages_embeddings=tf.Variable(\n",
    "        sep_lang_embeddings, name='separate_languages_embeddings')\n",
    ")\n",
    "\n",
    "checkpoint.save(os.path.join(logs_folder, f\"checkpoint_weighted_avg.ckpt\"))"
   ]
  },
  {
   "cell_type": "markdown",
   "id": "cb00fe49-fc97-4f3a-8ca0-e233857a4e20",
   "metadata": {},
   "source": [
    "#### Metadata"
   ]
  },
  {
   "cell_type": "code",
   "execution_count": null,
   "id": "5bbdbb06-a1c0-441c-88a5-b1b5134dcbfa",
   "metadata": {},
   "outputs": [],
   "source": [
    "# Metadata\n",
    "metadata_columns = [\n",
    "    'title',\n",
    "    'doc_id',\n",
    "    # 'langs',\n",
    "    # 'subject_labels',\n",
    "]\n",
    "\n",
    "load.create_embeddings_metadata(\n",
    "    multilingual_metadata_df.reset_index(), metadata_columns, \n",
    "    logs_folder, 'multilingual_embeddings.tsv')\n",
    "load.create_embeddings_metadata(\n",
    "    sep_lang_metadata_df.reset_index(), metadata_columns, \n",
    "    logs_folder, 'separate_languages_embeddings.tsv')"
   ]
  },
  {
   "cell_type": "markdown",
   "id": "4062729b-86c5-41fd-ba2c-730892021101",
   "metadata": {},
   "source": [
    "#### Configurate Tensorboard"
   ]
  },
  {
   "cell_type": "code",
   "execution_count": null,
   "id": "a024855d-a078-4e43-9e04-cb617ec0f2f1",
   "metadata": {},
   "outputs": [],
   "source": [
    "config = projector.ProjectorConfig()\n",
    "\n",
    "model_utils.add_embedding_to_projector_config(\n",
    "    config, 'multilingual_embeddings', 'multilingual_embeddings.tsv')\n",
    "model_utils.add_embedding_to_projector_config(\n",
    "    config, 'separate_languages_embeddings', \n",
    "    'separate_languages_embeddings.tsv')\n",
    "\n",
    "projector.visualize_embeddings(logs_folder, config)"
   ]
  },
  {
   "cell_type": "code",
   "execution_count": null,
   "id": "0f870767-5ccb-48c8-ab49-3ebf2ec80708",
   "metadata": {},
   "outputs": [],
   "source": []
  }
 ],
 "metadata": {
  "kernelspec": {
   "display_name": "metaglam",
   "language": "python",
   "name": "metaglam"
  },
  "language_info": {
   "codemirror_mode": {
    "name": "ipython",
    "version": 3
   },
   "file_extension": ".py",
   "mimetype": "text/x-python",
   "name": "python",
   "nbconvert_exporter": "python",
   "pygments_lexer": "ipython3",
   "version": "3.10.12"
  }
 },
 "nbformat": 4,
 "nbformat_minor": 5
}
