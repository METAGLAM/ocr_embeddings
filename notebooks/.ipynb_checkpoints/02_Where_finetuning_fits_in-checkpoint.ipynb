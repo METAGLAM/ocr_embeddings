{
 "cells": [
  {
   "cell_type": "markdown",
   "id": "6e42faf9-00ca-4a45-9d58-fe77d5ffb122",
   "metadata": {},
   "source": [
    "# Finetuning data: compare to pretraining and basic preparation"
   ]
  },
  {
   "cell_type": "code",
   "execution_count": null,
   "id": "8be9ecdc-6876-4cb6-8a01-3731e0eea0f5",
   "metadata": {},
   "outputs": [],
   "source": [
    "import jsonlines\n",
    "import itertools\n",
    "import pandas as pd\n",
    "from pprint import pprint\n",
    "\n",
    "import datasets\n",
    "from datasets import load_dataset"
   ]
  },
  {
   "cell_type": "markdown",
   "id": "87c3ebef-89c8-4861-b287-0a9891b10813",
   "metadata": {},
   "source": [
    "### Look at pretraining data set"
   ]
  },
  {
   "cell_type": "markdown",
   "id": "fe56b850-3251-49fa-9473-86d4b3812d5f",
   "metadata": {},
   "source": [
    "**Sorry**, \"The Pile\" dataset is currently relocating to a new home and so we can't show you the same example that is in the video. Here is another dataset, the [\"Common Crawl\"](https://huggingface.co/datasets/c4) dataset."
   ]
  },
  {
   "cell_type": "code",
   "execution_count": null,
   "id": "0331f913-fb07-481c-9663-85e3ad276f8e",
   "metadata": {},
   "outputs": [],
   "source": [
    "#pretrained_dataset = load_dataset(\"EleutherAI/pile\", split=\"train\", streaming=True)\n",
    "\n",
    "pretrained_dataset = load_dataset(\"c4\", \"en\", split=\"train\", streaming=True)"
   ]
  },
  {
   "cell_type": "code",
   "execution_count": null,
   "id": "6568ceaf-7e14-4314-8ed3-25a06f3eebec",
   "metadata": {},
   "outputs": [],
   "source": [
    "n = 5\n",
    "print(\"Pretrained dataset:\")\n",
    "top_n = itertools.islice(pretrained_dataset, n)\n",
    "for i in top_n:\n",
    "  print(i)"
   ]
  },
  {
   "cell_type": "markdown",
   "id": "9c0dc2f4-4a50-448e-a73c-879acff9954d",
   "metadata": {},
   "source": [
    "### Contrast with company finetuning dataset you will be using"
   ]
  },
  {
   "cell_type": "code",
   "execution_count": null,
   "id": "30885055-25bb-4dbe-b121-6cb1307a4146",
   "metadata": {},
   "outputs": [],
   "source": [
    "filename = \"lamini_docs.jsonl\"\n",
    "instruction_dataset_df = pd.read_json(filename, lines=True)\n",
    "instruction_dataset_df"
   ]
  },
  {
   "cell_type": "markdown",
   "id": "ff683fce-eba9-466b-aa74-ad92752c2d2f",
   "metadata": {},
   "source": [
    "### Various ways of formatting your data"
   ]
  },
  {
   "cell_type": "code",
   "execution_count": null,
   "id": "ccaf2355-02f8-40ca-83c9-875a96fe3ec8",
   "metadata": {},
   "outputs": [],
   "source": [
    "examples = instruction_dataset_df.to_dict()\n",
    "text = examples[\"question\"][0] + examples[\"answer\"][0]\n",
    "text"
   ]
  },
  {
   "cell_type": "code",
   "execution_count": null,
   "id": "137665ee-b13c-4334-b218-3ca4913907d5",
   "metadata": {},
   "outputs": [],
   "source": [
    "if \"question\" in examples and \"answer\" in examples:\n",
    "  text = examples[\"question\"][0] + examples[\"answer\"][0]\n",
    "elif \"instruction\" in examples and \"response\" in examples:\n",
    "  text = examples[\"instruction\"][0] + examples[\"response\"][0]\n",
    "elif \"input\" in examples and \"output\" in examples:\n",
    "  text = examples[\"input\"][0] + examples[\"output\"][0]\n",
    "else:\n",
    "  text = examples[\"text\"][0]"
   ]
  },
  {
   "cell_type": "code",
   "execution_count": null,
   "id": "45ebd487-8d70-411d-a998-de86bfdbd816",
   "metadata": {},
   "outputs": [],
   "source": [
    "prompt_template_qa = \"\"\"### Question:\n",
    "{question}\n",
    "\n",
    "### Answer:\n",
    "{answer}\"\"\""
   ]
  },
  {
   "cell_type": "code",
   "execution_count": null,
   "id": "c83ad291-54ce-4e9a-849d-cdd17aed8b41",
   "metadata": {},
   "outputs": [],
   "source": [
    "question = examples[\"question\"][0]\n",
    "answer = examples[\"answer\"][0]\n",
    "\n",
    "text_with_prompt_template = prompt_template_qa.format(question=question, answer=answer)\n",
    "text_with_prompt_template"
   ]
  },
  {
   "cell_type": "code",
   "execution_count": null,
   "id": "b5575c6f-fc38-443f-a5c5-aeeb2cd9450c",
   "metadata": {},
   "outputs": [],
   "source": [
    "prompt_template_q = \"\"\"### Question:\n",
    "{question}\n",
    "\n",
    "### Answer:\"\"\""
   ]
  },
  {
   "cell_type": "code",
   "execution_count": null,
   "id": "4529c702-aa62-4d1e-abd2-9465a61836e3",
   "metadata": {},
   "outputs": [],
   "source": [
    "num_examples = len(examples[\"question\"])\n",
    "finetuning_dataset_text_only = []\n",
    "finetuning_dataset_question_answer = []\n",
    "for i in range(num_examples):\n",
    "  question = examples[\"question\"][i]\n",
    "  answer = examples[\"answer\"][i]\n",
    "\n",
    "  text_with_prompt_template_qa = prompt_template_qa.format(question=question, answer=answer)\n",
    "  finetuning_dataset_text_only.append({\"text\": text_with_prompt_template_qa})\n",
    "\n",
    "  text_with_prompt_template_q = prompt_template_q.format(question=question)\n",
    "  finetuning_dataset_question_answer.append({\"question\": text_with_prompt_template_q, \"answer\": answer})"
   ]
  },
  {
   "cell_type": "code",
   "execution_count": null,
   "id": "1960583e-babd-47eb-a0ef-21f4402df873",
   "metadata": {},
   "outputs": [],
   "source": [
    "pprint(finetuning_dataset_text_only[0])"
   ]
  },
  {
   "cell_type": "code",
   "execution_count": null,
   "id": "c1b7ff97-c44b-46a2-9a1a-0ad6c53748c5",
   "metadata": {},
   "outputs": [],
   "source": [
    "pprint(finetuning_dataset_question_answer[0])"
   ]
  },
  {
   "cell_type": "code",
   "execution_count": null,
   "id": "f8868e32-21f9-4e70-bd21-e7219cd5d12f",
   "metadata": {},
   "outputs": [],
   "source": [
    "### Common ways of storing your data"
   ]
  },
  {
   "cell_type": "code",
   "execution_count": null,
   "id": "64c7bf10-b649-4c72-9cdc-d8e45d882e79",
   "metadata": {},
   "outputs": [],
   "source": [
    "with jsonlines.open(f'lamini_docs_processed.jsonl', 'w') as writer:\n",
    "    writer.write_all(finetuning_dataset_question_answer)"
   ]
  },
  {
   "cell_type": "code",
   "execution_count": null,
   "id": "66d8501d-1cfd-427f-ae8f-09f4cadb629b",
   "metadata": {},
   "outputs": [],
   "source": [
    "finetuning_dataset_name = \"lamini/lamini_docs\"\n",
    "finetuning_dataset = load_dataset(finetuning_dataset_name)\n",
    "print(finetuning_dataset)"
   ]
  },
  {
   "cell_type": "code",
   "execution_count": null,
   "id": "a756da53-7be6-4acf-a4df-8b7b29607f90",
   "metadata": {},
   "outputs": [],
   "source": []
  }
 ],
 "metadata": {
  "kernelspec": {
   "display_name": "Python 3 (ipykernel)",
   "language": "python",
   "name": "python3"
  },
  "language_info": {
   "codemirror_mode": {
    "name": "ipython",
    "version": 3
   },
   "file_extension": ".py",
   "mimetype": "text/x-python",
   "name": "python",
   "nbconvert_exporter": "python",
   "pygments_lexer": "ipython3",
   "version": "3.11.4"
  }
 },
 "nbformat": 4,
 "nbformat_minor": 5
}
